{
 "cells": [
  {
   "cell_type": "code",
   "execution_count": 1,
   "id": "25a62efa-a599-451d-9ee9-0a6ab1247e1e",
   "metadata": {},
   "outputs": [],
   "source": [
    "import pandas as pd"
   ]
  },
  {
   "cell_type": "code",
   "execution_count": 2,
   "id": "5233ebd7-f011-43d8-882a-9db70fb33b60",
   "metadata": {},
   "outputs": [],
   "source": [
    "import numpy as np"
   ]
  },
  {
   "cell_type": "code",
   "execution_count": 3,
   "id": "56a03a8a-f945-4a50-9dd0-50916d9d8019",
   "metadata": {},
   "outputs": [],
   "source": [
    "#Datayı ele almamızı sağlamaktadır"
   ]
  },
  {
   "cell_type": "code",
   "execution_count": 4,
   "id": "5b14ab8e-d7e5-481b-a45f-c0d5ca0cdc4f",
   "metadata": {},
   "outputs": [],
   "source": [
    "grades = {\"Atil\":50,\"James\":60,\"Lars\":30}"
   ]
  },
  {
   "cell_type": "code",
   "execution_count": 5,
   "id": "d653d354-e139-4b37-a86c-7a27b33309b0",
   "metadata": {},
   "outputs": [
    {
     "data": {
      "text/plain": [
       "Atil     50\n",
       "James    60\n",
       "Lars     30\n",
       "dtype: int64"
      ]
     },
     "execution_count": 5,
     "metadata": {},
     "output_type": "execute_result"
    }
   ],
   "source": [
    "pd.Series(grades)# bir seri yaratır ama biz genel olarak dataFrame ile çalışacağız "
   ]
  },
  {
   "cell_type": "code",
   "execution_count": 6,
   "id": "65cc8e0f-2311-4ac6-b6c9-c3d6d9aa6bca",
   "metadata": {},
   "outputs": [],
   "source": [
    "names = [\"Atil\",\"James\",\"Lars\"]\n",
    "grades = [50,60,70]"
   ]
  },
  {
   "cell_type": "code",
   "execution_count": 7,
   "id": "8c8aa113-0101-4419-a6fb-f8e1b2ed3eca",
   "metadata": {},
   "outputs": [
    {
     "data": {
      "text/plain": [
       "0     Atil\n",
       "1    James\n",
       "2     Lars\n",
       "dtype: object"
      ]
     },
     "execution_count": 7,
     "metadata": {},
     "output_type": "execute_result"
    }
   ],
   "source": [
    "pd.Series(names)\n"
   ]
  },
  {
   "cell_type": "code",
   "execution_count": 8,
   "id": "c2f6bd94-e02c-4f5b-bd3d-0d8fc3a4b7b1",
   "metadata": {},
   "outputs": [
    {
     "data": {
      "text/plain": [
       "0    50\n",
       "1    60\n",
       "2    70\n",
       "dtype: int64"
      ]
     },
     "execution_count": 8,
     "metadata": {},
     "output_type": "execute_result"
    }
   ],
   "source": [
    "pd.Series(grades)"
   ]
  },
  {
   "cell_type": "code",
   "execution_count": 9,
   "id": "db8d599d-73e0-4d35-8bec-ad8e778d06d4",
   "metadata": {},
   "outputs": [
    {
     "data": {
      "text/plain": [
       "50     Atil\n",
       "60    James\n",
       "70     Lars\n",
       "dtype: object"
      ]
     },
     "execution_count": 9,
     "metadata": {},
     "output_type": "execute_result"
    }
   ],
   "source": [
    "pd.Series(names,grades) "
   ]
  },
  {
   "cell_type": "code",
   "execution_count": 10,
   "id": "2f96211b-3ce3-4ded-ac0e-0e9ebf5c8bc8",
   "metadata": {},
   "outputs": [
    {
     "data": {
      "text/plain": [
       "Atil     50\n",
       "James    60\n",
       "Lars     70\n",
       "dtype: int64"
      ]
     },
     "execution_count": 10,
     "metadata": {},
     "output_type": "execute_result"
    }
   ],
   "source": [
    "pd.Series(data =grades,index=names)"
   ]
  },
  {
   "cell_type": "code",
   "execution_count": 11,
   "id": "16369acc-e2ec-4591-937b-59bc1164bd16",
   "metadata": {},
   "outputs": [],
   "source": [
    "#With numpy"
   ]
  },
  {
   "cell_type": "code",
   "execution_count": 12,
   "id": "05664b64-1d95-46c7-8bc7-5909a9b95cbb",
   "metadata": {},
   "outputs": [],
   "source": [
    "numpy_array = np.array([50,40,30,20])"
   ]
  },
  {
   "cell_type": "code",
   "execution_count": 13,
   "id": "f02fbdb3-a43e-4f3a-a9d3-32697b147223",
   "metadata": {},
   "outputs": [
    {
     "data": {
      "text/plain": [
       "0    50\n",
       "1    40\n",
       "2    30\n",
       "3    20\n",
       "dtype: int64"
      ]
     },
     "execution_count": 13,
     "metadata": {},
     "output_type": "execute_result"
    }
   ],
   "source": [
    "pd.Series(numpy_array)"
   ]
  },
  {
   "cell_type": "code",
   "execution_count": 14,
   "id": "bdae973e-a8db-47f7-8a2c-ae8fc12d58df",
   "metadata": {},
   "outputs": [],
   "source": [
    "contest_results = pd.Series(data= [10,5,100,10], index=[\"Atil\",\"James\",\"Lars\",\"Edip\"])"
   ]
  },
  {
   "cell_type": "code",
   "execution_count": 15,
   "id": "456cf4ec-ed8c-4cca-bce1-ebb96d457c60",
   "metadata": {},
   "outputs": [],
   "source": [
    "contest_results2 = pd.Series(data= [20,50,10,0], index=[\"Atil\",\"James\",\"Lars\",\"Edip\"])"
   ]
  },
  {
   "cell_type": "code",
   "execution_count": 16,
   "id": "bed3214b-0671-4480-bee5-18edec622bbf",
   "metadata": {},
   "outputs": [
    {
     "data": {
      "text/plain": [
       "Atil      10\n",
       "James      5\n",
       "Lars     100\n",
       "Edip      10\n",
       "dtype: int64"
      ]
     },
     "execution_count": 16,
     "metadata": {},
     "output_type": "execute_result"
    }
   ],
   "source": [
    "contest_results"
   ]
  },
  {
   "cell_type": "code",
   "execution_count": 17,
   "id": "6590b719-347b-4387-b741-38dee5c29e26",
   "metadata": {},
   "outputs": [
    {
     "data": {
      "text/plain": [
       "np.int64(10)"
      ]
     },
     "execution_count": 17,
     "metadata": {},
     "output_type": "execute_result"
    }
   ],
   "source": [
    "contest_results[\"Atil\"]"
   ]
  },
  {
   "cell_type": "code",
   "execution_count": 18,
   "id": "5904af65-4bc1-4682-872f-09d56a6c8ffc",
   "metadata": {},
   "outputs": [
    {
     "data": {
      "text/plain": [
       "np.int64(5)"
      ]
     },
     "execution_count": 18,
     "metadata": {},
     "output_type": "execute_result"
    }
   ],
   "source": [
    "contest_results[\"James\"]"
   ]
  },
  {
   "cell_type": "code",
   "execution_count": 19,
   "id": "4e514b71-701d-4b99-8403-a76343347291",
   "metadata": {},
   "outputs": [],
   "source": [
    "final_result = contest_results + contest_results2"
   ]
  },
  {
   "cell_type": "code",
   "execution_count": 20,
   "id": "ff075aff-ecf9-4857-8705-1f8c9f1161e5",
   "metadata": {},
   "outputs": [
    {
     "data": {
      "text/plain": [
       "Atil      30\n",
       "James     55\n",
       "Lars     110\n",
       "Edip      10\n",
       "dtype: int64"
      ]
     },
     "execution_count": 20,
     "metadata": {},
     "output_type": "execute_result"
    }
   ],
   "source": [
    "final_result"
   ]
  },
  {
   "cell_type": "code",
   "execution_count": 21,
   "id": "6cf1b5fa-4188-4b74-93fd-b11055880a38",
   "metadata": {},
   "outputs": [
    {
     "data": {
      "text/plain": [
       "Atil      200\n",
       "James     250\n",
       "Lars     1000\n",
       "Edip        0\n",
       "dtype: int64"
      ]
     },
     "execution_count": 21,
     "metadata": {},
     "output_type": "execute_result"
    }
   ],
   "source": [
    "contest_results * contest_results2"
   ]
  },
  {
   "cell_type": "code",
   "execution_count": 22,
   "id": "4f4c66ed-b649-4832-b758-7557b291c126",
   "metadata": {},
   "outputs": [
    {
     "data": {
      "text/plain": [
       "Atil      0.5\n",
       "James     0.1\n",
       "Lars     10.0\n",
       "Edip      inf\n",
       "dtype: float64"
      ]
     },
     "execution_count": 22,
     "metadata": {},
     "output_type": "execute_result"
    }
   ],
   "source": [
    "contest_results / contest_results2"
   ]
  },
  {
   "cell_type": "code",
   "execution_count": 23,
   "id": "492f66e1-26b2-4dff-8c48-b89dfd68aa79",
   "metadata": {},
   "outputs": [],
   "source": [
    "different_Series = pd.Series(data=[20,30,40,50],index=[\"a\",\"b\",\"c\",\"d\"])"
   ]
  },
  {
   "cell_type": "code",
   "execution_count": 24,
   "id": "a4ee5cb1-049a-4718-b8b6-67d18d88b3aa",
   "metadata": {},
   "outputs": [
    {
     "data": {
      "text/plain": [
       "pandas.core.series.Series"
      ]
     },
     "execution_count": 24,
     "metadata": {},
     "output_type": "execute_result"
    }
   ],
   "source": [
    "type(different_Series)"
   ]
  },
  {
   "cell_type": "code",
   "execution_count": 25,
   "id": "92273aea-1213-4811-931e-ca626ed2b23d",
   "metadata": {},
   "outputs": [],
   "source": [
    "different_Series2 = pd.Series(data=[20,30,40,50],index=[\"a\",\"c\",\"f\",\"g\"])"
   ]
  },
  {
   "cell_type": "code",
   "execution_count": 26,
   "id": "252f9060-7122-4c5e-ae85-90c5d64004b8",
   "metadata": {},
   "outputs": [
    {
     "data": {
      "text/plain": [
       "a    20\n",
       "c    30\n",
       "f    40\n",
       "g    50\n",
       "dtype: int64"
      ]
     },
     "execution_count": 26,
     "metadata": {},
     "output_type": "execute_result"
    }
   ],
   "source": [
    "different_Series2"
   ]
  },
  {
   "cell_type": "code",
   "execution_count": 27,
   "id": "2d0692b8-09ce-42b7-ae18-c59a9abfb6a4",
   "metadata": {},
   "outputs": [
    {
     "data": {
      "text/plain": [
       "a    40.0\n",
       "b     NaN\n",
       "c    70.0\n",
       "d     NaN\n",
       "f     NaN\n",
       "g     NaN\n",
       "dtype: float64"
      ]
     },
     "execution_count": 27,
     "metadata": {},
     "output_type": "execute_result"
    }
   ],
   "source": [
    "different_Series+different_Series2 # b yi bulamadı non yaptı index sırası toplamad çıkarmada önemli değil"
   ]
  },
  {
   "cell_type": "code",
   "execution_count": 28,
   "id": "2c156940-91a7-46a6-970b-351dbb9dac73",
   "metadata": {},
   "outputs": [],
   "source": [
    "#DataFrame içerisinde bunların çok dahaa karmaşıkları söz konusu"
   ]
  },
  {
   "cell_type": "code",
   "execution_count": 29,
   "id": "033728ef-f8e2-442e-b216-48085812f209",
   "metadata": {},
   "outputs": [],
   "source": [
    "data = np.random.randn(4,3) # Random şekilde data oluşturmaya yaramaktadır"
   ]
  },
  {
   "cell_type": "code",
   "execution_count": 30,
   "id": "d93ca32f-7ccb-4c54-a663-882da6c245b4",
   "metadata": {},
   "outputs": [
    {
     "data": {
      "text/plain": [
       "array([[-0.15685363, -0.53551589, -0.25740033],\n",
       "       [-0.31428285,  0.75103542,  0.98593203],\n",
       "       [ 0.11992776, -1.43747844,  1.39730757],\n",
       "       [ 0.26191707, -1.24474083,  0.99793182]])"
      ]
     },
     "execution_count": 30,
     "metadata": {},
     "output_type": "execute_result"
    }
   ],
   "source": [
    "data"
   ]
  },
  {
   "cell_type": "code",
   "execution_count": 31,
   "id": "f147e927-1139-4e09-b774-c57ab4f81485",
   "metadata": {},
   "outputs": [],
   "source": [
    "dataFrame = pd.DataFrame(data)"
   ]
  },
  {
   "cell_type": "code",
   "execution_count": 32,
   "id": "ec45ea9d-400f-48df-a05f-7b912ba22954",
   "metadata": {},
   "outputs": [
    {
     "data": {
      "text/html": [
       "<div>\n",
       "<style scoped>\n",
       "    .dataframe tbody tr th:only-of-type {\n",
       "        vertical-align: middle;\n",
       "    }\n",
       "\n",
       "    .dataframe tbody tr th {\n",
       "        vertical-align: top;\n",
       "    }\n",
       "\n",
       "    .dataframe thead th {\n",
       "        text-align: right;\n",
       "    }\n",
       "</style>\n",
       "<table border=\"1\" class=\"dataframe\">\n",
       "  <thead>\n",
       "    <tr style=\"text-align: right;\">\n",
       "      <th></th>\n",
       "      <th>0</th>\n",
       "      <th>1</th>\n",
       "      <th>2</th>\n",
       "    </tr>\n",
       "  </thead>\n",
       "  <tbody>\n",
       "    <tr>\n",
       "      <th>0</th>\n",
       "      <td>-0.156854</td>\n",
       "      <td>-0.535516</td>\n",
       "      <td>-0.257400</td>\n",
       "    </tr>\n",
       "    <tr>\n",
       "      <th>1</th>\n",
       "      <td>-0.314283</td>\n",
       "      <td>0.751035</td>\n",
       "      <td>0.985932</td>\n",
       "    </tr>\n",
       "    <tr>\n",
       "      <th>2</th>\n",
       "      <td>0.119928</td>\n",
       "      <td>-1.437478</td>\n",
       "      <td>1.397308</td>\n",
       "    </tr>\n",
       "    <tr>\n",
       "      <th>3</th>\n",
       "      <td>0.261917</td>\n",
       "      <td>-1.244741</td>\n",
       "      <td>0.997932</td>\n",
       "    </tr>\n",
       "  </tbody>\n",
       "</table>\n",
       "</div>"
      ],
      "text/plain": [
       "          0         1         2\n",
       "0 -0.156854 -0.535516 -0.257400\n",
       "1 -0.314283  0.751035  0.985932\n",
       "2  0.119928 -1.437478  1.397308\n",
       "3  0.261917 -1.244741  0.997932"
      ]
     },
     "execution_count": 32,
     "metadata": {},
     "output_type": "execute_result"
    }
   ],
   "source": [
    "dataFrame # Excel gibi düzenledi serilerin birleşimidir"
   ]
  },
  {
   "cell_type": "code",
   "execution_count": 33,
   "id": "616994ad-9936-4c1f-92b2-77f26028d099",
   "metadata": {},
   "outputs": [
    {
     "data": {
      "text/plain": [
       "pandas.core.frame.DataFrame"
      ]
     },
     "execution_count": 33,
     "metadata": {},
     "output_type": "execute_result"
    }
   ],
   "source": [
    "type(dataFrame)"
   ]
  },
  {
   "cell_type": "code",
   "execution_count": 34,
   "id": "478dd88f-969e-4acf-8ae2-29ee6bf31434",
   "metadata": {},
   "outputs": [
    {
     "name": "stdout",
     "output_type": "stream",
     "text": [
      "<class 'pandas.core.frame.DataFrame'>\n"
     ]
    }
   ],
   "source": [
    "dataFrame[0]\n",
    "print(type(dataFrame))"
   ]
  },
  {
   "cell_type": "code",
   "execution_count": 35,
   "id": "7377c60e-79bd-4a56-85f0-2cbf81aeaad2",
   "metadata": {},
   "outputs": [],
   "source": [
    "new_df = pd.DataFrame(data,index=[\"Edip\",\"Mangtay\",\"Software\",\"Yiğit\"], columns=[\"Maaş\",\"Yaş\",\"Senioraty\"])"
   ]
  },
  {
   "cell_type": "code",
   "execution_count": 36,
   "id": "842a106c-4159-49b7-a763-2049ecc763e4",
   "metadata": {},
   "outputs": [
    {
     "data": {
      "text/html": [
       "<div>\n",
       "<style scoped>\n",
       "    .dataframe tbody tr th:only-of-type {\n",
       "        vertical-align: middle;\n",
       "    }\n",
       "\n",
       "    .dataframe tbody tr th {\n",
       "        vertical-align: top;\n",
       "    }\n",
       "\n",
       "    .dataframe thead th {\n",
       "        text-align: right;\n",
       "    }\n",
       "</style>\n",
       "<table border=\"1\" class=\"dataframe\">\n",
       "  <thead>\n",
       "    <tr style=\"text-align: right;\">\n",
       "      <th></th>\n",
       "      <th>Maaş</th>\n",
       "      <th>Yaş</th>\n",
       "      <th>Senioraty</th>\n",
       "    </tr>\n",
       "  </thead>\n",
       "  <tbody>\n",
       "    <tr>\n",
       "      <th>Edip</th>\n",
       "      <td>-0.156854</td>\n",
       "      <td>-0.535516</td>\n",
       "      <td>-0.257400</td>\n",
       "    </tr>\n",
       "    <tr>\n",
       "      <th>Mangtay</th>\n",
       "      <td>-0.314283</td>\n",
       "      <td>0.751035</td>\n",
       "      <td>0.985932</td>\n",
       "    </tr>\n",
       "    <tr>\n",
       "      <th>Software</th>\n",
       "      <td>0.119928</td>\n",
       "      <td>-1.437478</td>\n",
       "      <td>1.397308</td>\n",
       "    </tr>\n",
       "    <tr>\n",
       "      <th>Yiğit</th>\n",
       "      <td>0.261917</td>\n",
       "      <td>-1.244741</td>\n",
       "      <td>0.997932</td>\n",
       "    </tr>\n",
       "  </tbody>\n",
       "</table>\n",
       "</div>"
      ],
      "text/plain": [
       "              Maaş       Yaş  Senioraty\n",
       "Edip     -0.156854 -0.535516  -0.257400\n",
       "Mangtay  -0.314283  0.751035   0.985932\n",
       "Software  0.119928 -1.437478   1.397308\n",
       "Yiğit     0.261917 -1.244741   0.997932"
      ]
     },
     "execution_count": 36,
     "metadata": {},
     "output_type": "execute_result"
    }
   ],
   "source": [
    "new_df"
   ]
  },
  {
   "cell_type": "code",
   "execution_count": 37,
   "id": "96a29c67-8460-4076-80d6-85f9e5285a14",
   "metadata": {},
   "outputs": [
    {
     "data": {
      "text/plain": [
       "Edip       -0.156854\n",
       "Mangtay    -0.314283\n",
       "Software    0.119928\n",
       "Yiğit       0.261917\n",
       "Name: Maaş, dtype: float64"
      ]
     },
     "execution_count": 37,
     "metadata": {},
     "output_type": "execute_result"
    }
   ],
   "source": [
    "new_df[\"Maaş\"] # isimlerle stünlara erişim mümkün"
   ]
  },
  {
   "cell_type": "code",
   "execution_count": 38,
   "id": "7ce357a2-43a7-4621-b2b5-e5c35c35dcff",
   "metadata": {},
   "outputs": [
    {
     "data": {
      "text/plain": [
       "Edip       -0.535516\n",
       "Mangtay     0.751035\n",
       "Software   -1.437478\n",
       "Yiğit      -1.244741\n",
       "Name: Yaş, dtype: float64"
      ]
     },
     "execution_count": 38,
     "metadata": {},
     "output_type": "execute_result"
    }
   ],
   "source": [
    "new_df[\"Yaş\"] # isimlerle stünlara erişim mümkün"
   ]
  },
  {
   "cell_type": "code",
   "execution_count": 39,
   "id": "fb29c6e1-a0a7-4ca6-93d6-e0d4d40c8c41",
   "metadata": {},
   "outputs": [
    {
     "data": {
      "text/html": [
       "<div>\n",
       "<style scoped>\n",
       "    .dataframe tbody tr th:only-of-type {\n",
       "        vertical-align: middle;\n",
       "    }\n",
       "\n",
       "    .dataframe tbody tr th {\n",
       "        vertical-align: top;\n",
       "    }\n",
       "\n",
       "    .dataframe thead th {\n",
       "        text-align: right;\n",
       "    }\n",
       "</style>\n",
       "<table border=\"1\" class=\"dataframe\">\n",
       "  <thead>\n",
       "    <tr style=\"text-align: right;\">\n",
       "      <th></th>\n",
       "      <th>Maaş</th>\n",
       "      <th>Senioraty</th>\n",
       "    </tr>\n",
       "  </thead>\n",
       "  <tbody>\n",
       "    <tr>\n",
       "      <th>Edip</th>\n",
       "      <td>-0.156854</td>\n",
       "      <td>-0.257400</td>\n",
       "    </tr>\n",
       "    <tr>\n",
       "      <th>Mangtay</th>\n",
       "      <td>-0.314283</td>\n",
       "      <td>0.985932</td>\n",
       "    </tr>\n",
       "    <tr>\n",
       "      <th>Software</th>\n",
       "      <td>0.119928</td>\n",
       "      <td>1.397308</td>\n",
       "    </tr>\n",
       "    <tr>\n",
       "      <th>Yiğit</th>\n",
       "      <td>0.261917</td>\n",
       "      <td>0.997932</td>\n",
       "    </tr>\n",
       "  </tbody>\n",
       "</table>\n",
       "</div>"
      ],
      "text/plain": [
       "              Maaş  Senioraty\n",
       "Edip     -0.156854  -0.257400\n",
       "Mangtay  -0.314283   0.985932\n",
       "Software  0.119928   1.397308\n",
       "Yiğit     0.261917   0.997932"
      ]
     },
     "execution_count": 39,
     "metadata": {},
     "output_type": "execute_result"
    }
   ],
   "source": [
    "new_df[[\"Maaş\",\"Senioraty\"]]"
   ]
  },
  {
   "cell_type": "code",
   "execution_count": 40,
   "id": "e7d8a45c-68e4-4cc0-a303-9e3ab306135c",
   "metadata": {},
   "outputs": [
    {
     "data": {
      "text/plain": [
       "Maaş        -0.156854\n",
       "Yaş         -0.535516\n",
       "Senioraty   -0.257400\n",
       "Name: Edip, dtype: float64"
      ]
     },
     "execution_count": 40,
     "metadata": {},
     "output_type": "execute_result"
    }
   ],
   "source": [
    "new_df.loc[\"Edip\"] # bu kısımdan da rowlara yani satırlara erişim mümkündür"
   ]
  },
  {
   "cell_type": "code",
   "execution_count": 41,
   "id": "4271b622-8b4f-4423-836f-e9ddd9d34451",
   "metadata": {},
   "outputs": [
    {
     "data": {
      "text/plain": [
       "Maaş        -0.156854\n",
       "Yaş         -0.535516\n",
       "Senioraty   -0.257400\n",
       "Name: Edip, dtype: float64"
      ]
     },
     "execution_count": 41,
     "metadata": {},
     "output_type": "execute_result"
    }
   ],
   "source": [
    "new_df.iloc[0] # bu da index 0 olan rowu getir anlamına gelmektedir"
   ]
  },
  {
   "cell_type": "code",
   "execution_count": 42,
   "id": "59b9cdd1-9c94-4033-8c67-67f8b1ad9d3f",
   "metadata": {},
   "outputs": [
    {
     "data": {
      "text/plain": [
       "Maaş         0.119928\n",
       "Yaş         -1.437478\n",
       "Senioraty    1.397308\n",
       "Name: Software, dtype: float64"
      ]
     },
     "execution_count": 42,
     "metadata": {},
     "output_type": "execute_result"
    }
   ],
   "source": [
    "new_df.iloc[2] "
   ]
  },
  {
   "cell_type": "code",
   "execution_count": 43,
   "id": "999a8fe8-e74d-4fe5-a2f8-bc6db02a7a11",
   "metadata": {},
   "outputs": [
    {
     "data": {
      "text/html": [
       "<div>\n",
       "<style scoped>\n",
       "    .dataframe tbody tr th:only-of-type {\n",
       "        vertical-align: middle;\n",
       "    }\n",
       "\n",
       "    .dataframe tbody tr th {\n",
       "        vertical-align: top;\n",
       "    }\n",
       "\n",
       "    .dataframe thead th {\n",
       "        text-align: right;\n",
       "    }\n",
       "</style>\n",
       "<table border=\"1\" class=\"dataframe\">\n",
       "  <thead>\n",
       "    <tr style=\"text-align: right;\">\n",
       "      <th></th>\n",
       "      <th>Maaş</th>\n",
       "      <th>Yaş</th>\n",
       "      <th>Senioraty</th>\n",
       "    </tr>\n",
       "  </thead>\n",
       "  <tbody>\n",
       "    <tr>\n",
       "      <th>Edip</th>\n",
       "      <td>-0.156854</td>\n",
       "      <td>-0.535516</td>\n",
       "      <td>-0.257400</td>\n",
       "    </tr>\n",
       "    <tr>\n",
       "      <th>Mangtay</th>\n",
       "      <td>-0.314283</td>\n",
       "      <td>0.751035</td>\n",
       "      <td>0.985932</td>\n",
       "    </tr>\n",
       "    <tr>\n",
       "      <th>Software</th>\n",
       "      <td>0.119928</td>\n",
       "      <td>-1.437478</td>\n",
       "      <td>1.397308</td>\n",
       "    </tr>\n",
       "    <tr>\n",
       "      <th>Yiğit</th>\n",
       "      <td>0.261917</td>\n",
       "      <td>-1.244741</td>\n",
       "      <td>0.997932</td>\n",
       "    </tr>\n",
       "  </tbody>\n",
       "</table>\n",
       "</div>"
      ],
      "text/plain": [
       "              Maaş       Yaş  Senioraty\n",
       "Edip     -0.156854 -0.535516  -0.257400\n",
       "Mangtay  -0.314283  0.751035   0.985932\n",
       "Software  0.119928 -1.437478   1.397308\n",
       "Yiğit     0.261917 -1.244741   0.997932"
      ]
     },
     "execution_count": 43,
     "metadata": {},
     "output_type": "execute_result"
    }
   ],
   "source": [
    "new_df"
   ]
  },
  {
   "cell_type": "code",
   "execution_count": 44,
   "id": "5f10384f-0ae9-48cb-aeb2-e4ca8a161969",
   "metadata": {},
   "outputs": [
    {
     "data": {
      "text/plain": [
       "Edip       -0.257400\n",
       "Mangtay     0.985932\n",
       "Software    1.397308\n",
       "Yiğit       0.997932\n",
       "Name: Senioraty, dtype: float64"
      ]
     },
     "execution_count": 44,
     "metadata": {},
     "output_type": "execute_result"
    }
   ],
   "source": [
    "new_df.iloc[:,2]"
   ]
  },
  {
   "cell_type": "code",
   "execution_count": 45,
   "id": "7c8ceeaa-535e-4478-ac8f-340bfa9929c7",
   "metadata": {},
   "outputs": [],
   "source": [
    "new_df[\"Extra\"] = 10"
   ]
  },
  {
   "cell_type": "code",
   "execution_count": 46,
   "id": "4cc2b048-b4ac-4f4f-a99c-899637fd8a41",
   "metadata": {},
   "outputs": [
    {
     "data": {
      "text/html": [
       "<div>\n",
       "<style scoped>\n",
       "    .dataframe tbody tr th:only-of-type {\n",
       "        vertical-align: middle;\n",
       "    }\n",
       "\n",
       "    .dataframe tbody tr th {\n",
       "        vertical-align: top;\n",
       "    }\n",
       "\n",
       "    .dataframe thead th {\n",
       "        text-align: right;\n",
       "    }\n",
       "</style>\n",
       "<table border=\"1\" class=\"dataframe\">\n",
       "  <thead>\n",
       "    <tr style=\"text-align: right;\">\n",
       "      <th></th>\n",
       "      <th>Maaş</th>\n",
       "      <th>Yaş</th>\n",
       "      <th>Senioraty</th>\n",
       "      <th>Extra</th>\n",
       "    </tr>\n",
       "  </thead>\n",
       "  <tbody>\n",
       "    <tr>\n",
       "      <th>Edip</th>\n",
       "      <td>-0.156854</td>\n",
       "      <td>-0.535516</td>\n",
       "      <td>-0.257400</td>\n",
       "      <td>10</td>\n",
       "    </tr>\n",
       "    <tr>\n",
       "      <th>Mangtay</th>\n",
       "      <td>-0.314283</td>\n",
       "      <td>0.751035</td>\n",
       "      <td>0.985932</td>\n",
       "      <td>10</td>\n",
       "    </tr>\n",
       "    <tr>\n",
       "      <th>Software</th>\n",
       "      <td>0.119928</td>\n",
       "      <td>-1.437478</td>\n",
       "      <td>1.397308</td>\n",
       "      <td>10</td>\n",
       "    </tr>\n",
       "    <tr>\n",
       "      <th>Yiğit</th>\n",
       "      <td>0.261917</td>\n",
       "      <td>-1.244741</td>\n",
       "      <td>0.997932</td>\n",
       "      <td>10</td>\n",
       "    </tr>\n",
       "  </tbody>\n",
       "</table>\n",
       "</div>"
      ],
      "text/plain": [
       "              Maaş       Yaş  Senioraty  Extra\n",
       "Edip     -0.156854 -0.535516  -0.257400     10\n",
       "Mangtay  -0.314283  0.751035   0.985932     10\n",
       "Software  0.119928 -1.437478   1.397308     10\n",
       "Yiğit     0.261917 -1.244741   0.997932     10"
      ]
     },
     "execution_count": 46,
     "metadata": {},
     "output_type": "execute_result"
    }
   ],
   "source": [
    "new_df"
   ]
  },
  {
   "cell_type": "code",
   "execution_count": 47,
   "id": "8f1c7ec9-2cec-448c-9f14-09399b1313ba",
   "metadata": {},
   "outputs": [
    {
     "data": {
      "text/html": [
       "<div>\n",
       "<style scoped>\n",
       "    .dataframe tbody tr th:only-of-type {\n",
       "        vertical-align: middle;\n",
       "    }\n",
       "\n",
       "    .dataframe tbody tr th {\n",
       "        vertical-align: top;\n",
       "    }\n",
       "\n",
       "    .dataframe thead th {\n",
       "        text-align: right;\n",
       "    }\n",
       "</style>\n",
       "<table border=\"1\" class=\"dataframe\">\n",
       "  <thead>\n",
       "    <tr style=\"text-align: right;\">\n",
       "      <th></th>\n",
       "      <th>Maaş</th>\n",
       "      <th>Yaş</th>\n",
       "      <th>Senioraty</th>\n",
       "    </tr>\n",
       "  </thead>\n",
       "  <tbody>\n",
       "    <tr>\n",
       "      <th>Edip</th>\n",
       "      <td>-0.156854</td>\n",
       "      <td>-0.535516</td>\n",
       "      <td>-0.257400</td>\n",
       "    </tr>\n",
       "    <tr>\n",
       "      <th>Mangtay</th>\n",
       "      <td>-0.314283</td>\n",
       "      <td>0.751035</td>\n",
       "      <td>0.985932</td>\n",
       "    </tr>\n",
       "    <tr>\n",
       "      <th>Software</th>\n",
       "      <td>0.119928</td>\n",
       "      <td>-1.437478</td>\n",
       "      <td>1.397308</td>\n",
       "    </tr>\n",
       "    <tr>\n",
       "      <th>Yiğit</th>\n",
       "      <td>0.261917</td>\n",
       "      <td>-1.244741</td>\n",
       "      <td>0.997932</td>\n",
       "    </tr>\n",
       "  </tbody>\n",
       "</table>\n",
       "</div>"
      ],
      "text/plain": [
       "              Maaş       Yaş  Senioraty\n",
       "Edip     -0.156854 -0.535516  -0.257400\n",
       "Mangtay  -0.314283  0.751035   0.985932\n",
       "Software  0.119928 -1.437478   1.397308\n",
       "Yiğit     0.261917 -1.244741   0.997932"
      ]
     },
     "execution_count": 47,
     "metadata": {},
     "output_type": "execute_result"
    }
   ],
   "source": [
    "new_df.drop(\"Extra\",axis=1) # burada axis 1 demek kolonlar 0 rowlar anlamına gelmektedir"
   ]
  },
  {
   "cell_type": "code",
   "execution_count": 48,
   "id": "88ce5edb-9669-46f8-849f-0dc15aa9b588",
   "metadata": {},
   "outputs": [],
   "source": [
    "new_df.drop(\"Extra\",axis=1,inplace=True)"
   ]
  },
  {
   "cell_type": "code",
   "execution_count": 49,
   "id": "8fa264af-8d40-4615-afb3-a1a945fc6a7a",
   "metadata": {},
   "outputs": [
    {
     "data": {
      "text/html": [
       "<div>\n",
       "<style scoped>\n",
       "    .dataframe tbody tr th:only-of-type {\n",
       "        vertical-align: middle;\n",
       "    }\n",
       "\n",
       "    .dataframe tbody tr th {\n",
       "        vertical-align: top;\n",
       "    }\n",
       "\n",
       "    .dataframe thead th {\n",
       "        text-align: right;\n",
       "    }\n",
       "</style>\n",
       "<table border=\"1\" class=\"dataframe\">\n",
       "  <thead>\n",
       "    <tr style=\"text-align: right;\">\n",
       "      <th></th>\n",
       "      <th>Maaş</th>\n",
       "      <th>Yaş</th>\n",
       "      <th>Senioraty</th>\n",
       "    </tr>\n",
       "  </thead>\n",
       "  <tbody>\n",
       "    <tr>\n",
       "      <th>Edip</th>\n",
       "      <td>-0.156854</td>\n",
       "      <td>-0.535516</td>\n",
       "      <td>-0.257400</td>\n",
       "    </tr>\n",
       "    <tr>\n",
       "      <th>Mangtay</th>\n",
       "      <td>-0.314283</td>\n",
       "      <td>0.751035</td>\n",
       "      <td>0.985932</td>\n",
       "    </tr>\n",
       "    <tr>\n",
       "      <th>Software</th>\n",
       "      <td>0.119928</td>\n",
       "      <td>-1.437478</td>\n",
       "      <td>1.397308</td>\n",
       "    </tr>\n",
       "    <tr>\n",
       "      <th>Yiğit</th>\n",
       "      <td>0.261917</td>\n",
       "      <td>-1.244741</td>\n",
       "      <td>0.997932</td>\n",
       "    </tr>\n",
       "  </tbody>\n",
       "</table>\n",
       "</div>"
      ],
      "text/plain": [
       "              Maaş       Yaş  Senioraty\n",
       "Edip     -0.156854 -0.535516  -0.257400\n",
       "Mangtay  -0.314283  0.751035   0.985932\n",
       "Software  0.119928 -1.437478   1.397308\n",
       "Yiğit     0.261917 -1.244741   0.997932"
      ]
     },
     "execution_count": 49,
     "metadata": {},
     "output_type": "execute_result"
    }
   ],
   "source": [
    "new_df\n"
   ]
  },
  {
   "cell_type": "code",
   "execution_count": 50,
   "id": "95503cae-4551-4c4c-98be-c6a2b95fd92d",
   "metadata": {},
   "outputs": [],
   "source": [
    "new_df[\"Mangtay\"] = 10"
   ]
  },
  {
   "cell_type": "code",
   "execution_count": 51,
   "id": "cb69fa08-7a7a-4d9e-b2cd-85fb8a9ea549",
   "metadata": {},
   "outputs": [
    {
     "data": {
      "text/html": [
       "<div>\n",
       "<style scoped>\n",
       "    .dataframe tbody tr th:only-of-type {\n",
       "        vertical-align: middle;\n",
       "    }\n",
       "\n",
       "    .dataframe tbody tr th {\n",
       "        vertical-align: top;\n",
       "    }\n",
       "\n",
       "    .dataframe thead th {\n",
       "        text-align: right;\n",
       "    }\n",
       "</style>\n",
       "<table border=\"1\" class=\"dataframe\">\n",
       "  <thead>\n",
       "    <tr style=\"text-align: right;\">\n",
       "      <th></th>\n",
       "      <th>Maaş</th>\n",
       "      <th>Yaş</th>\n",
       "      <th>Senioraty</th>\n",
       "      <th>Mangtay</th>\n",
       "    </tr>\n",
       "  </thead>\n",
       "  <tbody>\n",
       "    <tr>\n",
       "      <th>Edip</th>\n",
       "      <td>-0.156854</td>\n",
       "      <td>-0.535516</td>\n",
       "      <td>-0.257400</td>\n",
       "      <td>10</td>\n",
       "    </tr>\n",
       "    <tr>\n",
       "      <th>Mangtay</th>\n",
       "      <td>-0.314283</td>\n",
       "      <td>0.751035</td>\n",
       "      <td>0.985932</td>\n",
       "      <td>10</td>\n",
       "    </tr>\n",
       "    <tr>\n",
       "      <th>Software</th>\n",
       "      <td>0.119928</td>\n",
       "      <td>-1.437478</td>\n",
       "      <td>1.397308</td>\n",
       "      <td>10</td>\n",
       "    </tr>\n",
       "    <tr>\n",
       "      <th>Yiğit</th>\n",
       "      <td>0.261917</td>\n",
       "      <td>-1.244741</td>\n",
       "      <td>0.997932</td>\n",
       "      <td>10</td>\n",
       "    </tr>\n",
       "  </tbody>\n",
       "</table>\n",
       "</div>"
      ],
      "text/plain": [
       "              Maaş       Yaş  Senioraty  Mangtay\n",
       "Edip     -0.156854 -0.535516  -0.257400       10\n",
       "Mangtay  -0.314283  0.751035   0.985932       10\n",
       "Software  0.119928 -1.437478   1.397308       10\n",
       "Yiğit     0.261917 -1.244741   0.997932       10"
      ]
     },
     "execution_count": 51,
     "metadata": {},
     "output_type": "execute_result"
    }
   ],
   "source": [
    "new_df"
   ]
  },
  {
   "cell_type": "code",
   "execution_count": 52,
   "id": "7522e92a-c16c-4719-9012-f0dcd5195421",
   "metadata": {},
   "outputs": [
    {
     "data": {
      "text/html": [
       "<div>\n",
       "<style scoped>\n",
       "    .dataframe tbody tr th:only-of-type {\n",
       "        vertical-align: middle;\n",
       "    }\n",
       "\n",
       "    .dataframe tbody tr th {\n",
       "        vertical-align: top;\n",
       "    }\n",
       "\n",
       "    .dataframe thead th {\n",
       "        text-align: right;\n",
       "    }\n",
       "</style>\n",
       "<table border=\"1\" class=\"dataframe\">\n",
       "  <thead>\n",
       "    <tr style=\"text-align: right;\">\n",
       "      <th></th>\n",
       "      <th>Maaş</th>\n",
       "      <th>Yaş</th>\n",
       "      <th>Senioraty</th>\n",
       "      <th>Mangtay</th>\n",
       "    </tr>\n",
       "  </thead>\n",
       "  <tbody>\n",
       "    <tr>\n",
       "      <th>Edip</th>\n",
       "      <td>-0.156854</td>\n",
       "      <td>-0.535516</td>\n",
       "      <td>-0.257400</td>\n",
       "      <td>10</td>\n",
       "    </tr>\n",
       "    <tr>\n",
       "      <th>Software</th>\n",
       "      <td>0.119928</td>\n",
       "      <td>-1.437478</td>\n",
       "      <td>1.397308</td>\n",
       "      <td>10</td>\n",
       "    </tr>\n",
       "    <tr>\n",
       "      <th>Yiğit</th>\n",
       "      <td>0.261917</td>\n",
       "      <td>-1.244741</td>\n",
       "      <td>0.997932</td>\n",
       "      <td>10</td>\n",
       "    </tr>\n",
       "  </tbody>\n",
       "</table>\n",
       "</div>"
      ],
      "text/plain": [
       "              Maaş       Yaş  Senioraty  Mangtay\n",
       "Edip     -0.156854 -0.535516  -0.257400       10\n",
       "Software  0.119928 -1.437478   1.397308       10\n",
       "Yiğit     0.261917 -1.244741   0.997932       10"
      ]
     },
     "execution_count": 52,
     "metadata": {},
     "output_type": "execute_result"
    }
   ],
   "source": [
    "new_df.drop(\"Mangtay\") # burada default olarak row silindir çünkü fonksiyon tanımında axis  = 0 "
   ]
  },
  {
   "cell_type": "code",
   "execution_count": 53,
   "id": "5c23fd3a-6599-464f-821a-dc5ba690dd51",
   "metadata": {},
   "outputs": [
    {
     "data": {
      "text/html": [
       "<div>\n",
       "<style scoped>\n",
       "    .dataframe tbody tr th:only-of-type {\n",
       "        vertical-align: middle;\n",
       "    }\n",
       "\n",
       "    .dataframe tbody tr th {\n",
       "        vertical-align: top;\n",
       "    }\n",
       "\n",
       "    .dataframe thead th {\n",
       "        text-align: right;\n",
       "    }\n",
       "</style>\n",
       "<table border=\"1\" class=\"dataframe\">\n",
       "  <thead>\n",
       "    <tr style=\"text-align: right;\">\n",
       "      <th></th>\n",
       "      <th>Maaş</th>\n",
       "      <th>Yaş</th>\n",
       "      <th>Senioraty</th>\n",
       "    </tr>\n",
       "  </thead>\n",
       "  <tbody>\n",
       "    <tr>\n",
       "      <th>Edip</th>\n",
       "      <td>-0.156854</td>\n",
       "      <td>-0.535516</td>\n",
       "      <td>-0.257400</td>\n",
       "    </tr>\n",
       "    <tr>\n",
       "      <th>Mangtay</th>\n",
       "      <td>-0.314283</td>\n",
       "      <td>0.751035</td>\n",
       "      <td>0.985932</td>\n",
       "    </tr>\n",
       "    <tr>\n",
       "      <th>Software</th>\n",
       "      <td>0.119928</td>\n",
       "      <td>-1.437478</td>\n",
       "      <td>1.397308</td>\n",
       "    </tr>\n",
       "    <tr>\n",
       "      <th>Yiğit</th>\n",
       "      <td>0.261917</td>\n",
       "      <td>-1.244741</td>\n",
       "      <td>0.997932</td>\n",
       "    </tr>\n",
       "  </tbody>\n",
       "</table>\n",
       "</div>"
      ],
      "text/plain": [
       "              Maaş       Yaş  Senioraty\n",
       "Edip     -0.156854 -0.535516  -0.257400\n",
       "Mangtay  -0.314283  0.751035   0.985932\n",
       "Software  0.119928 -1.437478   1.397308\n",
       "Yiğit     0.261917 -1.244741   0.997932"
      ]
     },
     "execution_count": 53,
     "metadata": {},
     "output_type": "execute_result"
    }
   ],
   "source": [
    "new_df.drop(\"Mangtay\" ,axis =1)"
   ]
  },
  {
   "cell_type": "code",
   "execution_count": 54,
   "id": "9cde847b-595b-4fd9-b912-ab582b94aebd",
   "metadata": {},
   "outputs": [
    {
     "data": {
      "text/html": [
       "<div>\n",
       "<style scoped>\n",
       "    .dataframe tbody tr th:only-of-type {\n",
       "        vertical-align: middle;\n",
       "    }\n",
       "\n",
       "    .dataframe tbody tr th {\n",
       "        vertical-align: top;\n",
       "    }\n",
       "\n",
       "    .dataframe thead th {\n",
       "        text-align: right;\n",
       "    }\n",
       "</style>\n",
       "<table border=\"1\" class=\"dataframe\">\n",
       "  <thead>\n",
       "    <tr style=\"text-align: right;\">\n",
       "      <th></th>\n",
       "      <th>Maaş</th>\n",
       "      <th>Yaş</th>\n",
       "      <th>Senioraty</th>\n",
       "      <th>Mangtay</th>\n",
       "    </tr>\n",
       "  </thead>\n",
       "  <tbody>\n",
       "    <tr>\n",
       "      <th>Edip</th>\n",
       "      <td>-0.156854</td>\n",
       "      <td>-0.535516</td>\n",
       "      <td>-0.257400</td>\n",
       "      <td>10</td>\n",
       "    </tr>\n",
       "    <tr>\n",
       "      <th>Mangtay</th>\n",
       "      <td>-0.314283</td>\n",
       "      <td>0.751035</td>\n",
       "      <td>0.985932</td>\n",
       "      <td>10</td>\n",
       "    </tr>\n",
       "    <tr>\n",
       "      <th>Software</th>\n",
       "      <td>0.119928</td>\n",
       "      <td>-1.437478</td>\n",
       "      <td>1.397308</td>\n",
       "      <td>10</td>\n",
       "    </tr>\n",
       "    <tr>\n",
       "      <th>Yiğit</th>\n",
       "      <td>0.261917</td>\n",
       "      <td>-1.244741</td>\n",
       "      <td>0.997932</td>\n",
       "      <td>10</td>\n",
       "    </tr>\n",
       "  </tbody>\n",
       "</table>\n",
       "</div>"
      ],
      "text/plain": [
       "              Maaş       Yaş  Senioraty  Mangtay\n",
       "Edip     -0.156854 -0.535516  -0.257400       10\n",
       "Mangtay  -0.314283  0.751035   0.985932       10\n",
       "Software  0.119928 -1.437478   1.397308       10\n",
       "Yiğit     0.261917 -1.244741   0.997932       10"
      ]
     },
     "execution_count": 54,
     "metadata": {},
     "output_type": "execute_result"
    }
   ],
   "source": [
    "\n",
    "new_df\n"
   ]
  },
  {
   "cell_type": "code",
   "execution_count": 55,
   "id": "9ea8574f-1c50-49e5-8bad-68308ee5e37d",
   "metadata": {},
   "outputs": [
    {
     "ename": "KeyError",
     "evalue": "\"['Deneme'] not found in axis\"",
     "output_type": "error",
     "traceback": [
      "\u001b[1;31m---------------------------------------------------------------------------\u001b[0m",
      "\u001b[1;31mKeyError\u001b[0m                                  Traceback (most recent call last)",
      "Cell \u001b[1;32mIn[55], line 1\u001b[0m\n\u001b[1;32m----> 1\u001b[0m new_df\u001b[38;5;241m.\u001b[39mdrop(\u001b[38;5;124m\"\u001b[39m\u001b[38;5;124mDeneme\u001b[39m\u001b[38;5;124m\"\u001b[39m,axis\u001b[38;5;241m=\u001b[39m\u001b[38;5;241m1\u001b[39m)\n",
      "File \u001b[1;32mC:\\ProgramData\\anaconda3\\Lib\\site-packages\\pandas\\core\\frame.py:5581\u001b[0m, in \u001b[0;36mDataFrame.drop\u001b[1;34m(self, labels, axis, index, columns, level, inplace, errors)\u001b[0m\n\u001b[0;32m   5433\u001b[0m \u001b[38;5;28;01mdef\u001b[39;00m\u001b[38;5;250m \u001b[39m\u001b[38;5;21mdrop\u001b[39m(\n\u001b[0;32m   5434\u001b[0m     \u001b[38;5;28mself\u001b[39m,\n\u001b[0;32m   5435\u001b[0m     labels: IndexLabel \u001b[38;5;241m|\u001b[39m \u001b[38;5;28;01mNone\u001b[39;00m \u001b[38;5;241m=\u001b[39m \u001b[38;5;28;01mNone\u001b[39;00m,\n\u001b[1;32m   (...)\u001b[0m\n\u001b[0;32m   5442\u001b[0m     errors: IgnoreRaise \u001b[38;5;241m=\u001b[39m \u001b[38;5;124m\"\u001b[39m\u001b[38;5;124mraise\u001b[39m\u001b[38;5;124m\"\u001b[39m,\n\u001b[0;32m   5443\u001b[0m ) \u001b[38;5;241m-\u001b[39m\u001b[38;5;241m>\u001b[39m DataFrame \u001b[38;5;241m|\u001b[39m \u001b[38;5;28;01mNone\u001b[39;00m:\n\u001b[0;32m   5444\u001b[0m \u001b[38;5;250m    \u001b[39m\u001b[38;5;124;03m\"\"\"\u001b[39;00m\n\u001b[0;32m   5445\u001b[0m \u001b[38;5;124;03m    Drop specified labels from rows or columns.\u001b[39;00m\n\u001b[0;32m   5446\u001b[0m \n\u001b[1;32m   (...)\u001b[0m\n\u001b[0;32m   5579\u001b[0m \u001b[38;5;124;03m            weight  1.0     0.8\u001b[39;00m\n\u001b[0;32m   5580\u001b[0m \u001b[38;5;124;03m    \"\"\"\u001b[39;00m\n\u001b[1;32m-> 5581\u001b[0m     \u001b[38;5;28;01mreturn\u001b[39;00m \u001b[38;5;28msuper\u001b[39m()\u001b[38;5;241m.\u001b[39mdrop(\n\u001b[0;32m   5582\u001b[0m         labels\u001b[38;5;241m=\u001b[39mlabels,\n\u001b[0;32m   5583\u001b[0m         axis\u001b[38;5;241m=\u001b[39maxis,\n\u001b[0;32m   5584\u001b[0m         index\u001b[38;5;241m=\u001b[39mindex,\n\u001b[0;32m   5585\u001b[0m         columns\u001b[38;5;241m=\u001b[39mcolumns,\n\u001b[0;32m   5586\u001b[0m         level\u001b[38;5;241m=\u001b[39mlevel,\n\u001b[0;32m   5587\u001b[0m         inplace\u001b[38;5;241m=\u001b[39minplace,\n\u001b[0;32m   5588\u001b[0m         errors\u001b[38;5;241m=\u001b[39merrors,\n\u001b[0;32m   5589\u001b[0m     )\n",
      "File \u001b[1;32mC:\\ProgramData\\anaconda3\\Lib\\site-packages\\pandas\\core\\generic.py:4788\u001b[0m, in \u001b[0;36mNDFrame.drop\u001b[1;34m(self, labels, axis, index, columns, level, inplace, errors)\u001b[0m\n\u001b[0;32m   4786\u001b[0m \u001b[38;5;28;01mfor\u001b[39;00m axis, labels \u001b[38;5;129;01min\u001b[39;00m axes\u001b[38;5;241m.\u001b[39mitems():\n\u001b[0;32m   4787\u001b[0m     \u001b[38;5;28;01mif\u001b[39;00m labels \u001b[38;5;129;01mis\u001b[39;00m \u001b[38;5;129;01mnot\u001b[39;00m \u001b[38;5;28;01mNone\u001b[39;00m:\n\u001b[1;32m-> 4788\u001b[0m         obj \u001b[38;5;241m=\u001b[39m obj\u001b[38;5;241m.\u001b[39m_drop_axis(labels, axis, level\u001b[38;5;241m=\u001b[39mlevel, errors\u001b[38;5;241m=\u001b[39merrors)\n\u001b[0;32m   4790\u001b[0m \u001b[38;5;28;01mif\u001b[39;00m inplace:\n\u001b[0;32m   4791\u001b[0m     \u001b[38;5;28mself\u001b[39m\u001b[38;5;241m.\u001b[39m_update_inplace(obj)\n",
      "File \u001b[1;32mC:\\ProgramData\\anaconda3\\Lib\\site-packages\\pandas\\core\\generic.py:4830\u001b[0m, in \u001b[0;36mNDFrame._drop_axis\u001b[1;34m(self, labels, axis, level, errors, only_slice)\u001b[0m\n\u001b[0;32m   4828\u001b[0m         new_axis \u001b[38;5;241m=\u001b[39m axis\u001b[38;5;241m.\u001b[39mdrop(labels, level\u001b[38;5;241m=\u001b[39mlevel, errors\u001b[38;5;241m=\u001b[39merrors)\n\u001b[0;32m   4829\u001b[0m     \u001b[38;5;28;01melse\u001b[39;00m:\n\u001b[1;32m-> 4830\u001b[0m         new_axis \u001b[38;5;241m=\u001b[39m axis\u001b[38;5;241m.\u001b[39mdrop(labels, errors\u001b[38;5;241m=\u001b[39merrors)\n\u001b[0;32m   4831\u001b[0m     indexer \u001b[38;5;241m=\u001b[39m axis\u001b[38;5;241m.\u001b[39mget_indexer(new_axis)\n\u001b[0;32m   4833\u001b[0m \u001b[38;5;66;03m# Case for non-unique axis\u001b[39;00m\n\u001b[0;32m   4834\u001b[0m \u001b[38;5;28;01melse\u001b[39;00m:\n",
      "File \u001b[1;32mC:\\ProgramData\\anaconda3\\Lib\\site-packages\\pandas\\core\\indexes\\base.py:7070\u001b[0m, in \u001b[0;36mIndex.drop\u001b[1;34m(self, labels, errors)\u001b[0m\n\u001b[0;32m   7068\u001b[0m \u001b[38;5;28;01mif\u001b[39;00m mask\u001b[38;5;241m.\u001b[39many():\n\u001b[0;32m   7069\u001b[0m     \u001b[38;5;28;01mif\u001b[39;00m errors \u001b[38;5;241m!=\u001b[39m \u001b[38;5;124m\"\u001b[39m\u001b[38;5;124mignore\u001b[39m\u001b[38;5;124m\"\u001b[39m:\n\u001b[1;32m-> 7070\u001b[0m         \u001b[38;5;28;01mraise\u001b[39;00m \u001b[38;5;167;01mKeyError\u001b[39;00m(\u001b[38;5;124mf\u001b[39m\u001b[38;5;124m\"\u001b[39m\u001b[38;5;132;01m{\u001b[39;00mlabels[mask]\u001b[38;5;241m.\u001b[39mtolist()\u001b[38;5;132;01m}\u001b[39;00m\u001b[38;5;124m not found in axis\u001b[39m\u001b[38;5;124m\"\u001b[39m)\n\u001b[0;32m   7071\u001b[0m     indexer \u001b[38;5;241m=\u001b[39m indexer[\u001b[38;5;241m~\u001b[39mmask]\n\u001b[0;32m   7072\u001b[0m \u001b[38;5;28;01mreturn\u001b[39;00m \u001b[38;5;28mself\u001b[39m\u001b[38;5;241m.\u001b[39mdelete(indexer)\n",
      "\u001b[1;31mKeyError\u001b[0m: \"['Deneme'] not found in axis\""
     ]
    }
   ],
   "source": [
    "new_df.drop(\"Deneme\",axis=1)"
   ]
  },
  {
   "cell_type": "code",
   "execution_count": null,
   "id": "d4820ec5-18e6-468a-aadc-f4989801dbbc",
   "metadata": {},
   "outputs": [],
   "source": [
    "new_df"
   ]
  },
  {
   "cell_type": "code",
   "execution_count": null,
   "id": "4466a33f-ce22-4d0c-88f9-1e459afd576c",
   "metadata": {},
   "outputs": [],
   "source": [
    "new_df.drop([\"Edip\",\"Deneme\",\"Mangtay\"],axis=1,inplace=True)"
   ]
  },
  {
   "cell_type": "code",
   "execution_count": null,
   "id": "494d0584-d495-4997-81a0-c86da43e3ff1",
   "metadata": {},
   "outputs": [],
   "source": [
    "new_df"
   ]
  },
  {
   "cell_type": "code",
   "execution_count": null,
   "id": "d12816fb-0d1f-47d9-ad34-9d54f84ea913",
   "metadata": {},
   "outputs": [],
   "source": [
    "new_df.drop(\"Yiğit\",axis=0)"
   ]
  },
  {
   "cell_type": "code",
   "execution_count": null,
   "id": "520e6bd3-513d-4cd2-8371-ee89657e591d",
   "metadata": {},
   "outputs": [],
   "source": [
    "new_df.loc[\"Edip\"]"
   ]
  },
  {
   "cell_type": "code",
   "execution_count": null,
   "id": "e99cb989-7cd8-4716-97ab-d5c572ed5442",
   "metadata": {},
   "outputs": [],
   "source": [
    "new_df.loc[\"Edip\"][\"Maaş\"]"
   ]
  },
  {
   "cell_type": "code",
   "execution_count": null,
   "id": "ba9fe2f5-dfd3-49b6-b411-05c023e8af7d",
   "metadata": {},
   "outputs": [],
   "source": [
    "new_df.loc[\"Edip\",\"Maaş\"]"
   ]
  },
  {
   "cell_type": "code",
   "execution_count": null,
   "id": "d8a30d5e-fa35-45f7-aa19-6ef3fd88b797",
   "metadata": {},
   "outputs": [],
   "source": [
    "new_df.loc[\"Edip\",\"Maaş\"] = 10000"
   ]
  },
  {
   "cell_type": "code",
   "execution_count": null,
   "id": "d30dc67e-96d2-44cf-914d-83f1af3dc48b",
   "metadata": {},
   "outputs": [],
   "source": [
    "new_df.loc[\"Edip\"][\"Maaş\"]"
   ]
  },
  {
   "cell_type": "code",
   "execution_count": null,
   "id": "550cb9d8-198d-4495-8148-696e520b9a45",
   "metadata": {},
   "outputs": [],
   "source": [
    "new_df>0"
   ]
  },
  {
   "cell_type": "code",
   "execution_count": null,
   "id": "298f377e-d3a4-4155-bbe4-d1738293170f",
   "metadata": {},
   "outputs": [],
   "source": [
    "new_df[new_df>0]"
   ]
  },
  {
   "cell_type": "code",
   "execution_count": null,
   "id": "dade03a3-880e-4d28-9b22-b617ec3ed482",
   "metadata": {},
   "outputs": [],
   "source": [
    "new_df[new_df[\"Maaş\"]>1]"
   ]
  },
  {
   "cell_type": "code",
   "execution_count": null,
   "id": "c0cbfa1a-a383-4369-ac1b-14e54322da10",
   "metadata": {},
   "outputs": [],
   "source": [
    "new_df"
   ]
  },
  {
   "cell_type": "code",
   "execution_count": 56,
   "id": "23afa59c-4017-406f-afcf-bfc178e3d851",
   "metadata": {},
   "outputs": [
    {
     "data": {
      "text/html": [
       "<div>\n",
       "<style scoped>\n",
       "    .dataframe tbody tr th:only-of-type {\n",
       "        vertical-align: middle;\n",
       "    }\n",
       "\n",
       "    .dataframe tbody tr th {\n",
       "        vertical-align: top;\n",
       "    }\n",
       "\n",
       "    .dataframe thead th {\n",
       "        text-align: right;\n",
       "    }\n",
       "</style>\n",
       "<table border=\"1\" class=\"dataframe\">\n",
       "  <thead>\n",
       "    <tr style=\"text-align: right;\">\n",
       "      <th></th>\n",
       "      <th>Maaş</th>\n",
       "      <th>Yaş</th>\n",
       "      <th>Senioraty</th>\n",
       "      <th>Mangtay</th>\n",
       "    </tr>\n",
       "  </thead>\n",
       "  <tbody>\n",
       "    <tr>\n",
       "      <th>Mangtay</th>\n",
       "      <td>-0.314283</td>\n",
       "      <td>0.751035</td>\n",
       "      <td>0.985932</td>\n",
       "      <td>10</td>\n",
       "    </tr>\n",
       "  </tbody>\n",
       "</table>\n",
       "</div>"
      ],
      "text/plain": [
       "             Maaş       Yaş  Senioraty  Mangtay\n",
       "Mangtay -0.314283  0.751035   0.985932       10"
      ]
     },
     "execution_count": 56,
     "metadata": {},
     "output_type": "execute_result"
    }
   ],
   "source": [
    "new_df[new_df[\"Yaş\"]>0]"
   ]
  },
  {
   "cell_type": "code",
   "execution_count": 57,
   "id": "5d9e43a7-87e7-4da7-a3c6-bc547bc6cb03",
   "metadata": {},
   "outputs": [
    {
     "data": {
      "text/html": [
       "<div>\n",
       "<style scoped>\n",
       "    .dataframe tbody tr th:only-of-type {\n",
       "        vertical-align: middle;\n",
       "    }\n",
       "\n",
       "    .dataframe tbody tr th {\n",
       "        vertical-align: top;\n",
       "    }\n",
       "\n",
       "    .dataframe thead th {\n",
       "        text-align: right;\n",
       "    }\n",
       "</style>\n",
       "<table border=\"1\" class=\"dataframe\">\n",
       "  <thead>\n",
       "    <tr style=\"text-align: right;\">\n",
       "      <th></th>\n",
       "      <th>Maaş</th>\n",
       "      <th>Yaş</th>\n",
       "      <th>Senioraty</th>\n",
       "      <th>Mangtay</th>\n",
       "    </tr>\n",
       "  </thead>\n",
       "  <tbody>\n",
       "    <tr>\n",
       "      <th>Edip</th>\n",
       "      <td>-0.156854</td>\n",
       "      <td>-0.535516</td>\n",
       "      <td>-0.257400</td>\n",
       "      <td>10</td>\n",
       "    </tr>\n",
       "    <tr>\n",
       "      <th>Mangtay</th>\n",
       "      <td>-0.314283</td>\n",
       "      <td>0.751035</td>\n",
       "      <td>0.985932</td>\n",
       "      <td>10</td>\n",
       "    </tr>\n",
       "    <tr>\n",
       "      <th>Software</th>\n",
       "      <td>0.119928</td>\n",
       "      <td>-1.437478</td>\n",
       "      <td>1.397308</td>\n",
       "      <td>10</td>\n",
       "    </tr>\n",
       "    <tr>\n",
       "      <th>Yiğit</th>\n",
       "      <td>0.261917</td>\n",
       "      <td>-1.244741</td>\n",
       "      <td>0.997932</td>\n",
       "      <td>10</td>\n",
       "    </tr>\n",
       "  </tbody>\n",
       "</table>\n",
       "</div>"
      ],
      "text/plain": [
       "              Maaş       Yaş  Senioraty  Mangtay\n",
       "Edip     -0.156854 -0.535516  -0.257400       10\n",
       "Mangtay  -0.314283  0.751035   0.985932       10\n",
       "Software  0.119928 -1.437478   1.397308       10\n",
       "Yiğit     0.261917 -1.244741   0.997932       10"
      ]
     },
     "execution_count": 57,
     "metadata": {},
     "output_type": "execute_result"
    }
   ],
   "source": [
    "new_df"
   ]
  },
  {
   "cell_type": "code",
   "execution_count": 59,
   "id": "cc06bebd-49c9-4dee-9e9e-180a7c6e4b9a",
   "metadata": {},
   "outputs": [
    {
     "data": {
      "text/html": [
       "<div>\n",
       "<style scoped>\n",
       "    .dataframe tbody tr th:only-of-type {\n",
       "        vertical-align: middle;\n",
       "    }\n",
       "\n",
       "    .dataframe tbody tr th {\n",
       "        vertical-align: top;\n",
       "    }\n",
       "\n",
       "    .dataframe thead th {\n",
       "        text-align: right;\n",
       "    }\n",
       "</style>\n",
       "<table border=\"1\" class=\"dataframe\">\n",
       "  <thead>\n",
       "    <tr style=\"text-align: right;\">\n",
       "      <th></th>\n",
       "      <th>index</th>\n",
       "      <th>Maaş</th>\n",
       "      <th>Yaş</th>\n",
       "      <th>Senioraty</th>\n",
       "      <th>Mangtay</th>\n",
       "    </tr>\n",
       "  </thead>\n",
       "  <tbody>\n",
       "    <tr>\n",
       "      <th>0</th>\n",
       "      <td>Edip</td>\n",
       "      <td>-0.156854</td>\n",
       "      <td>-0.535516</td>\n",
       "      <td>-0.257400</td>\n",
       "      <td>10</td>\n",
       "    </tr>\n",
       "    <tr>\n",
       "      <th>1</th>\n",
       "      <td>Mangtay</td>\n",
       "      <td>-0.314283</td>\n",
       "      <td>0.751035</td>\n",
       "      <td>0.985932</td>\n",
       "      <td>10</td>\n",
       "    </tr>\n",
       "    <tr>\n",
       "      <th>2</th>\n",
       "      <td>Software</td>\n",
       "      <td>0.119928</td>\n",
       "      <td>-1.437478</td>\n",
       "      <td>1.397308</td>\n",
       "      <td>10</td>\n",
       "    </tr>\n",
       "    <tr>\n",
       "      <th>3</th>\n",
       "      <td>Yiğit</td>\n",
       "      <td>0.261917</td>\n",
       "      <td>-1.244741</td>\n",
       "      <td>0.997932</td>\n",
       "      <td>10</td>\n",
       "    </tr>\n",
       "  </tbody>\n",
       "</table>\n",
       "</div>"
      ],
      "text/plain": [
       "      index      Maaş       Yaş  Senioraty  Mangtay\n",
       "0      Edip -0.156854 -0.535516  -0.257400       10\n",
       "1   Mangtay -0.314283  0.751035   0.985932       10\n",
       "2  Software  0.119928 -1.437478   1.397308       10\n",
       "3     Yiğit  0.261917 -1.244741   0.997932       10"
      ]
     },
     "execution_count": 59,
     "metadata": {},
     "output_type": "execute_result"
    }
   ],
   "source": [
    "new_df.reset_index() #indexi ayrı bir column olarka açar ve sıfırdan kendisi dizmeye başlar "
   ]
  },
  {
   "cell_type": "code",
   "execution_count": 61,
   "id": "0d1785fa-dfe7-4692-9495-b20b31fc6212",
   "metadata": {},
   "outputs": [],
   "source": [
    "rest_frame =  new_df.reset_index()"
   ]
  },
  {
   "cell_type": "code",
   "execution_count": 62,
   "id": "4553fc32-b040-4912-8b58-b8cc7622ab00",
   "metadata": {},
   "outputs": [
    {
     "data": {
      "text/html": [
       "<div>\n",
       "<style scoped>\n",
       "    .dataframe tbody tr th:only-of-type {\n",
       "        vertical-align: middle;\n",
       "    }\n",
       "\n",
       "    .dataframe tbody tr th {\n",
       "        vertical-align: top;\n",
       "    }\n",
       "\n",
       "    .dataframe thead th {\n",
       "        text-align: right;\n",
       "    }\n",
       "</style>\n",
       "<table border=\"1\" class=\"dataframe\">\n",
       "  <thead>\n",
       "    <tr style=\"text-align: right;\">\n",
       "      <th></th>\n",
       "      <th>index</th>\n",
       "      <th>Maaş</th>\n",
       "      <th>Yaş</th>\n",
       "      <th>Senioraty</th>\n",
       "      <th>Mangtay</th>\n",
       "    </tr>\n",
       "  </thead>\n",
       "  <tbody>\n",
       "    <tr>\n",
       "      <th>0</th>\n",
       "      <td>Edip</td>\n",
       "      <td>-0.156854</td>\n",
       "      <td>-0.535516</td>\n",
       "      <td>-0.257400</td>\n",
       "      <td>10</td>\n",
       "    </tr>\n",
       "    <tr>\n",
       "      <th>1</th>\n",
       "      <td>Mangtay</td>\n",
       "      <td>-0.314283</td>\n",
       "      <td>0.751035</td>\n",
       "      <td>0.985932</td>\n",
       "      <td>10</td>\n",
       "    </tr>\n",
       "    <tr>\n",
       "      <th>2</th>\n",
       "      <td>Software</td>\n",
       "      <td>0.119928</td>\n",
       "      <td>-1.437478</td>\n",
       "      <td>1.397308</td>\n",
       "      <td>10</td>\n",
       "    </tr>\n",
       "    <tr>\n",
       "      <th>3</th>\n",
       "      <td>Yiğit</td>\n",
       "      <td>0.261917</td>\n",
       "      <td>-1.244741</td>\n",
       "      <td>0.997932</td>\n",
       "      <td>10</td>\n",
       "    </tr>\n",
       "  </tbody>\n",
       "</table>\n",
       "</div>"
      ],
      "text/plain": [
       "      index      Maaş       Yaş  Senioraty  Mangtay\n",
       "0      Edip -0.156854 -0.535516  -0.257400       10\n",
       "1   Mangtay -0.314283  0.751035   0.985932       10\n",
       "2  Software  0.119928 -1.437478   1.397308       10\n",
       "3     Yiğit  0.261917 -1.244741   0.997932       10"
      ]
     },
     "execution_count": 62,
     "metadata": {},
     "output_type": "execute_result"
    }
   ],
   "source": [
    "rest_frame"
   ]
  },
  {
   "cell_type": "raw",
   "id": "e66f0238-92e1-4a77-ba52-45b0d6fb6692",
   "metadata": {},
   "source": [
    "# Burada önemli bir fark var örnek olarak aşağıda kodla vereceğim"
   ]
  },
  {
   "cell_type": "code",
   "execution_count": 64,
   "id": "852df601-213b-4cc3-bf5d-5d27dc4763e6",
   "metadata": {},
   "outputs": [
    {
     "data": {
      "text/plain": [
       "Maaş         -0.156854\n",
       "Yaş          -0.535516\n",
       "Senioraty    -0.257400\n",
       "Mangtay      10.000000\n",
       "Name: Edip, dtype: float64"
      ]
     },
     "execution_count": 64,
     "metadata": {},
     "output_type": "execute_result"
    }
   ],
   "source": [
    "new_df.loc[\"Edip\"] # buradan index ile ulaşım yapamıyorum "
   ]
  },
  {
   "cell_type": "code",
   "execution_count": 70,
   "id": "c7b2615b-ccf2-4b3b-817d-24d3510e82c0",
   "metadata": {},
   "outputs": [
    {
     "data": {
      "text/plain": [
       "index            Edip\n",
       "Maaş        -0.156854\n",
       "Yaş         -0.535516\n",
       "Senioraty     -0.2574\n",
       "Mangtay            10\n",
       "Name: 0, dtype: object"
      ]
     },
     "execution_count": 70,
     "metadata": {},
     "output_type": "execute_result"
    }
   ],
   "source": [
    "\n",
    "rest_frame.loc[0] # ama buradna index ile gelebilirim"
   ]
  },
  {
   "cell_type": "code",
   "execution_count": 71,
   "id": "336db9b9-4ede-47fe-9252-5a053aa2c186",
   "metadata": {},
   "outputs": [],
   "source": [
    "new_indices = [\"Ati\",\"Zey\",\"Atl\",\"Meh\"]"
   ]
  },
  {
   "cell_type": "code",
   "execution_count": 72,
   "id": "55cac94e-215e-4880-b353-158abbd5540c",
   "metadata": {},
   "outputs": [],
   "source": [
    "new_df[\"NewIndex\"] =  new_indices"
   ]
  },
  {
   "cell_type": "code",
   "execution_count": 73,
   "id": "4cf29a54-365c-46ae-a5c4-7dc8639292b1",
   "metadata": {},
   "outputs": [
    {
     "data": {
      "text/html": [
       "<div>\n",
       "<style scoped>\n",
       "    .dataframe tbody tr th:only-of-type {\n",
       "        vertical-align: middle;\n",
       "    }\n",
       "\n",
       "    .dataframe tbody tr th {\n",
       "        vertical-align: top;\n",
       "    }\n",
       "\n",
       "    .dataframe thead th {\n",
       "        text-align: right;\n",
       "    }\n",
       "</style>\n",
       "<table border=\"1\" class=\"dataframe\">\n",
       "  <thead>\n",
       "    <tr style=\"text-align: right;\">\n",
       "      <th></th>\n",
       "      <th>Maaş</th>\n",
       "      <th>Yaş</th>\n",
       "      <th>Senioraty</th>\n",
       "      <th>Mangtay</th>\n",
       "      <th>NewIndex</th>\n",
       "    </tr>\n",
       "  </thead>\n",
       "  <tbody>\n",
       "    <tr>\n",
       "      <th>Edip</th>\n",
       "      <td>-0.156854</td>\n",
       "      <td>-0.535516</td>\n",
       "      <td>-0.257400</td>\n",
       "      <td>10</td>\n",
       "      <td>Ati</td>\n",
       "    </tr>\n",
       "    <tr>\n",
       "      <th>Mangtay</th>\n",
       "      <td>-0.314283</td>\n",
       "      <td>0.751035</td>\n",
       "      <td>0.985932</td>\n",
       "      <td>10</td>\n",
       "      <td>Zey</td>\n",
       "    </tr>\n",
       "    <tr>\n",
       "      <th>Software</th>\n",
       "      <td>0.119928</td>\n",
       "      <td>-1.437478</td>\n",
       "      <td>1.397308</td>\n",
       "      <td>10</td>\n",
       "      <td>Atl</td>\n",
       "    </tr>\n",
       "    <tr>\n",
       "      <th>Yiğit</th>\n",
       "      <td>0.261917</td>\n",
       "      <td>-1.244741</td>\n",
       "      <td>0.997932</td>\n",
       "      <td>10</td>\n",
       "      <td>Meh</td>\n",
       "    </tr>\n",
       "  </tbody>\n",
       "</table>\n",
       "</div>"
      ],
      "text/plain": [
       "              Maaş       Yaş  Senioraty  Mangtay NewIndex\n",
       "Edip     -0.156854 -0.535516  -0.257400       10      Ati\n",
       "Mangtay  -0.314283  0.751035   0.985932       10      Zey\n",
       "Software  0.119928 -1.437478   1.397308       10      Atl\n",
       "Yiğit     0.261917 -1.244741   0.997932       10      Meh"
      ]
     },
     "execution_count": 73,
     "metadata": {},
     "output_type": "execute_result"
    }
   ],
   "source": [
    "new_df"
   ]
  },
  {
   "cell_type": "code",
   "execution_count": 74,
   "id": "fffee9ba-abba-4a1f-bcee-256286dac4aa",
   "metadata": {},
   "outputs": [],
   "source": [
    "new_df.set_index(\"NewIndex\",inplace=True)"
   ]
  },
  {
   "cell_type": "code",
   "execution_count": 76,
   "id": "3987b201-57b3-450d-bb77-e2886138c37d",
   "metadata": {},
   "outputs": [
    {
     "data": {
      "text/html": [
       "<div>\n",
       "<style scoped>\n",
       "    .dataframe tbody tr th:only-of-type {\n",
       "        vertical-align: middle;\n",
       "    }\n",
       "\n",
       "    .dataframe tbody tr th {\n",
       "        vertical-align: top;\n",
       "    }\n",
       "\n",
       "    .dataframe thead th {\n",
       "        text-align: right;\n",
       "    }\n",
       "</style>\n",
       "<table border=\"1\" class=\"dataframe\">\n",
       "  <thead>\n",
       "    <tr style=\"text-align: right;\">\n",
       "      <th></th>\n",
       "      <th>Maaş</th>\n",
       "      <th>Yaş</th>\n",
       "      <th>Senioraty</th>\n",
       "      <th>Mangtay</th>\n",
       "    </tr>\n",
       "    <tr>\n",
       "      <th>NewIndex</th>\n",
       "      <th></th>\n",
       "      <th></th>\n",
       "      <th></th>\n",
       "      <th></th>\n",
       "    </tr>\n",
       "  </thead>\n",
       "  <tbody>\n",
       "    <tr>\n",
       "      <th>Ati</th>\n",
       "      <td>-0.156854</td>\n",
       "      <td>-0.535516</td>\n",
       "      <td>-0.257400</td>\n",
       "      <td>10</td>\n",
       "    </tr>\n",
       "    <tr>\n",
       "      <th>Zey</th>\n",
       "      <td>-0.314283</td>\n",
       "      <td>0.751035</td>\n",
       "      <td>0.985932</td>\n",
       "      <td>10</td>\n",
       "    </tr>\n",
       "    <tr>\n",
       "      <th>Atl</th>\n",
       "      <td>0.119928</td>\n",
       "      <td>-1.437478</td>\n",
       "      <td>1.397308</td>\n",
       "      <td>10</td>\n",
       "    </tr>\n",
       "    <tr>\n",
       "      <th>Meh</th>\n",
       "      <td>0.261917</td>\n",
       "      <td>-1.244741</td>\n",
       "      <td>0.997932</td>\n",
       "      <td>10</td>\n",
       "    </tr>\n",
       "  </tbody>\n",
       "</table>\n",
       "</div>"
      ],
      "text/plain": [
       "              Maaş       Yaş  Senioraty  Mangtay\n",
       "NewIndex                                        \n",
       "Ati      -0.156854 -0.535516  -0.257400       10\n",
       "Zey      -0.314283  0.751035   0.985932       10\n",
       "Atl       0.119928 -1.437478   1.397308       10\n",
       "Meh       0.261917 -1.244741   0.997932       10"
      ]
     },
     "execution_count": 76,
     "metadata": {},
     "output_type": "execute_result"
    }
   ],
   "source": [
    "new_df # burada indexi değiştirdim"
   ]
  },
  {
   "cell_type": "code",
   "execution_count": 78,
   "id": "2b6a769d-1119-4512-a301-38455b662902",
   "metadata": {},
   "outputs": [
    {
     "data": {
      "text/plain": [
       "Maaş         -0.156854\n",
       "Yaş          -0.535516\n",
       "Senioraty    -0.257400\n",
       "Mangtay      10.000000\n",
       "Name: Ati, dtype: float64"
      ]
     },
     "execution_count": 78,
     "metadata": {},
     "output_type": "execute_result"
    }
   ],
   "source": [
    "new_df.loc[\"Ati\"]"
   ]
  },
  {
   "cell_type": "code",
   "execution_count": 80,
   "id": "bc59a4ee-7eb1-4fa0-805a-bbc2bd94b049",
   "metadata": {},
   "outputs": [
    {
     "data": {
      "text/plain": [
       "Maaş         -0.156854\n",
       "Yaş          -0.535516\n",
       "Senioraty    -0.257400\n",
       "Mangtay      10.000000\n",
       "Name: Ati, dtype: float64"
      ]
     },
     "execution_count": 80,
     "metadata": {},
     "output_type": "execute_result"
    }
   ],
   "source": [
    "new_df.loc[\"Ati\"]\n"
   ]
  },
  {
   "cell_type": "code",
   "execution_count": 81,
   "id": "42c0894c-0ec4-4e7e-8709-a8d9e5e201c5",
   "metadata": {},
   "outputs": [],
   "source": [
    "#Multi index nedir  ? "
   ]
  },
  {
   "cell_type": "code",
   "execution_count": 82,
   "id": "17597c24-f0fd-4eea-ae06-bbe36fe40584",
   "metadata": {},
   "outputs": [],
   "source": [
    "first_index = [\"Simson\",\"Simson\",\"Simson\",\"Shouth Park\",\"Shouth Park\",\"Shouth Park\"]"
   ]
  },
  {
   "cell_type": "code",
   "execution_count": 83,
   "id": "a8c7f6b6-c4ea-4759-b3f2-11e565735553",
   "metadata": {},
   "outputs": [],
   "source": [
    "inner_index = [\"Homer\",\"Bart\",\"Marge\",\"Cartman\",\"Kenny\",\"Kyle\"]"
   ]
  },
  {
   "cell_type": "code",
   "execution_count": 85,
   "id": "1612ac1f-9417-464c-8676-3563f634cdd5",
   "metadata": {},
   "outputs": [],
   "source": [
    "zipped_index = list(zip(first_index,inner_index))"
   ]
  },
  {
   "cell_type": "code",
   "execution_count": 86,
   "id": "91754e94-dfa0-4163-9b1c-bf3bcf370502",
   "metadata": {},
   "outputs": [
    {
     "data": {
      "text/plain": [
       "[('Simson', 'Homer'),\n",
       " ('Simson', 'Bart'),\n",
       " ('Simson', 'Marge'),\n",
       " ('Shouth Park', 'Cartman'),\n",
       " ('Shouth Park', 'Kenny'),\n",
       " ('Shouth Park', 'Kyle')]"
      ]
     },
     "execution_count": 86,
     "metadata": {},
     "output_type": "execute_result"
    }
   ],
   "source": [
    "zipped_index"
   ]
  },
  {
   "cell_type": "code",
   "execution_count": 87,
   "id": "883885bf-6506-45ed-800a-ef3929aa587d",
   "metadata": {},
   "outputs": [],
   "source": [
    "#Bunlardan dataframe olulturmak için yapılcakalr "
   ]
  },
  {
   "cell_type": "code",
   "execution_count": 89,
   "id": "0c19c670-adb4-49f5-8b1f-c35333c8b005",
   "metadata": {},
   "outputs": [],
   "source": [
    "zipped_index = pd.MultiIndex.from_tuples(zipped_index)"
   ]
  },
  {
   "cell_type": "code",
   "execution_count": 90,
   "id": "63aaf091-f036-4164-ab40-8b203e2fa808",
   "metadata": {},
   "outputs": [
    {
     "data": {
      "text/plain": [
       "MultiIndex([(     'Simson',   'Homer'),\n",
       "            (     'Simson',    'Bart'),\n",
       "            (     'Simson',   'Marge'),\n",
       "            ('Shouth Park', 'Cartman'),\n",
       "            ('Shouth Park',   'Kenny'),\n",
       "            ('Shouth Park',    'Kyle')],\n",
       "           )"
      ]
     },
     "execution_count": 90,
     "metadata": {},
     "output_type": "execute_result"
    }
   ],
   "source": [
    "zipped_index"
   ]
  },
  {
   "cell_type": "code",
   "execution_count": 91,
   "id": "84b2aebf-3920-4083-b9dd-084581c8fa69",
   "metadata": {},
   "outputs": [],
   "source": [
    "sample_values = np.ones((6,2))"
   ]
  },
  {
   "cell_type": "code",
   "execution_count": 92,
   "id": "60501366-aa1d-4af5-8aa9-df6a5dfee4ee",
   "metadata": {},
   "outputs": [],
   "source": [
    "big_df = pd.DataFrame(sample_values,index=zipped_index,columns=[\"Ages\",\"Salary\"])"
   ]
  },
  {
   "cell_type": "code",
   "execution_count": 93,
   "id": "63aa0e27-aee2-4bae-9b70-656ad583528d",
   "metadata": {},
   "outputs": [
    {
     "data": {
      "text/html": [
       "<div>\n",
       "<style scoped>\n",
       "    .dataframe tbody tr th:only-of-type {\n",
       "        vertical-align: middle;\n",
       "    }\n",
       "\n",
       "    .dataframe tbody tr th {\n",
       "        vertical-align: top;\n",
       "    }\n",
       "\n",
       "    .dataframe thead th {\n",
       "        text-align: right;\n",
       "    }\n",
       "</style>\n",
       "<table border=\"1\" class=\"dataframe\">\n",
       "  <thead>\n",
       "    <tr style=\"text-align: right;\">\n",
       "      <th></th>\n",
       "      <th></th>\n",
       "      <th>Ages</th>\n",
       "      <th>Salary</th>\n",
       "    </tr>\n",
       "  </thead>\n",
       "  <tbody>\n",
       "    <tr>\n",
       "      <th rowspan=\"3\" valign=\"top\">Simson</th>\n",
       "      <th>Homer</th>\n",
       "      <td>1.0</td>\n",
       "      <td>1.0</td>\n",
       "    </tr>\n",
       "    <tr>\n",
       "      <th>Bart</th>\n",
       "      <td>1.0</td>\n",
       "      <td>1.0</td>\n",
       "    </tr>\n",
       "    <tr>\n",
       "      <th>Marge</th>\n",
       "      <td>1.0</td>\n",
       "      <td>1.0</td>\n",
       "    </tr>\n",
       "    <tr>\n",
       "      <th rowspan=\"3\" valign=\"top\">Shouth Park</th>\n",
       "      <th>Cartman</th>\n",
       "      <td>1.0</td>\n",
       "      <td>1.0</td>\n",
       "    </tr>\n",
       "    <tr>\n",
       "      <th>Kenny</th>\n",
       "      <td>1.0</td>\n",
       "      <td>1.0</td>\n",
       "    </tr>\n",
       "    <tr>\n",
       "      <th>Kyle</th>\n",
       "      <td>1.0</td>\n",
       "      <td>1.0</td>\n",
       "    </tr>\n",
       "  </tbody>\n",
       "</table>\n",
       "</div>"
      ],
      "text/plain": [
       "                     Ages  Salary\n",
       "Simson      Homer     1.0     1.0\n",
       "            Bart      1.0     1.0\n",
       "            Marge     1.0     1.0\n",
       "Shouth Park Cartman   1.0     1.0\n",
       "            Kenny     1.0     1.0\n",
       "            Kyle      1.0     1.0"
      ]
     },
     "execution_count": 93,
     "metadata": {},
     "output_type": "execute_result"
    }
   ],
   "source": [
    "big_df"
   ]
  },
  {
   "cell_type": "code",
   "execution_count": 94,
   "id": "6d80f864-a649-4a4c-bd33-92477a46504f",
   "metadata": {},
   "outputs": [
    {
     "data": {
      "text/plain": [
       "Simson       Homer      1.0\n",
       "             Bart       1.0\n",
       "             Marge      1.0\n",
       "Shouth Park  Cartman    1.0\n",
       "             Kenny      1.0\n",
       "             Kyle       1.0\n",
       "Name: Ages, dtype: float64"
      ]
     },
     "execution_count": 94,
     "metadata": {},
     "output_type": "execute_result"
    }
   ],
   "source": [
    "big_df[\"Ages\"]"
   ]
  },
  {
   "cell_type": "code",
   "execution_count": 96,
   "id": "d8466654-b058-42ac-a528-1990956d788c",
   "metadata": {},
   "outputs": [
    {
     "ename": "KeyError",
     "evalue": "'Hommer'",
     "output_type": "error",
     "traceback": [
      "\u001b[1;31m---------------------------------------------------------------------------\u001b[0m",
      "\u001b[1;31mKeyError\u001b[0m                                  Traceback (most recent call last)",
      "File \u001b[1;32mC:\\ProgramData\\anaconda3\\Lib\\site-packages\\pandas\\core\\indexes\\base.py:3805\u001b[0m, in \u001b[0;36mIndex.get_loc\u001b[1;34m(self, key)\u001b[0m\n\u001b[0;32m   3804\u001b[0m \u001b[38;5;28;01mtry\u001b[39;00m:\n\u001b[1;32m-> 3805\u001b[0m     \u001b[38;5;28;01mreturn\u001b[39;00m \u001b[38;5;28mself\u001b[39m\u001b[38;5;241m.\u001b[39m_engine\u001b[38;5;241m.\u001b[39mget_loc(casted_key)\n\u001b[0;32m   3806\u001b[0m \u001b[38;5;28;01mexcept\u001b[39;00m \u001b[38;5;167;01mKeyError\u001b[39;00m \u001b[38;5;28;01mas\u001b[39;00m err:\n",
      "File \u001b[1;32mindex.pyx:167\u001b[0m, in \u001b[0;36mpandas._libs.index.IndexEngine.get_loc\u001b[1;34m()\u001b[0m\n",
      "File \u001b[1;32mindex.pyx:196\u001b[0m, in \u001b[0;36mpandas._libs.index.IndexEngine.get_loc\u001b[1;34m()\u001b[0m\n",
      "File \u001b[1;32mpandas\\\\_libs\\\\hashtable_class_helper.pxi:7081\u001b[0m, in \u001b[0;36mpandas._libs.hashtable.PyObjectHashTable.get_item\u001b[1;34m()\u001b[0m\n",
      "File \u001b[1;32mpandas\\\\_libs\\\\hashtable_class_helper.pxi:7089\u001b[0m, in \u001b[0;36mpandas._libs.hashtable.PyObjectHashTable.get_item\u001b[1;34m()\u001b[0m\n",
      "\u001b[1;31mKeyError\u001b[0m: 'Hommer'",
      "\nThe above exception was the direct cause of the following exception:\n",
      "\u001b[1;31mKeyError\u001b[0m                                  Traceback (most recent call last)",
      "Cell \u001b[1;32mIn[96], line 1\u001b[0m\n\u001b[1;32m----> 1\u001b[0m big_df\u001b[38;5;241m.\u001b[39mloc[\u001b[38;5;124m\"\u001b[39m\u001b[38;5;124mHommer\u001b[39m\u001b[38;5;124m\"\u001b[39m]\n",
      "File \u001b[1;32mC:\\ProgramData\\anaconda3\\Lib\\site-packages\\pandas\\core\\indexing.py:1191\u001b[0m, in \u001b[0;36m_LocationIndexer.__getitem__\u001b[1;34m(self, key)\u001b[0m\n\u001b[0;32m   1189\u001b[0m maybe_callable \u001b[38;5;241m=\u001b[39m com\u001b[38;5;241m.\u001b[39mapply_if_callable(key, \u001b[38;5;28mself\u001b[39m\u001b[38;5;241m.\u001b[39mobj)\n\u001b[0;32m   1190\u001b[0m maybe_callable \u001b[38;5;241m=\u001b[39m \u001b[38;5;28mself\u001b[39m\u001b[38;5;241m.\u001b[39m_check_deprecated_callable_usage(key, maybe_callable)\n\u001b[1;32m-> 1191\u001b[0m \u001b[38;5;28;01mreturn\u001b[39;00m \u001b[38;5;28mself\u001b[39m\u001b[38;5;241m.\u001b[39m_getitem_axis(maybe_callable, axis\u001b[38;5;241m=\u001b[39maxis)\n",
      "File \u001b[1;32mC:\\ProgramData\\anaconda3\\Lib\\site-packages\\pandas\\core\\indexing.py:1431\u001b[0m, in \u001b[0;36m_LocIndexer._getitem_axis\u001b[1;34m(self, key, axis)\u001b[0m\n\u001b[0;32m   1429\u001b[0m \u001b[38;5;66;03m# fall thru to straight lookup\u001b[39;00m\n\u001b[0;32m   1430\u001b[0m \u001b[38;5;28mself\u001b[39m\u001b[38;5;241m.\u001b[39m_validate_key(key, axis)\n\u001b[1;32m-> 1431\u001b[0m \u001b[38;5;28;01mreturn\u001b[39;00m \u001b[38;5;28mself\u001b[39m\u001b[38;5;241m.\u001b[39m_get_label(key, axis\u001b[38;5;241m=\u001b[39maxis)\n",
      "File \u001b[1;32mC:\\ProgramData\\anaconda3\\Lib\\site-packages\\pandas\\core\\indexing.py:1381\u001b[0m, in \u001b[0;36m_LocIndexer._get_label\u001b[1;34m(self, label, axis)\u001b[0m\n\u001b[0;32m   1379\u001b[0m \u001b[38;5;28;01mdef\u001b[39;00m\u001b[38;5;250m \u001b[39m\u001b[38;5;21m_get_label\u001b[39m(\u001b[38;5;28mself\u001b[39m, label, axis: AxisInt):\n\u001b[0;32m   1380\u001b[0m     \u001b[38;5;66;03m# GH#5567 this will fail if the label is not present in the axis.\u001b[39;00m\n\u001b[1;32m-> 1381\u001b[0m     \u001b[38;5;28;01mreturn\u001b[39;00m \u001b[38;5;28mself\u001b[39m\u001b[38;5;241m.\u001b[39mobj\u001b[38;5;241m.\u001b[39mxs(label, axis\u001b[38;5;241m=\u001b[39maxis)\n",
      "File \u001b[1;32mC:\\ProgramData\\anaconda3\\Lib\\site-packages\\pandas\\core\\generic.py:4293\u001b[0m, in \u001b[0;36mNDFrame.xs\u001b[1;34m(self, key, axis, level, drop_level)\u001b[0m\n\u001b[0;32m   4290\u001b[0m     index \u001b[38;5;241m=\u001b[39m \u001b[38;5;28mself\u001b[39m\u001b[38;5;241m.\u001b[39mindex\n\u001b[0;32m   4292\u001b[0m \u001b[38;5;28;01mif\u001b[39;00m \u001b[38;5;28misinstance\u001b[39m(index, MultiIndex):\n\u001b[1;32m-> 4293\u001b[0m     loc, new_index \u001b[38;5;241m=\u001b[39m index\u001b[38;5;241m.\u001b[39m_get_loc_level(key, level\u001b[38;5;241m=\u001b[39m\u001b[38;5;241m0\u001b[39m)\n\u001b[0;32m   4294\u001b[0m     \u001b[38;5;28;01mif\u001b[39;00m \u001b[38;5;129;01mnot\u001b[39;00m drop_level:\n\u001b[0;32m   4295\u001b[0m         \u001b[38;5;28;01mif\u001b[39;00m lib\u001b[38;5;241m.\u001b[39mis_integer(loc):\n\u001b[0;32m   4296\u001b[0m             \u001b[38;5;66;03m# Slice index must be an integer or None\u001b[39;00m\n",
      "File \u001b[1;32mC:\\ProgramData\\anaconda3\\Lib\\site-packages\\pandas\\core\\indexes\\multi.py:3290\u001b[0m, in \u001b[0;36mMultiIndex._get_loc_level\u001b[1;34m(self, key, level)\u001b[0m\n\u001b[0;32m   3288\u001b[0m         \u001b[38;5;28;01mreturn\u001b[39;00m indexer, maybe_mi_droplevels(indexer, ilevels)\n\u001b[0;32m   3289\u001b[0m \u001b[38;5;28;01melse\u001b[39;00m:\n\u001b[1;32m-> 3290\u001b[0m     indexer \u001b[38;5;241m=\u001b[39m \u001b[38;5;28mself\u001b[39m\u001b[38;5;241m.\u001b[39m_get_level_indexer(key, level\u001b[38;5;241m=\u001b[39mlevel)\n\u001b[0;32m   3291\u001b[0m     \u001b[38;5;28;01mif\u001b[39;00m (\n\u001b[0;32m   3292\u001b[0m         \u001b[38;5;28misinstance\u001b[39m(key, \u001b[38;5;28mstr\u001b[39m)\n\u001b[0;32m   3293\u001b[0m         \u001b[38;5;129;01mand\u001b[39;00m \u001b[38;5;28mself\u001b[39m\u001b[38;5;241m.\u001b[39mlevels[level]\u001b[38;5;241m.\u001b[39m_supports_partial_string_indexing\n\u001b[0;32m   3294\u001b[0m     ):\n\u001b[0;32m   3295\u001b[0m         \u001b[38;5;66;03m# check to see if we did an exact lookup vs sliced\u001b[39;00m\n\u001b[0;32m   3296\u001b[0m         check \u001b[38;5;241m=\u001b[39m \u001b[38;5;28mself\u001b[39m\u001b[38;5;241m.\u001b[39mlevels[level]\u001b[38;5;241m.\u001b[39mget_loc(key)\n",
      "File \u001b[1;32mC:\\ProgramData\\anaconda3\\Lib\\site-packages\\pandas\\core\\indexes\\multi.py:3391\u001b[0m, in \u001b[0;36mMultiIndex._get_level_indexer\u001b[1;34m(self, key, level, indexer)\u001b[0m\n\u001b[0;32m   3388\u001b[0m         \u001b[38;5;28;01mreturn\u001b[39;00m \u001b[38;5;28mslice\u001b[39m(i, j, step)\n\u001b[0;32m   3390\u001b[0m \u001b[38;5;28;01melse\u001b[39;00m:\n\u001b[1;32m-> 3391\u001b[0m     idx \u001b[38;5;241m=\u001b[39m \u001b[38;5;28mself\u001b[39m\u001b[38;5;241m.\u001b[39m_get_loc_single_level_index(level_index, key)\n\u001b[0;32m   3393\u001b[0m     \u001b[38;5;28;01mif\u001b[39;00m level \u001b[38;5;241m>\u001b[39m \u001b[38;5;241m0\u001b[39m \u001b[38;5;129;01mor\u001b[39;00m \u001b[38;5;28mself\u001b[39m\u001b[38;5;241m.\u001b[39m_lexsort_depth \u001b[38;5;241m==\u001b[39m \u001b[38;5;241m0\u001b[39m:\n\u001b[0;32m   3394\u001b[0m         \u001b[38;5;66;03m# Desired level is not sorted\u001b[39;00m\n\u001b[0;32m   3395\u001b[0m         \u001b[38;5;28;01mif\u001b[39;00m \u001b[38;5;28misinstance\u001b[39m(idx, \u001b[38;5;28mslice\u001b[39m):\n\u001b[0;32m   3396\u001b[0m             \u001b[38;5;66;03m# test_get_loc_partial_timestamp_multiindex\u001b[39;00m\n",
      "File \u001b[1;32mC:\\ProgramData\\anaconda3\\Lib\\site-packages\\pandas\\core\\indexes\\multi.py:2980\u001b[0m, in \u001b[0;36mMultiIndex._get_loc_single_level_index\u001b[1;34m(self, level_index, key)\u001b[0m\n\u001b[0;32m   2978\u001b[0m     \u001b[38;5;28;01mreturn\u001b[39;00m \u001b[38;5;241m-\u001b[39m\u001b[38;5;241m1\u001b[39m\n\u001b[0;32m   2979\u001b[0m \u001b[38;5;28;01melse\u001b[39;00m:\n\u001b[1;32m-> 2980\u001b[0m     \u001b[38;5;28;01mreturn\u001b[39;00m level_index\u001b[38;5;241m.\u001b[39mget_loc(key)\n",
      "File \u001b[1;32mC:\\ProgramData\\anaconda3\\Lib\\site-packages\\pandas\\core\\indexes\\base.py:3812\u001b[0m, in \u001b[0;36mIndex.get_loc\u001b[1;34m(self, key)\u001b[0m\n\u001b[0;32m   3807\u001b[0m     \u001b[38;5;28;01mif\u001b[39;00m \u001b[38;5;28misinstance\u001b[39m(casted_key, \u001b[38;5;28mslice\u001b[39m) \u001b[38;5;129;01mor\u001b[39;00m (\n\u001b[0;32m   3808\u001b[0m         \u001b[38;5;28misinstance\u001b[39m(casted_key, abc\u001b[38;5;241m.\u001b[39mIterable)\n\u001b[0;32m   3809\u001b[0m         \u001b[38;5;129;01mand\u001b[39;00m \u001b[38;5;28many\u001b[39m(\u001b[38;5;28misinstance\u001b[39m(x, \u001b[38;5;28mslice\u001b[39m) \u001b[38;5;28;01mfor\u001b[39;00m x \u001b[38;5;129;01min\u001b[39;00m casted_key)\n\u001b[0;32m   3810\u001b[0m     ):\n\u001b[0;32m   3811\u001b[0m         \u001b[38;5;28;01mraise\u001b[39;00m InvalidIndexError(key)\n\u001b[1;32m-> 3812\u001b[0m     \u001b[38;5;28;01mraise\u001b[39;00m \u001b[38;5;167;01mKeyError\u001b[39;00m(key) \u001b[38;5;28;01mfrom\u001b[39;00m\u001b[38;5;250m \u001b[39m\u001b[38;5;21;01merr\u001b[39;00m\n\u001b[0;32m   3813\u001b[0m \u001b[38;5;28;01mexcept\u001b[39;00m \u001b[38;5;167;01mTypeError\u001b[39;00m:\n\u001b[0;32m   3814\u001b[0m     \u001b[38;5;66;03m# If we have a listlike key, _check_indexing_error will raise\u001b[39;00m\n\u001b[0;32m   3815\u001b[0m     \u001b[38;5;66;03m#  InvalidIndexError. Otherwise we fall through and re-raise\u001b[39;00m\n\u001b[0;32m   3816\u001b[0m     \u001b[38;5;66;03m#  the TypeError.\u001b[39;00m\n\u001b[0;32m   3817\u001b[0m     \u001b[38;5;28mself\u001b[39m\u001b[38;5;241m.\u001b[39m_check_indexing_error(key)\n",
      "\u001b[1;31mKeyError\u001b[0m: 'Hommer'"
     ]
    }
   ],
   "source": [
    "big_df.loc[\"Hommer\"] # getirmiyor"
   ]
  },
  {
   "cell_type": "code",
   "execution_count": 98,
   "id": "e6fef17b-23b6-4ba6-ad3e-8b4391767bc4",
   "metadata": {},
   "outputs": [
    {
     "data": {
      "text/plain": [
       "Ages      1.0\n",
       "Salary    1.0\n",
       "Name: Homer, dtype: float64"
      ]
     },
     "execution_count": 98,
     "metadata": {},
     "output_type": "execute_result"
    }
   ],
   "source": [
    "big_df.loc[\"Simson\"].loc[\"Homer\"] #dıştan içeri girmem gerekmekte "
   ]
  },
  {
   "cell_type": "code",
   "execution_count": null,
   "id": "b61beecf-84fd-4bc8-b50c-3102524244da",
   "metadata": {},
   "outputs": [],
   "source": []
  }
 ],
 "metadata": {
  "kernelspec": {
   "display_name": "Python [conda env:base] *",
   "language": "python",
   "name": "conda-base-py"
  },
  "language_info": {
   "codemirror_mode": {
    "name": "ipython",
    "version": 3
   },
   "file_extension": ".py",
   "mimetype": "text/x-python",
   "name": "python",
   "nbconvert_exporter": "python",
   "pygments_lexer": "ipython3",
   "version": "3.13.5"
  }
 },
 "nbformat": 4,
 "nbformat_minor": 5
}
