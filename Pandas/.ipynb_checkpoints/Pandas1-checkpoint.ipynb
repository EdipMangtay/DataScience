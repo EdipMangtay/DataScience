{
 "cells": [
  {
   "cell_type": "code",
   "execution_count": 1,
   "id": "25a62efa-a599-451d-9ee9-0a6ab1247e1e",
   "metadata": {},
   "outputs": [],
   "source": [
    "import pandas as pd"
   ]
  },
  {
   "cell_type": "code",
   "execution_count": 2,
   "id": "5233ebd7-f011-43d8-882a-9db70fb33b60",
   "metadata": {},
   "outputs": [],
   "source": [
    "import numpy as np"
   ]
  },
  {
   "cell_type": "code",
   "execution_count": 3,
   "id": "56a03a8a-f945-4a50-9dd0-50916d9d8019",
   "metadata": {},
   "outputs": [],
   "source": [
    "#Datayı ele almamızı sağlamaktadır"
   ]
  },
  {
   "cell_type": "code",
   "execution_count": 4,
   "id": "5b14ab8e-d7e5-481b-a45f-c0d5ca0cdc4f",
   "metadata": {},
   "outputs": [],
   "source": [
    "grades = {\"Atil\":50,\"James\":60,\"Lars\":30}"
   ]
  },
  {
   "cell_type": "code",
   "execution_count": 6,
   "id": "d653d354-e139-4b37-a86c-7a27b33309b0",
   "metadata": {},
   "outputs": [
    {
     "data": {
      "text/plain": [
       "Atil     50\n",
       "James    60\n",
       "Lars     30\n",
       "dtype: int64"
      ]
     },
     "execution_count": 6,
     "metadata": {},
     "output_type": "execute_result"
    }
   ],
   "source": [
    "pd.Series(grades)# bir seri yaratır ama biz genel olarak dataFrame ile çalışacağız "
   ]
  },
  {
   "cell_type": "code",
   "execution_count": 10,
   "id": "65cc8e0f-2311-4ac6-b6c9-c3d6d9aa6bca",
   "metadata": {},
   "outputs": [],
   "source": [
    "names = [\"Atil\",\"James\",\"Lars\"]\n",
    "grades = [50,60,70]"
   ]
  },
  {
   "cell_type": "code",
   "execution_count": 13,
   "id": "8c8aa113-0101-4419-a6fb-f8e1b2ed3eca",
   "metadata": {},
   "outputs": [
    {
     "data": {
      "text/plain": [
       "0     Atil\n",
       "1    James\n",
       "2     Lars\n",
       "dtype: object"
      ]
     },
     "execution_count": 13,
     "metadata": {},
     "output_type": "execute_result"
    }
   ],
   "source": [
    "pd.Series(names)\n"
   ]
  },
  {
   "cell_type": "code",
   "execution_count": 12,
   "id": "c2f6bd94-e02c-4f5b-bd3d-0d8fc3a4b7b1",
   "metadata": {},
   "outputs": [
    {
     "data": {
      "text/plain": [
       "0    50\n",
       "1    60\n",
       "2    70\n",
       "dtype: int64"
      ]
     },
     "execution_count": 12,
     "metadata": {},
     "output_type": "execute_result"
    }
   ],
   "source": [
    "pd.Series(grades)"
   ]
  },
  {
   "cell_type": "code",
   "execution_count": 17,
   "id": "db8d599d-73e0-4d35-8bec-ad8e778d06d4",
   "metadata": {},
   "outputs": [
    {
     "data": {
      "text/plain": [
       "50     Atil\n",
       "60    James\n",
       "70     Lars\n",
       "dtype: object"
      ]
     },
     "execution_count": 17,
     "metadata": {},
     "output_type": "execute_result"
    }
   ],
   "source": [
    "pd.Series(names,grades) "
   ]
  },
  {
   "cell_type": "code",
   "execution_count": 20,
   "id": "2f96211b-3ce3-4ded-ac0e-0e9ebf5c8bc8",
   "metadata": {},
   "outputs": [
    {
     "data": {
      "text/plain": [
       "Atil     50\n",
       "James    60\n",
       "Lars     70\n",
       "dtype: int64"
      ]
     },
     "execution_count": 20,
     "metadata": {},
     "output_type": "execute_result"
    }
   ],
   "source": [
    "pd.Series(data =grades,index=names)"
   ]
  },
  {
   "cell_type": "code",
   "execution_count": 21,
   "id": "16369acc-e2ec-4591-937b-59bc1164bd16",
   "metadata": {},
   "outputs": [],
   "source": [
    "#With numpy"
   ]
  },
  {
   "cell_type": "code",
   "execution_count": 22,
   "id": "05664b64-1d95-46c7-8bc7-5909a9b95cbb",
   "metadata": {},
   "outputs": [],
   "source": [
    "numpy_array = np.array([50,40,30,20])"
   ]
  },
  {
   "cell_type": "code",
   "execution_count": 23,
   "id": "f02fbdb3-a43e-4f3a-a9d3-32697b147223",
   "metadata": {},
   "outputs": [
    {
     "data": {
      "text/plain": [
       "0    50\n",
       "1    40\n",
       "2    30\n",
       "3    20\n",
       "dtype: int64"
      ]
     },
     "execution_count": 23,
     "metadata": {},
     "output_type": "execute_result"
    }
   ],
   "source": [
    "pd.Series(numpy_array)"
   ]
  },
  {
   "cell_type": "code",
   "execution_count": 55,
   "id": "bdae973e-a8db-47f7-8a2c-ae8fc12d58df",
   "metadata": {},
   "outputs": [],
   "source": [
    "contest_results = pd.Series(data= [10,5,100,10], index=[\"Atil\",\"James\",\"Lars\",\"Edip\"])"
   ]
  },
  {
   "cell_type": "code",
   "execution_count": 56,
   "id": "456cf4ec-ed8c-4cca-bce1-ebb96d457c60",
   "metadata": {},
   "outputs": [],
   "source": [
    "contest_results2 = pd.Series(data= [20,50,10,0], index=[\"Atil\",\"James\",\"Lars\",\"Edip\"])"
   ]
  },
  {
   "cell_type": "code",
   "execution_count": 57,
   "id": "bed3214b-0671-4480-bee5-18edec622bbf",
   "metadata": {},
   "outputs": [
    {
     "data": {
      "text/plain": [
       "Atil      10\n",
       "James      5\n",
       "Lars     100\n",
       "Edip      10\n",
       "dtype: int64"
      ]
     },
     "execution_count": 57,
     "metadata": {},
     "output_type": "execute_result"
    }
   ],
   "source": [
    "contest_results"
   ]
  },
  {
   "cell_type": "code",
   "execution_count": 58,
   "id": "6590b719-347b-4387-b741-38dee5c29e26",
   "metadata": {},
   "outputs": [
    {
     "data": {
      "text/plain": [
       "np.int64(10)"
      ]
     },
     "execution_count": 58,
     "metadata": {},
     "output_type": "execute_result"
    }
   ],
   "source": [
    "contest_results[\"Atil\"]"
   ]
  },
  {
   "cell_type": "code",
   "execution_count": 59,
   "id": "5904af65-4bc1-4682-872f-09d56a6c8ffc",
   "metadata": {},
   "outputs": [
    {
     "data": {
      "text/plain": [
       "np.int64(5)"
      ]
     },
     "execution_count": 59,
     "metadata": {},
     "output_type": "execute_result"
    }
   ],
   "source": [
    "contest_results[\"James\"]"
   ]
  },
  {
   "cell_type": "code",
   "execution_count": 60,
   "id": "4e514b71-701d-4b99-8403-a76343347291",
   "metadata": {},
   "outputs": [],
   "source": [
    "final_result = contest_results + contest_results2"
   ]
  },
  {
   "cell_type": "code",
   "execution_count": 61,
   "id": "ff075aff-ecf9-4857-8705-1f8c9f1161e5",
   "metadata": {},
   "outputs": [
    {
     "data": {
      "text/plain": [
       "Atil      30\n",
       "James     55\n",
       "Lars     110\n",
       "Edip      10\n",
       "dtype: int64"
      ]
     },
     "execution_count": 61,
     "metadata": {},
     "output_type": "execute_result"
    }
   ],
   "source": [
    "final_result"
   ]
  },
  {
   "cell_type": "code",
   "execution_count": 62,
   "id": "6cf1b5fa-4188-4b74-93fd-b11055880a38",
   "metadata": {},
   "outputs": [
    {
     "data": {
      "text/plain": [
       "Atil      200\n",
       "James     250\n",
       "Lars     1000\n",
       "Edip        0\n",
       "dtype: int64"
      ]
     },
     "execution_count": 62,
     "metadata": {},
     "output_type": "execute_result"
    }
   ],
   "source": [
    "contest_results * contest_results2"
   ]
  },
  {
   "cell_type": "code",
   "execution_count": 63,
   "id": "4f4c66ed-b649-4832-b758-7557b291c126",
   "metadata": {},
   "outputs": [
    {
     "data": {
      "text/plain": [
       "Atil      0.5\n",
       "James     0.1\n",
       "Lars     10.0\n",
       "Edip      inf\n",
       "dtype: float64"
      ]
     },
     "execution_count": 63,
     "metadata": {},
     "output_type": "execute_result"
    }
   ],
   "source": [
    "contest_results / contest_results2"
   ]
  },
  {
   "cell_type": "code",
   "execution_count": 64,
   "id": "492f66e1-26b2-4dff-8c48-b89dfd68aa79",
   "metadata": {},
   "outputs": [],
   "source": [
    "different_Series = pd.Series(data=[20,30,40,50],index=[\"a\",\"b\",\"c\",\"d\"])"
   ]
  },
  {
   "cell_type": "code",
   "execution_count": 67,
   "id": "a4ee5cb1-049a-4718-b8b6-67d18d88b3aa",
   "metadata": {},
   "outputs": [
    {
     "data": {
      "text/plain": [
       "pandas.core.series.Series"
      ]
     },
     "execution_count": 67,
     "metadata": {},
     "output_type": "execute_result"
    }
   ],
   "source": [
    "type(different_Series)"
   ]
  },
  {
   "cell_type": "code",
   "execution_count": 68,
   "id": "92273aea-1213-4811-931e-ca626ed2b23d",
   "metadata": {},
   "outputs": [],
   "source": [
    "different_Series2 = pd.Series(data=[20,30,40,50],index=[\"a\",\"c\",\"f\",\"g\"])"
   ]
  },
  {
   "cell_type": "code",
   "execution_count": null,
   "id": "252f9060-7122-4c5e-ae85-90c5d64004b8",
   "metadata": {},
   "outputs": [],
   "source": [
    "different_Series + different_Series2"
   ]
  }
 ],
 "metadata": {
  "kernelspec": {
   "display_name": "Python [conda env:base] *",
   "language": "python",
   "name": "conda-base-py"
  },
  "language_info": {
   "codemirror_mode": {
    "name": "ipython",
    "version": 3
   },
   "file_extension": ".py",
   "mimetype": "text/x-python",
   "name": "python",
   "nbconvert_exporter": "python",
   "pygments_lexer": "ipython3",
   "version": "3.13.5"
  }
 },
 "nbformat": 4,
 "nbformat_minor": 5
}
