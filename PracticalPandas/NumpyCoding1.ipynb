{
 "cells": [
  {
   "cell_type": "code",
   "execution_count": 1,
   "id": "936f0c31-8f23-46ad-bfc6-12af6d90647a",
   "metadata": {},
   "outputs": [],
   "source": [
    "import numpy as np"
   ]
  },
  {
   "cell_type": "code",
   "execution_count": 2,
   "id": "793d754f-4641-4b6c-ba26-190c8bdf0e73",
   "metadata": {},
   "outputs": [],
   "source": [
    "#numpy  = numerical python"
   ]
  },
  {
   "cell_type": "code",
   "execution_count": 5,
   "id": "e4457267-a46e-46b8-8cd2-c167d33a207c",
   "metadata": {},
   "outputs": [],
   "source": [
    "my_list = [1,2,3,4]"
   ]
  },
  {
   "cell_type": "code",
   "execution_count": 6,
   "id": "61b573da-1c4f-4ef8-9db6-a52129e43a4c",
   "metadata": {},
   "outputs": [
    {
     "name": "stdout",
     "output_type": "stream",
     "text": [
      "[1, 2, 3, 4]\n"
     ]
    }
   ],
   "source": [
    "print(my_list)"
   ]
  },
  {
   "cell_type": "code",
   "execution_count": 7,
   "id": "78ecea75-92dc-4d93-9865-9fd52d81495e",
   "metadata": {},
   "outputs": [],
   "source": [
    "my_list2 = my_list *2"
   ]
  },
  {
   "cell_type": "code",
   "execution_count": 8,
   "id": "12385747-3c58-43de-b5ad-cd0bb35f153c",
   "metadata": {},
   "outputs": [
    {
     "name": "stdout",
     "output_type": "stream",
     "text": [
      "[1, 2, 3, 4, 1, 2, 3, 4]\n"
     ]
    }
   ],
   "source": [
    "print(my_list2)"
   ]
  },
  {
   "cell_type": "code",
   "execution_count": 9,
   "id": "947eabea-8767-49cd-b474-d904c288faff",
   "metadata": {},
   "outputs": [],
   "source": [
    "array = np.array([1,2,3,4])"
   ]
  },
  {
   "cell_type": "code",
   "execution_count": 13,
   "id": "bab9ffcf-2e69-443a-9ce0-7c0229ceea6b",
   "metadata": {},
   "outputs": [],
   "source": [
    "array  = array*2"
   ]
  },
  {
   "cell_type": "code",
   "execution_count": 14,
   "id": "87418010-46a1-4da0-8d45-9d63bdd5030b",
   "metadata": {},
   "outputs": [
    {
     "name": "stdout",
     "output_type": "stream",
     "text": [
      "[2 4 6 8]\n"
     ]
    }
   ],
   "source": [
    "print(array)"
   ]
  },
  {
   "cell_type": "code",
   "execution_count": 15,
   "id": "9371441c-1491-4ff0-b426-550d064e1fe9",
   "metadata": {},
   "outputs": [],
   "source": [
    "#Multidimentional"
   ]
  },
  {
   "cell_type": "code",
   "execution_count": 23,
   "id": "a72cbb42-9f9a-46d1-91e3-737e6ff5adb8",
   "metadata": {},
   "outputs": [],
   "source": [
    "array = np.array('A')"
   ]
  },
  {
   "cell_type": "code",
   "execution_count": 24,
   "id": "8960a145-9345-4246-840c-310ed7dfc167",
   "metadata": {},
   "outputs": [
    {
     "name": "stdout",
     "output_type": "stream",
     "text": [
      "0\n",
      "A\n"
     ]
    }
   ],
   "source": [
    "print(array.ndim)\n",
    "print(array)"
   ]
  },
  {
   "cell_type": "code",
   "execution_count": 25,
   "id": "e391b9ad-c5d3-405c-afa1-30eebdefa23c",
   "metadata": {},
   "outputs": [],
   "source": [
    "array2 = np.array(['A','B','C','D'])"
   ]
  },
  {
   "cell_type": "code",
   "execution_count": 27,
   "id": "a358a70c-4534-4c55-82ae-259aa33d8189",
   "metadata": {},
   "outputs": [
    {
     "name": "stdout",
     "output_type": "stream",
     "text": [
      "1\n",
      "['A' 'B' 'C' 'D']\n"
     ]
    }
   ],
   "source": [
    "print(array2.ndim) # one dimentional\n",
    "print(array2)"
   ]
  },
  {
   "cell_type": "code",
   "execution_count": 47,
   "id": "0066da23-93dd-42e1-a758-9f9de0f2c2cf",
   "metadata": {},
   "outputs": [],
   "source": [
    "array = np.array([[['A', 'B', 'C'], ['D', 'E', 'F'], ['G', 'H', 'I']],\n",
    "                  [['J', 'K', 'L'], ['M', 'N', 'O'], ['P', 'Q', 'R']],\n",
    "                  [['S', 'T', 'U'], ['V', 'W', 'X'], ['Y', 'Z', '']]])"
   ]
  },
  {
   "cell_type": "code",
   "execution_count": 48,
   "id": "f1857c39-4fe3-4a50-a70b-90fdf6fa7d30",
   "metadata": {},
   "outputs": [
    {
     "name": "stdout",
     "output_type": "stream",
     "text": [
      "3\n"
     ]
    }
   ],
   "source": [
    "print(array.ndim)"
   ]
  },
  {
   "cell_type": "code",
   "execution_count": 49,
   "id": "306270cc-e0a5-486d-9abd-7da6a60bc951",
   "metadata": {},
   "outputs": [
    {
     "data": {
      "text/plain": [
       "(3, 3, 3)"
      ]
     },
     "execution_count": 49,
     "metadata": {},
     "output_type": "execute_result"
    }
   ],
   "source": [
    "array.shape #ndim, row,column, "
   ]
  },
  {
   "cell_type": "code",
   "execution_count": 60,
   "id": "661cb125-722e-4cf8-8ab0-0618adfa1020",
   "metadata": {},
   "outputs": [
    {
     "name": "stdout",
     "output_type": "stream",
     "text": [
      "B\n"
     ]
    }
   ],
   "source": [
    "print(array[0,0,1])\n"
   ]
  },
  {
   "cell_type": "code",
   "execution_count": 62,
   "id": "fd091e9e-ecec-4c1e-ae2b-3b389de00421",
   "metadata": {},
   "outputs": [
    {
     "name": "stdout",
     "output_type": "stream",
     "text": [
      "N\n"
     ]
    }
   ],
   "source": [
    "print(array[1,1,1])"
   ]
  },
  {
   "cell_type": "code",
   "execution_count": 63,
   "id": "01faa0a3-d367-41a2-913a-fbddad580b63",
   "metadata": {},
   "outputs": [],
   "source": [
    "word = array[0,0,0] + array[2,0,0] + array[2,0,0]"
   ]
  },
  {
   "cell_type": "code",
   "execution_count": 64,
   "id": "0347151f-7eaa-48fb-bebd-6f43343d112a",
   "metadata": {},
   "outputs": [
    {
     "data": {
      "text/plain": [
       "'ASS'"
      ]
     },
     "execution_count": 64,
     "metadata": {},
     "output_type": "execute_result"
    }
   ],
   "source": [
    "word"
   ]
  },
  {
   "cell_type": "code",
   "execution_count": 65,
   "id": "cea84e91-d1b5-43db-892c-a70771c19de8",
   "metadata": {},
   "outputs": [],
   "source": [
    "array = np.array([[1,2,3,4],[5,6,7,8],[9,10,11,12],[13,14,15,16]])"
   ]
  },
  {
   "cell_type": "code",
   "execution_count": 66,
   "id": "9f5f9fbb-e076-4c6c-8ec7-179d2d9288f3",
   "metadata": {},
   "outputs": [],
   "source": [
    "#array[start:end:step]"
   ]
  },
  {
   "cell_type": "code",
   "execution_count": 78,
   "id": "7736b14f-a871-4f95-a3b6-af26c4f9d411",
   "metadata": {},
   "outputs": [
    {
     "name": "stdout",
     "output_type": "stream",
     "text": [
      "[[5 6 7 8]]\n"
     ]
    }
   ],
   "source": [
    "print(array[1:2:1])"
   ]
  },
  {
   "cell_type": "code",
   "execution_count": 91,
   "id": "d3a6ea19-447c-4c44-a4f4-d762db8dd822",
   "metadata": {},
   "outputs": [
    {
     "name": "stdout",
     "output_type": "stream",
     "text": [
      "[[1 2 3 4]]\n"
     ]
    }
   ],
   "source": [
    "print(array[0:1:1])"
   ]
  },
  {
   "cell_type": "code",
   "execution_count": 95,
   "id": "3f2f376d-237d-4f0b-b60e-967eba18584b",
   "metadata": {},
   "outputs": [
    {
     "name": "stdout",
     "output_type": "stream",
     "text": [
      "[[ 1  2  3  4]\n",
      " [ 9 10 11 12]]\n"
     ]
    }
   ],
   "source": [
    "print(array[::2]) # this is row selection"
   ]
  },
  {
   "cell_type": "code",
   "execution_count": 98,
   "id": "a2c371f7-3670-4bb4-b1df-59fbba42597b",
   "metadata": {},
   "outputs": [
    {
     "name": "stdout",
     "output_type": "stream",
     "text": [
      "[ 1  5  9 13]\n"
     ]
    }
   ],
   "source": [
    "print(array[:,0]) # from 0 to 4th index for the first column"
   ]
  },
  {
   "cell_type": "code",
   "execution_count": 107,
   "id": "9167a9ab-9053-4fa4-8062-37df4dd39bff",
   "metadata": {},
   "outputs": [
    {
     "name": "stdout",
     "output_type": "stream",
     "text": [
      "[[ 1  2  3]\n",
      " [ 5  6  7]\n",
      " [ 9 10 11]\n",
      " [13 14 15]]\n"
     ]
    }
   ],
   "source": [
    "print(array[:,0:3])"
   ]
  },
  {
   "cell_type": "code",
   "execution_count": 123,
   "id": "2be5c921-bc54-4dce-ae71-a68f43d77aec",
   "metadata": {},
   "outputs": [
    {
     "name": "stdout",
     "output_type": "stream",
     "text": [
      "[[ 2  3  4]\n",
      " [ 6  7  8]\n",
      " [10 11 12]\n",
      " [14 15 16]]\n"
     ]
    }
   ],
   "source": [
    "print(array[:,1:]) #without first column "
   ]
  },
  {
   "cell_type": "code",
   "execution_count": 126,
   "id": "85cbbf74-5e37-4376-9234-804d84536f4b",
   "metadata": {},
   "outputs": [
    {
     "name": "stdout",
     "output_type": "stream",
     "text": [
      "[[ 1  2  3  4]\n",
      " [ 5  6  7  8]\n",
      " [ 9 10 11 12]\n",
      " [13 14 15 16]]\n"
     ]
    }
   ],
   "source": [
    "print(array[:,::])"
   ]
  },
  {
   "cell_type": "code",
   "execution_count": 129,
   "id": "c45bec30-d082-45d2-af72-52528ac768ce",
   "metadata": {},
   "outputs": [
    {
     "name": "stdout",
     "output_type": "stream",
     "text": [
      "[[1 2]\n",
      " [5 6]]\n"
     ]
    }
   ],
   "source": [
    "print(array[0:2,0:2])"
   ]
  },
  {
   "cell_type": "code",
   "execution_count": 131,
   "id": "4e0103db-5b93-4ac3-bcce-05ddbf874b68",
   "metadata": {},
   "outputs": [
    {
     "name": "stdout",
     "output_type": "stream",
     "text": [
      "[[ 9 10]\n",
      " [13 14]]\n"
     ]
    }
   ],
   "source": [
    "print(array[2:,0:2]) # sol alt dörtlüyü aldım"
   ]
  },
  {
   "cell_type": "code",
   "execution_count": null,
   "id": "1535190e-4a35-4ff3-875f-9d50b1c3ee3b",
   "metadata": {},
   "outputs": [],
   "source": []
  }
 ],
 "metadata": {
  "kernelspec": {
   "display_name": "Python [conda env:base] *",
   "language": "python",
   "name": "conda-base-py"
  },
  "language_info": {
   "codemirror_mode": {
    "name": "ipython",
    "version": 3
   },
   "file_extension": ".py",
   "mimetype": "text/x-python",
   "name": "python",
   "nbconvert_exporter": "python",
   "pygments_lexer": "ipython3",
   "version": "3.13.5"
  }
 },
 "nbformat": 4,
 "nbformat_minor": 5
}
