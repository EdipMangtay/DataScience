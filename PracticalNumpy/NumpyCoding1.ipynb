{
 "cells": [
  {
   "cell_type": "code",
   "execution_count": 1,
   "id": "936f0c31-8f23-46ad-bfc6-12af6d90647a",
   "metadata": {},
   "outputs": [],
   "source": [
    "import numpy as np"
   ]
  },
  {
   "cell_type": "code",
   "execution_count": 2,
   "id": "793d754f-4641-4b6c-ba26-190c8bdf0e73",
   "metadata": {},
   "outputs": [],
   "source": [
    "#numpy  = numerical python"
   ]
  },
  {
   "cell_type": "code",
   "execution_count": 5,
   "id": "e4457267-a46e-46b8-8cd2-c167d33a207c",
   "metadata": {},
   "outputs": [],
   "source": [
    "my_list = [1,2,3,4]"
   ]
  },
  {
   "cell_type": "code",
   "execution_count": 6,
   "id": "61b573da-1c4f-4ef8-9db6-a52129e43a4c",
   "metadata": {},
   "outputs": [
    {
     "name": "stdout",
     "output_type": "stream",
     "text": [
      "[1, 2, 3, 4]\n"
     ]
    }
   ],
   "source": [
    "print(my_list)"
   ]
  },
  {
   "cell_type": "code",
   "execution_count": 7,
   "id": "78ecea75-92dc-4d93-9865-9fd52d81495e",
   "metadata": {},
   "outputs": [],
   "source": [
    "my_list2 = my_list *2"
   ]
  },
  {
   "cell_type": "code",
   "execution_count": 8,
   "id": "12385747-3c58-43de-b5ad-cd0bb35f153c",
   "metadata": {},
   "outputs": [
    {
     "name": "stdout",
     "output_type": "stream",
     "text": [
      "[1, 2, 3, 4, 1, 2, 3, 4]\n"
     ]
    }
   ],
   "source": [
    "print(my_list2)"
   ]
  },
  {
   "cell_type": "code",
   "execution_count": 9,
   "id": "947eabea-8767-49cd-b474-d904c288faff",
   "metadata": {},
   "outputs": [],
   "source": [
    "array = np.array([1,2,3,4])"
   ]
  },
  {
   "cell_type": "code",
   "execution_count": 13,
   "id": "bab9ffcf-2e69-443a-9ce0-7c0229ceea6b",
   "metadata": {},
   "outputs": [],
   "source": [
    "array  = array*2"
   ]
  },
  {
   "cell_type": "code",
   "execution_count": 14,
   "id": "87418010-46a1-4da0-8d45-9d63bdd5030b",
   "metadata": {},
   "outputs": [
    {
     "name": "stdout",
     "output_type": "stream",
     "text": [
      "[2 4 6 8]\n"
     ]
    }
   ],
   "source": [
    "print(array)"
   ]
  },
  {
   "cell_type": "code",
   "execution_count": 15,
   "id": "9371441c-1491-4ff0-b426-550d064e1fe9",
   "metadata": {},
   "outputs": [],
   "source": [
    "#Multidimentional"
   ]
  },
  {
   "cell_type": "code",
   "execution_count": 23,
   "id": "a72cbb42-9f9a-46d1-91e3-737e6ff5adb8",
   "metadata": {},
   "outputs": [],
   "source": [
    "array = np.array('A')"
   ]
  },
  {
   "cell_type": "code",
   "execution_count": 24,
   "id": "8960a145-9345-4246-840c-310ed7dfc167",
   "metadata": {},
   "outputs": [
    {
     "name": "stdout",
     "output_type": "stream",
     "text": [
      "0\n",
      "A\n"
     ]
    }
   ],
   "source": [
    "print(array.ndim)\n",
    "print(array)"
   ]
  },
  {
   "cell_type": "code",
   "execution_count": 25,
   "id": "e391b9ad-c5d3-405c-afa1-30eebdefa23c",
   "metadata": {},
   "outputs": [],
   "source": [
    "array2 = np.array(['A','B','C','D'])"
   ]
  },
  {
   "cell_type": "code",
   "execution_count": 27,
   "id": "a358a70c-4534-4c55-82ae-259aa33d8189",
   "metadata": {},
   "outputs": [
    {
     "name": "stdout",
     "output_type": "stream",
     "text": [
      "1\n",
      "['A' 'B' 'C' 'D']\n"
     ]
    }
   ],
   "source": [
    "print(array2.ndim) # one dimentional\n",
    "print(array2)"
   ]
  },
  {
   "cell_type": "code",
   "execution_count": 47,
   "id": "0066da23-93dd-42e1-a758-9f9de0f2c2cf",
   "metadata": {},
   "outputs": [],
   "source": [
    "array = np.array([[['A', 'B', 'C'], ['D', 'E', 'F'], ['G', 'H', 'I']],\n",
    "                  [['J', 'K', 'L'], ['M', 'N', 'O'], ['P', 'Q', 'R']],\n",
    "                  [['S', 'T', 'U'], ['V', 'W', 'X'], ['Y', 'Z', '']]])"
   ]
  },
  {
   "cell_type": "code",
   "execution_count": 48,
   "id": "f1857c39-4fe3-4a50-a70b-90fdf6fa7d30",
   "metadata": {},
   "outputs": [
    {
     "name": "stdout",
     "output_type": "stream",
     "text": [
      "3\n"
     ]
    }
   ],
   "source": [
    "print(array.ndim)"
   ]
  },
  {
   "cell_type": "code",
   "execution_count": 49,
   "id": "306270cc-e0a5-486d-9abd-7da6a60bc951",
   "metadata": {},
   "outputs": [
    {
     "data": {
      "text/plain": [
       "(3, 3, 3)"
      ]
     },
     "execution_count": 49,
     "metadata": {},
     "output_type": "execute_result"
    }
   ],
   "source": [
    "array.shape #ndim, row,column, "
   ]
  },
  {
   "cell_type": "code",
   "execution_count": 60,
   "id": "661cb125-722e-4cf8-8ab0-0618adfa1020",
   "metadata": {},
   "outputs": [
    {
     "name": "stdout",
     "output_type": "stream",
     "text": [
      "B\n"
     ]
    }
   ],
   "source": [
    "print(array[0,0,1])\n"
   ]
  },
  {
   "cell_type": "code",
   "execution_count": 62,
   "id": "fd091e9e-ecec-4c1e-ae2b-3b389de00421",
   "metadata": {},
   "outputs": [
    {
     "name": "stdout",
     "output_type": "stream",
     "text": [
      "N\n"
     ]
    }
   ],
   "source": [
    "print(array[1,1,1])"
   ]
  },
  {
   "cell_type": "code",
   "execution_count": 63,
   "id": "01faa0a3-d367-41a2-913a-fbddad580b63",
   "metadata": {},
   "outputs": [],
   "source": [
    "word = array[0,0,0] + array[2,0,0] + array[2,0,0]"
   ]
  },
  {
   "cell_type": "code",
   "execution_count": 64,
   "id": "0347151f-7eaa-48fb-bebd-6f43343d112a",
   "metadata": {},
   "outputs": [
    {
     "data": {
      "text/plain": [
       "'ASS'"
      ]
     },
     "execution_count": 64,
     "metadata": {},
     "output_type": "execute_result"
    }
   ],
   "source": [
    "word"
   ]
  },
  {
   "cell_type": "code",
   "execution_count": 65,
   "id": "cea84e91-d1b5-43db-892c-a70771c19de8",
   "metadata": {},
   "outputs": [],
   "source": [
    "array = np.array([[1,2,3,4],[5,6,7,8],[9,10,11,12],[13,14,15,16]])"
   ]
  },
  {
   "cell_type": "code",
   "execution_count": 66,
   "id": "9f5f9fbb-e076-4c6c-8ec7-179d2d9288f3",
   "metadata": {},
   "outputs": [],
   "source": [
    "#array[start:end:step]"
   ]
  },
  {
   "cell_type": "code",
   "execution_count": 78,
   "id": "7736b14f-a871-4f95-a3b6-af26c4f9d411",
   "metadata": {},
   "outputs": [
    {
     "name": "stdout",
     "output_type": "stream",
     "text": [
      "[[5 6 7 8]]\n"
     ]
    }
   ],
   "source": [
    "print(array[1:2:1])"
   ]
  },
  {
   "cell_type": "code",
   "execution_count": 91,
   "id": "d3a6ea19-447c-4c44-a4f4-d762db8dd822",
   "metadata": {},
   "outputs": [
    {
     "name": "stdout",
     "output_type": "stream",
     "text": [
      "[[1 2 3 4]]\n"
     ]
    }
   ],
   "source": [
    "print(array[0:1:1])"
   ]
  },
  {
   "cell_type": "code",
   "execution_count": 95,
   "id": "3f2f376d-237d-4f0b-b60e-967eba18584b",
   "metadata": {},
   "outputs": [
    {
     "name": "stdout",
     "output_type": "stream",
     "text": [
      "[[ 1  2  3  4]\n",
      " [ 9 10 11 12]]\n"
     ]
    }
   ],
   "source": [
    "print(array[::2]) # this is row selection"
   ]
  },
  {
   "cell_type": "code",
   "execution_count": 98,
   "id": "a2c371f7-3670-4bb4-b1df-59fbba42597b",
   "metadata": {},
   "outputs": [
    {
     "name": "stdout",
     "output_type": "stream",
     "text": [
      "[ 1  5  9 13]\n"
     ]
    }
   ],
   "source": [
    "print(array[:,0]) # from 0 to 4th index for the first column"
   ]
  },
  {
   "cell_type": "code",
   "execution_count": 107,
   "id": "9167a9ab-9053-4fa4-8062-37df4dd39bff",
   "metadata": {},
   "outputs": [
    {
     "name": "stdout",
     "output_type": "stream",
     "text": [
      "[[ 1  2  3]\n",
      " [ 5  6  7]\n",
      " [ 9 10 11]\n",
      " [13 14 15]]\n"
     ]
    }
   ],
   "source": [
    "print(array[:,0:3])"
   ]
  },
  {
   "cell_type": "code",
   "execution_count": 123,
   "id": "2be5c921-bc54-4dce-ae71-a68f43d77aec",
   "metadata": {},
   "outputs": [
    {
     "name": "stdout",
     "output_type": "stream",
     "text": [
      "[[ 2  3  4]\n",
      " [ 6  7  8]\n",
      " [10 11 12]\n",
      " [14 15 16]]\n"
     ]
    }
   ],
   "source": [
    "print(array[:,1:]) #without first column "
   ]
  },
  {
   "cell_type": "code",
   "execution_count": 126,
   "id": "85cbbf74-5e37-4376-9234-804d84536f4b",
   "metadata": {},
   "outputs": [
    {
     "name": "stdout",
     "output_type": "stream",
     "text": [
      "[[ 1  2  3  4]\n",
      " [ 5  6  7  8]\n",
      " [ 9 10 11 12]\n",
      " [13 14 15 16]]\n"
     ]
    }
   ],
   "source": [
    "print(array[:,::])"
   ]
  },
  {
   "cell_type": "code",
   "execution_count": 129,
   "id": "c45bec30-d082-45d2-af72-52528ac768ce",
   "metadata": {},
   "outputs": [
    {
     "name": "stdout",
     "output_type": "stream",
     "text": [
      "[[1 2]\n",
      " [5 6]]\n"
     ]
    }
   ],
   "source": [
    "print(array[0:2,0:2])"
   ]
  },
  {
   "cell_type": "code",
   "execution_count": 136,
   "id": "4e0103db-5b93-4ac3-bcce-05ddbf874b68",
   "metadata": {},
   "outputs": [
    {
     "name": "stdout",
     "output_type": "stream",
     "text": [
      "[[11 12]\n",
      " [15 16]]\n"
     ]
    }
   ],
   "source": [
    "print(array[2:,2:]) # sol alt dörtlüyü aldım"
   ]
  },
  {
   "cell_type": "code",
   "execution_count": 137,
   "id": "4e1fedd3-677f-496c-8c55-622af517b41a",
   "metadata": {},
   "outputs": [],
   "source": [
    "#Arithmetic"
   ]
  },
  {
   "cell_type": "code",
   "execution_count": 138,
   "id": "370c3a6d-1e27-45e6-9f25-4af957ecb0a6",
   "metadata": {},
   "outputs": [],
   "source": [
    "#scaler arithmetic lineer algebra term"
   ]
  },
  {
   "cell_type": "code",
   "execution_count": 150,
   "id": "6fd2dfd1-4ddf-4a33-b553-9646dd24ce7d",
   "metadata": {},
   "outputs": [
    {
     "name": "stdout",
     "output_type": "stream",
     "text": [
      "[2.01 3.5  4.99]\n"
     ]
    }
   ],
   "source": [
    "array = np.array([1.01,2.5,3.99])\n",
    "print(array + 1) # each one ++"
   ]
  },
  {
   "cell_type": "code",
   "execution_count": 151,
   "id": "6fa3f738-55c1-49b2-9b64-86485210928e",
   "metadata": {},
   "outputs": [
    {
     "name": "stdout",
     "output_type": "stream",
     "text": [
      "[-0.99  0.5   1.99]\n",
      "[2.02 5.   7.98]\n",
      "[ 1.030301 15.625    63.521199]\n"
     ]
    }
   ],
   "source": [
    "print(array - 2)\n",
    "print(array * 2)\n",
    "print(array ** 3)"
   ]
  },
  {
   "cell_type": "code",
   "execution_count": 152,
   "id": "ba76612f-bef8-4df4-a431-1b5823b23fe6",
   "metadata": {},
   "outputs": [],
   "source": [
    "#Vectoral"
   ]
  },
  {
   "cell_type": "code",
   "execution_count": 153,
   "id": "965ef8d0-76e4-44bd-b4c7-52fa1920d66d",
   "metadata": {},
   "outputs": [
    {
     "name": "stdout",
     "output_type": "stream",
     "text": [
      "[1.00498756 1.58113883 1.99749844]\n"
     ]
    }
   ],
   "source": [
    "print(np.sqrt(array)) # each element "
   ]
  },
  {
   "cell_type": "code",
   "execution_count": 154,
   "id": "1dd29e82-164a-4852-9bc6-9861b10dbc05",
   "metadata": {},
   "outputs": [
    {
     "name": "stdout",
     "output_type": "stream",
     "text": [
      "[1. 2. 4.]\n"
     ]
    }
   ],
   "source": [
    "print(np.round(array))"
   ]
  },
  {
   "cell_type": "code",
   "execution_count": 158,
   "id": "feeebbcf-14a3-4f1b-8b91-61d11c24f34e",
   "metadata": {},
   "outputs": [
    {
     "name": "stdout",
     "output_type": "stream",
     "text": [
      "3.141592653589793\n"
     ]
    }
   ],
   "source": [
    "print(np.pi)"
   ]
  },
  {
   "cell_type": "code",
   "execution_count": 160,
   "id": "3338b233-9e87-4d72-95ea-778aac218655",
   "metadata": {},
   "outputs": [],
   "source": [
    "radii = array = np.array([1,2,3])"
   ]
  },
  {
   "cell_type": "code",
   "execution_count": 161,
   "id": "e57f7754-99c0-4e08-83dc-15debc7c6bf6",
   "metadata": {},
   "outputs": [
    {
     "name": "stdout",
     "output_type": "stream",
     "text": [
      "[ 3.14159265 12.56637061 28.27433388]\n"
     ]
    }
   ],
   "source": [
    "print(np.pi * radii**2)"
   ]
  },
  {
   "cell_type": "code",
   "execution_count": 162,
   "id": "feab1163-10b0-4146-bedf-c05b1401921d",
   "metadata": {},
   "outputs": [],
   "source": [
    "#Element wise arithmetic"
   ]
  },
  {
   "cell_type": "code",
   "execution_count": 165,
   "id": "27311edd-a873-4275-bb98-54fd136374d5",
   "metadata": {},
   "outputs": [
    {
     "name": "stdout",
     "output_type": "stream",
     "text": [
      "[ 3  8 18]\n",
      "[4 6 9]\n"
     ]
    }
   ],
   "source": [
    "array1 = np.array([1,2,3])\n",
    "array2 = np.array([3,4,6])\n",
    "print(array1*array2)\n",
    "print(array1+array2)"
   ]
  },
  {
   "cell_type": "code",
   "execution_count": 173,
   "id": "f6b8555b-5cb2-4c7b-8ed8-ae2397530d52",
   "metadata": {},
   "outputs": [],
   "source": [
    "scores = np.array([91,55,100,73,82,64])\n",
    "scores[scores < 60] =  0"
   ]
  },
  {
   "cell_type": "code",
   "execution_count": 174,
   "id": "a6013b97-51cc-4b1f-9890-164e4a0cdc61",
   "metadata": {},
   "outputs": [
    {
     "name": "stdout",
     "output_type": "stream",
     "text": [
      "[ 91   0 100  73  82  64]\n"
     ]
    }
   ],
   "source": [
    "print(scores)"
   ]
  },
  {
   "cell_type": "code",
   "execution_count": 175,
   "id": "4d539547-ea04-4d57-b4cf-31d2221b056a",
   "metadata": {},
   "outputs": [],
   "source": [
    "#BroadCasting"
   ]
  },
  {
   "cell_type": "code",
   "execution_count": 196,
   "id": "b5c87ad4-6d7b-4425-b3be-b4b7cb1c9f1a",
   "metadata": {},
   "outputs": [],
   "source": [
    "array1 = np.array([[1,2,3,4],\n",
    "                  [5,6,7,8],\n",
    "                  [9,10,11,12],\n",
    "                  [13,14,15,16]])\n"
   ]
  },
  {
   "cell_type": "code",
   "execution_count": 197,
   "id": "b9acecba-3820-47b9-b9d3-364e274adb4d",
   "metadata": {},
   "outputs": [],
   "source": [
    "array2 = np.array([[2],[3],[4],[5]])"
   ]
  },
  {
   "cell_type": "code",
   "execution_count": 198,
   "id": "68ef6a1e-c03e-4fe3-b78b-ccc3a8ba678a",
   "metadata": {},
   "outputs": [
    {
     "data": {
      "text/plain": [
       "(4, 1)"
      ]
     },
     "execution_count": 198,
     "metadata": {},
     "output_type": "execute_result"
    }
   ],
   "source": [
    "array2.shape"
   ]
  },
  {
   "cell_type": "code",
   "execution_count": 199,
   "id": "fa0cd36e-f256-4757-9544-b106f827cc37",
   "metadata": {},
   "outputs": [
    {
     "name": "stdout",
     "output_type": "stream",
     "text": [
      "[[ 2  4  6  8]\n",
      " [15 18 21 24]\n",
      " [36 40 44 48]\n",
      " [65 70 75 80]]\n"
     ]
    }
   ],
   "source": [
    "print(array1 * array2)"
   ]
  },
  {
   "cell_type": "code",
   "execution_count": 200,
   "id": "c95cc19c-72e4-4547-abdd-22d3f7bb92a2",
   "metadata": {},
   "outputs": [],
   "source": [
    "arrayx = np.array([[1,2,3,4,5,6,7,8,9,10]])"
   ]
  },
  {
   "cell_type": "code",
   "execution_count": 201,
   "id": "c2faabdd-625a-4ec7-b703-3c08f8a9be5b",
   "metadata": {},
   "outputs": [],
   "source": [
    "arrayy = np.array([[1],[2],[3],[4],[5],[6],[7],[8],[9],[10]])"
   ]
  },
  {
   "cell_type": "code",
   "execution_count": 205,
   "id": "9f3dd32f-e32a-4e88-9b3a-68b6d8298310",
   "metadata": {},
   "outputs": [
    {
     "name": "stdout",
     "output_type": "stream",
     "text": [
      "(1, 10)\n"
     ]
    },
    {
     "data": {
      "text/plain": [
       "(10, 1)"
      ]
     },
     "execution_count": 205,
     "metadata": {},
     "output_type": "execute_result"
    }
   ],
   "source": [
    "print(arrayx.shape)\n",
    "arrayy.shape"
   ]
  },
  {
   "cell_type": "code",
   "execution_count": 206,
   "id": "ef250fd8-b319-465f-b83e-7aee6adfdfd9",
   "metadata": {},
   "outputs": [],
   "source": [
    "array  = np.array([[1,2,3,4,5],[6,7,8,9,10]])"
   ]
  },
  {
   "cell_type": "code",
   "execution_count": 209,
   "id": "23baccd2-832c-42c8-85c9-a53d61526aab",
   "metadata": {},
   "outputs": [
    {
     "name": "stdout",
     "output_type": "stream",
     "text": [
      "55\n"
     ]
    }
   ],
   "source": [
    "print(np.sum(array))"
   ]
  },
  {
   "cell_type": "code",
   "execution_count": 210,
   "id": "934cd800-a578-449e-b526-194272554b67",
   "metadata": {},
   "outputs": [
    {
     "name": "stdout",
     "output_type": "stream",
     "text": [
      "5.5\n"
     ]
    }
   ],
   "source": [
    "print(np.mean(array))"
   ]
  },
  {
   "cell_type": "code",
   "execution_count": 211,
   "id": "5f996bc4-bbc5-4f02-8258-1fe8da805b9a",
   "metadata": {},
   "outputs": [
    {
     "name": "stdout",
     "output_type": "stream",
     "text": [
      "5.5\n"
     ]
    }
   ],
   "source": [
    "print(np.median(array))"
   ]
  },
  {
   "cell_type": "code",
   "execution_count": 212,
   "id": "6b64c9bf-c433-4194-8681-74e3cf64fe42",
   "metadata": {},
   "outputs": [
    {
     "name": "stdout",
     "output_type": "stream",
     "text": [
      "2.8722813232690143\n"
     ]
    }
   ],
   "source": [
    "print(np.std(array))"
   ]
  },
  {
   "cell_type": "code",
   "execution_count": 213,
   "id": "c111e690-3966-4099-a1ef-28b15868758b",
   "metadata": {},
   "outputs": [
    {
     "name": "stdout",
     "output_type": "stream",
     "text": [
      "8.25\n"
     ]
    }
   ],
   "source": [
    "print(np.var(array))"
   ]
  },
  {
   "cell_type": "code",
   "execution_count": 214,
   "id": "c8165f5f-d5a2-4b8d-987b-4108c5af937c",
   "metadata": {},
   "outputs": [
    {
     "name": "stdout",
     "output_type": "stream",
     "text": [
      "1\n"
     ]
    }
   ],
   "source": [
    "print(np.min(array))"
   ]
  },
  {
   "cell_type": "code",
   "execution_count": 215,
   "id": "7026d28c-dc3b-4278-9b7b-845a22fb5f38",
   "metadata": {},
   "outputs": [
    {
     "name": "stdout",
     "output_type": "stream",
     "text": [
      "10\n"
     ]
    }
   ],
   "source": [
    "print(np.max(array))"
   ]
  },
  {
   "cell_type": "code",
   "execution_count": 220,
   "id": "167da589-2450-466c-8a94-196d8a8ee7eb",
   "metadata": {},
   "outputs": [
    {
     "name": "stdout",
     "output_type": "stream",
     "text": [
      "0\n"
     ]
    }
   ],
   "source": [
    "print(np.argmin(array)) # min value which index ? "
   ]
  },
  {
   "cell_type": "code",
   "execution_count": 221,
   "id": "e874eecb-fdcf-483f-be86-f44de70b7f86",
   "metadata": {},
   "outputs": [],
   "source": [
    "array  = np.array([[1,2,3,4,5],[6,7,8,9,10]])"
   ]
  },
  {
   "cell_type": "code",
   "execution_count": 224,
   "id": "7adc457a-840d-4b83-b46d-8f10fb93bbe8",
   "metadata": {},
   "outputs": [
    {
     "name": "stdout",
     "output_type": "stream",
     "text": [
      "[15 40]\n"
     ]
    }
   ],
   "source": [
    "print(np.sum(array,axis=1))"
   ]
  },
  {
   "cell_type": "code",
   "execution_count": 225,
   "id": "49aff582-f835-4f95-a51d-c9232511d2ca",
   "metadata": {},
   "outputs": [
    {
     "name": "stdout",
     "output_type": "stream",
     "text": [
      "[ 7  9 11 13 15]\n"
     ]
    }
   ],
   "source": [
    "print(np.sum(array,axis=0))"
   ]
  },
  {
   "cell_type": "code",
   "execution_count": 226,
   "id": "a221824b-691f-4ed8-a48a-50e5da026acb",
   "metadata": {},
   "outputs": [],
   "source": [
    "#Filtering  Refers to the process of selecting elemeent from an array that match a given condition"
   ]
  },
  {
   "cell_type": "code",
   "execution_count": 227,
   "id": "b82dc416-08af-41c3-b210-80711ecc9ba5",
   "metadata": {},
   "outputs": [],
   "source": [
    "ages = np.array([[21,17,19,20,16,30,18,65],\n",
    "               [39,22,15,99,18,19,20,21]])"
   ]
  },
  {
   "cell_type": "code",
   "execution_count": 230,
   "id": "721658f1-d2d0-4ba2-bc74-3d52f56e884f",
   "metadata": {},
   "outputs": [],
   "source": [
    "teenagers = ages[ages<18] # return new array"
   ]
  },
  {
   "cell_type": "code",
   "execution_count": 231,
   "id": "ca600142-7ce2-4a8f-9364-a23520270cdc",
   "metadata": {},
   "outputs": [
    {
     "name": "stdout",
     "output_type": "stream",
     "text": [
      "[17 16 15]\n"
     ]
    }
   ],
   "source": [
    "print(teenagers)"
   ]
  },
  {
   "cell_type": "code",
   "execution_count": 238,
   "id": "8ae8058f-f274-4239-98e9-08f600458f58",
   "metadata": {},
   "outputs": [],
   "source": [
    "adults = ages[(ages<18) | (ages<65)]"
   ]
  },
  {
   "cell_type": "code",
   "execution_count": 239,
   "id": "19ef4b30-df16-4163-b239-a8bac8a80da8",
   "metadata": {},
   "outputs": [
    {
     "name": "stdout",
     "output_type": "stream",
     "text": [
      "[21 17 19 20 16 30 18 39 22 15 18 19 20 21]\n"
     ]
    }
   ],
   "source": [
    "print(adults)"
   ]
  },
  {
   "cell_type": "code",
   "execution_count": 240,
   "id": "7e83d81d-af1c-42d9-b9d8-67fc71929b45",
   "metadata": {},
   "outputs": [],
   "source": [
    "seniors = ages[ages>=65]"
   ]
  },
  {
   "cell_type": "code",
   "execution_count": 241,
   "id": "01a553e2-80dd-479f-a2cf-638d9c753e04",
   "metadata": {},
   "outputs": [
    {
     "data": {
      "text/plain": [
       "array([65, 99])"
      ]
     },
     "execution_count": 241,
     "metadata": {},
     "output_type": "execute_result"
    }
   ],
   "source": [
    "seniors"
   ]
  },
  {
   "cell_type": "code",
   "execution_count": 242,
   "id": "4087fcaa-3fa8-45f5-855c-a17422728fdd",
   "metadata": {},
   "outputs": [],
   "source": [
    "even = ages[ages % 2 ==0]"
   ]
  },
  {
   "cell_type": "code",
   "execution_count": 243,
   "id": "f7252b91-344c-4f04-9139-3b37c55a50a5",
   "metadata": {},
   "outputs": [
    {
     "data": {
      "text/plain": [
       "array([20, 16, 30, 18, 22, 18, 20])"
      ]
     },
     "execution_count": 243,
     "metadata": {},
     "output_type": "execute_result"
    }
   ],
   "source": [
    "even"
   ]
  },
  {
   "cell_type": "code",
   "execution_count": 244,
   "id": "cf67f488-4001-4943-91cf-4ba752947ae5",
   "metadata": {},
   "outputs": [],
   "source": [
    "#filter"
   ]
  },
  {
   "cell_type": "code",
   "execution_count": 252,
   "id": "ba7fea21-8b4b-484d-8397-5a6e6c07e076",
   "metadata": {},
   "outputs": [],
   "source": [
    "adults = np.where(ages>=18,ages,-1) # buradaki son index ne ile değişim yapaağımı gösterecek"
   ]
  },
  {
   "cell_type": "code",
   "execution_count": 253,
   "id": "ce9d86f8-e75e-4564-b1e9-e23a4036a24c",
   "metadata": {},
   "outputs": [
    {
     "data": {
      "text/plain": [
       "array([[21, -1, 19, 20, -1, 30, 18, 65],\n",
       "       [39, 22, -1, 99, 18, 19, 20, 21]])"
      ]
     },
     "execution_count": 253,
     "metadata": {},
     "output_type": "execute_result"
    }
   ],
   "source": [
    "adults"
   ]
  },
  {
   "cell_type": "code",
   "execution_count": 254,
   "id": "7befe7c7-d2b3-4325-aeb5-d41fdc100352",
   "metadata": {},
   "outputs": [
    {
     "name": "stdout",
     "output_type": "stream",
     "text": [
      "[[21 12 19 20 12 30 18 65]\n",
      " [39 22 12 99 18 19 20 21]]\n"
     ]
    }
   ],
   "source": [
    "adults = np.where(ages>=18,ages,12)\n",
    "print(adults)"
   ]
  },
  {
   "cell_type": "code",
   "execution_count": null,
   "id": "2981a0df-97aa-4a2e-b914-ac8770a0c83f",
   "metadata": {},
   "outputs": [],
   "source": []
  },
  {
   "cell_type": "code",
   "execution_count": 255,
   "id": "c21599c9-43a0-4d71-96ac-9938d708a8ba",
   "metadata": {},
   "outputs": [],
   "source": [
    "#Random"
   ]
  },
  {
   "cell_type": "code",
   "execution_count": 295,
   "id": "37f6bde0-3339-48e6-afd3-5489c0638293",
   "metadata": {},
   "outputs": [],
   "source": [
    "rng = np.random.default_rng()"
   ]
  },
  {
   "cell_type": "code",
   "execution_count": 296,
   "id": "e84cb1d3-a12f-4dc7-babc-9c055b80d4d5",
   "metadata": {},
   "outputs": [
    {
     "name": "stdout",
     "output_type": "stream",
     "text": [
      "[1 1 2 4 3 1 3 1 3 3]\n"
     ]
    }
   ],
   "source": [
    "print(rng.integers(1,7,10))"
   ]
  },
  {
   "cell_type": "code",
   "execution_count": 297,
   "id": "eff4982a-92de-4ea2-b940-6c2357a1e471",
   "metadata": {},
   "outputs": [
    {
     "name": "stdout",
     "output_type": "stream",
     "text": [
      "[[30 69]\n",
      " [43 81]\n",
      " [71 57]]\n"
     ]
    }
   ],
   "source": [
    "print(rng.integers(low=1,high=101,size =(3,2))) # size =  kaç tane lazım "
   ]
  },
  {
   "cell_type": "code",
   "execution_count": 298,
   "id": "528a21e9-bcb6-46a3-9fd2-e7bb6d3bf944",
   "metadata": {},
   "outputs": [
    {
     "name": "stdout",
     "output_type": "stream",
     "text": [
      "[[12.65312116 12.55159936]\n",
      " [10.32124256 14.1999082 ]\n",
      " [11.29054007 14.1425016 ]]\n"
     ]
    }
   ],
   "source": [
    "print(np.random.uniform(low = 10,high=15,size=(3,2)))"
   ]
  },
  {
   "cell_type": "code",
   "execution_count": 302,
   "id": "255dadd3-927e-429c-b737-a2cc1a4b689e",
   "metadata": {},
   "outputs": [],
   "source": [
    "array = np.array([1,2,3,4,5])"
   ]
  },
  {
   "cell_type": "code",
   "execution_count": 303,
   "id": "f5cae4d5-0a21-4741-a801-273b0c576e57",
   "metadata": {},
   "outputs": [],
   "source": [
    "rng.shuffle(array)"
   ]
  },
  {
   "cell_type": "code",
   "execution_count": 304,
   "id": "f58d4ca9-0b74-46f9-ba96-b69a933bb7d1",
   "metadata": {},
   "outputs": [
    {
     "name": "stdout",
     "output_type": "stream",
     "text": [
      "[2 1 3 4 5]\n"
     ]
    }
   ],
   "source": [
    "print(array)"
   ]
  },
  {
   "cell_type": "code",
   "execution_count": 308,
   "id": "91de92b0-e35f-4bd1-9a32-15ed4aa1ec8c",
   "metadata": {},
   "outputs": [],
   "source": [
    "friuts = np.array([\"apple\",\"orange\",\"banana\",\"coconut\"])"
   ]
  },
  {
   "cell_type": "code",
   "execution_count": 309,
   "id": "b9fa545c-eeef-4b15-87a9-fe0b01005223",
   "metadata": {},
   "outputs": [],
   "source": [
    "friuts = rng.choice(friuts)"
   ]
  },
  {
   "cell_type": "code",
   "execution_count": 311,
   "id": "f6c8312c-02a0-48cd-b6ec-43aea3e3e283",
   "metadata": {},
   "outputs": [
    {
     "name": "stdout",
     "output_type": "stream",
     "text": [
      "apple\n"
     ]
    }
   ],
   "source": [
    "print(friuts)"
   ]
  },
  {
   "cell_type": "code",
   "execution_count": null,
   "id": "d760a48b-3cf1-40d1-b393-28be9bb156eb",
   "metadata": {},
   "outputs": [],
   "source": []
  }
 ],
 "metadata": {
  "kernelspec": {
   "display_name": "Python [conda env:base] *",
   "language": "python",
   "name": "conda-base-py"
  },
  "language_info": {
   "codemirror_mode": {
    "name": "ipython",
    "version": 3
   },
   "file_extension": ".py",
   "mimetype": "text/x-python",
   "name": "python",
   "nbconvert_exporter": "python",
   "pygments_lexer": "ipython3",
   "version": "3.13.5"
  }
 },
 "nbformat": 4,
 "nbformat_minor": 5
}
