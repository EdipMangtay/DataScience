{
 "cells": [
  {
   "cell_type": "code",
   "execution_count": 5,
   "id": "7d510626-2564-43d5-80f0-d79ffd337f62",
   "metadata": {},
   "outputs": [],
   "source": [
    "import seaborn as sns\n",
    "import numpy as np"
   ]
  },
  {
   "cell_type": "code",
   "execution_count": 3,
   "id": "18155daa-59bd-47f5-a9ae-368455956fd5",
   "metadata": {},
   "outputs": [
    {
     "ename": "SyntaxError",
     "evalue": "positional argument follows keyword argument (2853594622.py, line 2)",
     "output_type": "error",
     "traceback": [
      "\u001b[1;36m  Cell \u001b[1;32mIn[3], line 2\u001b[1;36m\u001b[0m\n\u001b[1;33m    sns.scatterplot(x=\"Height\",\"Weight\",data = data)\u001b[0m\n\u001b[1;37m                                                   ^\u001b[0m\n\u001b[1;31mSyntaxError\u001b[0m\u001b[1;31m:\u001b[0m positional argument follows keyword argument\n"
     ]
    }
   ],
   "source": [
    "sns.set_style(\"whitegrid\")\n",
    "sns.scatterplot(x=\"Height\",\"Weight\",data = data)"
   ]
  },
  {
   "cell_type": "code",
   "execution_count": 6,
   "id": "2cbf9d3b-4847-4992-9180-5cbd4abd7cfc",
   "metadata": {},
   "outputs": [],
   "source": [
    "data  = np.linspace(0,10,20)"
   ]
  },
  {
   "cell_type": "code",
   "execution_count": null,
   "id": "14c7ceb6-723a-4178-965a-e028382479c7",
   "metadata": {},
   "outputs": [],
   "source": []
  }
 ],
 "metadata": {
  "kernelspec": {
   "display_name": "Python [conda env:base] *",
   "language": "python",
   "name": "conda-base-py"
  },
  "language_info": {
   "codemirror_mode": {
    "name": "ipython",
    "version": 3
   },
   "file_extension": ".py",
   "mimetype": "text/x-python",
   "name": "python",
   "nbconvert_exporter": "python",
   "pygments_lexer": "ipython3",
   "version": "3.13.5"
  }
 },
 "nbformat": 4,
 "nbformat_minor": 5
}
