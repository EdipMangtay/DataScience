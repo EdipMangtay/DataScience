{
 "cells": [
  {
   "cell_type": "code",
   "execution_count": 2,
   "id": "048565b9-537e-443f-a317-8ba0d1b9f6e2",
   "metadata": {},
   "outputs": [],
   "source": [
    "import numpy as np"
   ]
  },
  {
   "cell_type": "code",
   "execution_count": 3,
   "id": "2193788a-301e-49ba-b341-b7944b708883",
   "metadata": {},
   "outputs": [],
   "source": [
    "#Arrays"
   ]
  },
  {
   "cell_type": "code",
   "execution_count": 5,
   "id": "ad1dd199-8dad-49c2-813c-b449b4b2cfc7",
   "metadata": {},
   "outputs": [
    {
     "data": {
      "text/plain": [
       "list"
      ]
     },
     "execution_count": 5,
     "metadata": {},
     "output_type": "execute_result"
    }
   ],
   "source": [
    "my_list = [10,20,30,40 ]\n",
    "type(my_list)"
   ]
  },
  {
   "cell_type": "code",
   "execution_count": 7,
   "id": "fc30c7df-b405-4389-b7e4-51b8dff7cc85",
   "metadata": {},
   "outputs": [],
   "source": [
    "my_numpy_array = np.array(my_list)"
   ]
  },
  {
   "cell_type": "code",
   "execution_count": 8,
   "id": "e5cf0f8c-63f1-44db-9d33-84eb557f690a",
   "metadata": {},
   "outputs": [
    {
     "data": {
      "text/plain": [
       "numpy.ndarray"
      ]
     },
     "execution_count": 8,
     "metadata": {},
     "output_type": "execute_result"
    }
   ],
   "source": [
    "type(my_numpy_array)"
   ]
  },
  {
   "cell_type": "code",
   "execution_count": 12,
   "id": "0de81ee3-5929-4b3b-abd6-37fa01660124",
   "metadata": {},
   "outputs": [
    {
     "data": {
      "text/plain": [
       "np.int64(40)"
      ]
     },
     "execution_count": 12,
     "metadata": {},
     "output_type": "execute_result"
    }
   ],
   "source": [
    "my_numpy_array.max()"
   ]
  },
  {
   "cell_type": "code",
   "execution_count": 13,
   "id": "5c9fa329-9b06-401a-8976-bc88a0cc86ae",
   "metadata": {},
   "outputs": [
    {
     "data": {
      "text/plain": [
       "np.float64(25.0)"
      ]
     },
     "execution_count": 13,
     "metadata": {},
     "output_type": "execute_result"
    }
   ],
   "source": [
    "my_numpy_array.mean()"
   ]
  },
  {
   "cell_type": "code",
   "execution_count": 14,
   "id": "c8c97574-5558-4065-8f5b-6f09cb57b0e6",
   "metadata": {},
   "outputs": [
    {
     "data": {
      "text/plain": [
       "array([1., 1., 1., 1., 1.])"
      ]
     },
     "execution_count": 14,
     "metadata": {},
     "output_type": "execute_result"
    }
   ],
   "source": [
    "np.ones(5)"
   ]
  },
  {
   "cell_type": "code",
   "execution_count": 16,
   "id": "9d10ca14-0868-4595-9eb0-563bb2b5d289",
   "metadata": {},
   "outputs": [
    {
     "data": {
      "text/plain": [
       "array([0., 0., 0., 0., 0.])"
      ]
     },
     "execution_count": 16,
     "metadata": {},
     "output_type": "execute_result"
    }
   ],
   "source": [
    "np.zeros(5)"
   ]
  },
  {
   "cell_type": "code",
   "execution_count": 17,
   "id": "bca02b35-37f0-4634-8b5f-f6e4d9605263",
   "metadata": {},
   "outputs": [
    {
     "data": {
      "text/plain": [
       "array([0.83180913, 0.72269895, 0.22254517, 0.49334635, 0.27550097])"
      ]
     },
     "execution_count": 17,
     "metadata": {},
     "output_type": "execute_result"
    }
   ],
   "source": [
    "np.random.random(5)"
   ]
  },
  {
   "cell_type": "code",
   "execution_count": 18,
   "id": "30944cfb-d420-4eb2-86d6-b602a08e9563",
   "metadata": {},
   "outputs": [],
   "source": [
    "#array arithmetic"
   ]
  },
  {
   "cell_type": "code",
   "execution_count": 39,
   "id": "f5471236-415e-4635-9c73-667abd19585d",
   "metadata": {},
   "outputs": [],
   "source": [
    "my_list1 = [1,2,45]"
   ]
  },
  {
   "cell_type": "code",
   "execution_count": 40,
   "id": "2ee48d7b-8ec7-4007-82ca-8a92607a16f3",
   "metadata": {},
   "outputs": [],
   "source": [
    "my_list2 = [2,112,12 ]"
   ]
  },
  {
   "cell_type": "code",
   "execution_count": 41,
   "id": "5a88133e-3764-49d4-8f55-5bea0e9b0183",
   "metadata": {},
   "outputs": [
    {
     "data": {
      "text/plain": [
       "[1, 2, 45, 2, 112, 12]"
      ]
     },
     "execution_count": 41,
     "metadata": {},
     "output_type": "execute_result"
    }
   ],
   "source": [
    "my_list1 + my_list2"
   ]
  },
  {
   "cell_type": "code",
   "execution_count": 42,
   "id": "c8d03bf4-de29-4db3-beba-9b3b3aa4dbf5",
   "metadata": {},
   "outputs": [],
   "source": [
    "myNpArray1 = np.array(my_list1)"
   ]
  },
  {
   "cell_type": "code",
   "execution_count": 43,
   "id": "de55df1b-2580-4f64-b7d6-c09a6c6568b2",
   "metadata": {},
   "outputs": [],
   "source": [
    "myNpArray2 = np.array(my_list2)"
   ]
  },
  {
   "cell_type": "code",
   "execution_count": 44,
   "id": "58503db2-5e05-4141-9cc8-50e6cb279034",
   "metadata": {},
   "outputs": [
    {
     "data": {
      "text/plain": [
       "array([  3, 114,  57])"
      ]
     },
     "execution_count": 44,
     "metadata": {},
     "output_type": "execute_result"
    }
   ],
   "source": [
    "myNpArray1 +  myNpArray2 #Adding the values each rows"
   ]
  },
  {
   "cell_type": "code",
   "execution_count": 45,
   "id": "34ba5fef-3884-4f79-ba12-1679beeedc08",
   "metadata": {},
   "outputs": [
    {
     "data": {
      "text/plain": [
       "array([  2, 224, 540])"
      ]
     },
     "execution_count": 45,
     "metadata": {},
     "output_type": "execute_result"
    }
   ],
   "source": [
    "myNpArray1 * myNpArray2 "
   ]
  },
  {
   "cell_type": "code",
   "execution_count": 46,
   "id": "a7e4bcfb-ef2c-4568-b173-dbbf6256d8bd",
   "metadata": {},
   "outputs": [
    {
     "data": {
      "text/plain": [
       "array([  4,   8, 180])"
      ]
     },
     "execution_count": 46,
     "metadata": {},
     "output_type": "execute_result"
    }
   ],
   "source": [
    "myNpArray1 *4"
   ]
  },
  {
   "cell_type": "code",
   "execution_count": 47,
   "id": "d29b98a1-bc0f-44a2-8425-1f045f986313",
   "metadata": {},
   "outputs": [
    {
     "data": {
      "text/plain": [
       "array([55, 56, 99])"
      ]
     },
     "execution_count": 47,
     "metadata": {},
     "output_type": "execute_result"
    }
   ],
   "source": [
    "myNpArray1 +54"
   ]
  },
  {
   "cell_type": "code",
   "execution_count": 48,
   "id": "352c9132-2048-44c4-826c-25125b3acaec",
   "metadata": {},
   "outputs": [],
   "source": [
    "other_array = np.array([10,20,30,40,50])"
   ]
  },
  {
   "cell_type": "code",
   "execution_count": 49,
   "id": "37ebdeac-7696-4850-82a8-c5227ce94a9c",
   "metadata": {},
   "outputs": [
    {
     "data": {
      "text/plain": [
       "np.int64(10)"
      ]
     },
     "execution_count": 49,
     "metadata": {},
     "output_type": "execute_result"
    }
   ],
   "source": [
    "other_array.min()"
   ]
  },
  {
   "cell_type": "code",
   "execution_count": 50,
   "id": "f541db92-a47d-4952-9e91-9a2567db6531",
   "metadata": {},
   "outputs": [
    {
     "data": {
      "text/plain": [
       "np.int64(150)"
      ]
     },
     "execution_count": 50,
     "metadata": {},
     "output_type": "execute_result"
    }
   ],
   "source": [
    "other_array.sum()"
   ]
  },
  {
   "cell_type": "code",
   "execution_count": 51,
   "id": "ed83406c-26df-42fe-800a-186d1b44b93c",
   "metadata": {},
   "outputs": [],
   "source": [
    "#Arrange & indexing"
   ]
  },
  {
   "cell_type": "code",
   "execution_count": 52,
   "id": "dc1b4916-19e8-4adc-8082-121ad3f08eff",
   "metadata": {},
   "outputs": [
    {
     "data": {
      "text/plain": [
       "[0, 1, 2, 3, 4, 5, 6, 7, 8, 9]"
      ]
     },
     "execution_count": 52,
     "metadata": {},
     "output_type": "execute_result"
    }
   ],
   "source": [
    "list(range(0,10))"
   ]
  },
  {
   "cell_type": "code",
   "execution_count": 53,
   "id": "9a1d3c45-e6ce-4090-96c7-3a47ed1b2f9e",
   "metadata": {},
   "outputs": [
    {
     "data": {
      "text/plain": [
       "array([0, 1, 2, 3, 4, 5, 6, 7, 8, 9])"
      ]
     },
     "execution_count": 53,
     "metadata": {},
     "output_type": "execute_result"
    }
   ],
   "source": [
    "np.arange(0,10)"
   ]
  },
  {
   "cell_type": "code",
   "execution_count": 55,
   "id": "fd4685cb-e391-4c4b-8d50-a77054e0c08d",
   "metadata": {},
   "outputs": [
    {
     "data": {
      "text/plain": [
       "array([0, 2, 4, 6, 8])"
      ]
     },
     "execution_count": 55,
     "metadata": {},
     "output_type": "execute_result"
    }
   ],
   "source": [
    "np.arange(0,10,2)"
   ]
  },
  {
   "cell_type": "code",
   "execution_count": 57,
   "id": "1ff64b86-7e61-419d-8644-9da9993da0fd",
   "metadata": {},
   "outputs": [],
   "source": [
    "np_array = np.arange(0,10)"
   ]
  },
  {
   "cell_type": "code",
   "execution_count": 58,
   "id": "5c97f4c2-9ae6-4783-ad68-fda6a19fd294",
   "metadata": {},
   "outputs": [
    {
     "data": {
      "text/plain": [
       "np.int64(0)"
      ]
     },
     "execution_count": 58,
     "metadata": {},
     "output_type": "execute_result"
    }
   ],
   "source": [
    "np_array[0]"
   ]
  },
  {
   "cell_type": "code",
   "execution_count": 59,
   "id": "cd4ce921-eefb-4fc9-b476-55ad088fd756",
   "metadata": {},
   "outputs": [
    {
     "data": {
      "text/plain": [
       "array([0, 1, 2, 3, 4, 5, 6, 7, 8, 9])"
      ]
     },
     "execution_count": 59,
     "metadata": {},
     "output_type": "execute_result"
    }
   ],
   "source": [
    "np_array"
   ]
  },
  {
   "cell_type": "code",
   "execution_count": 60,
   "id": "64d50b9c-f467-4d11-9df8-cca85a9bb281",
   "metadata": {},
   "outputs": [
    {
     "data": {
      "text/plain": [
       "np.int64(0)"
      ]
     },
     "execution_count": 60,
     "metadata": {},
     "output_type": "execute_result"
    }
   ],
   "source": [
    "np_array[0]"
   ]
  },
  {
   "cell_type": "code",
   "execution_count": 61,
   "id": "81d293b1-88a7-48cb-b999-7fc080edf8e4",
   "metadata": {},
   "outputs": [
    {
     "data": {
      "text/plain": [
       "np.int64(9)"
      ]
     },
     "execution_count": 61,
     "metadata": {},
     "output_type": "execute_result"
    }
   ],
   "source": [
    "np_array[-1]"
   ]
  },
  {
   "cell_type": "code",
   "execution_count": 62,
   "id": "b3537fb8-b558-4a03-a9ac-c49c9a5ae488",
   "metadata": {},
   "outputs": [
    {
     "data": {
      "text/plain": [
       "array([1, 2, 3])"
      ]
     },
     "execution_count": 62,
     "metadata": {},
     "output_type": "execute_result"
    }
   ],
   "source": [
    "np_array[1:4:]"
   ]
  },
  {
   "cell_type": "code",
   "execution_count": 63,
   "id": "d7b00533-b5ce-4764-97a8-896ca049a939",
   "metadata": {},
   "outputs": [
    {
     "data": {
      "text/plain": [
       "array([9, 8, 7, 6, 5, 4, 3, 2, 1, 0])"
      ]
     },
     "execution_count": 63,
     "metadata": {},
     "output_type": "execute_result"
    }
   ],
   "source": [
    "np_array[::-1]"
   ]
  },
  {
   "cell_type": "code",
   "execution_count": 64,
   "id": "330cc8a0-a8cf-488b-9bbf-dd3c00ff398e",
   "metadata": {},
   "outputs": [
    {
     "data": {
      "text/plain": [
       "array([2, 4])"
      ]
     },
     "execution_count": 64,
     "metadata": {},
     "output_type": "execute_result"
    }
   ],
   "source": [
    "np_array[2:6:2]"
   ]
  },
  {
   "cell_type": "code",
   "execution_count": 65,
   "id": "570ba6a0-9737-4005-977b-993832b9df0a",
   "metadata": {},
   "outputs": [],
   "source": [
    "#Random"
   ]
  },
  {
   "cell_type": "code",
   "execution_count": 66,
   "id": "b93cda29-bcae-494a-9448-8e05f589b080",
   "metadata": {},
   "outputs": [
    {
     "data": {
      "text/plain": [
       "array([ 1.42677322,  0.01547755,  0.16959419, -1.4074168 ])"
      ]
     },
     "execution_count": 66,
     "metadata": {},
     "output_type": "execute_result"
    }
   ],
   "source": [
    "np.random.randn(4)"
   ]
  },
  {
   "cell_type": "code",
   "execution_count": 67,
   "id": "b469c250-c564-49f9-b62f-4d78ad6eec30",
   "metadata": {},
   "outputs": [
    {
     "data": {
      "text/plain": [
       "array([[-1.22625278, -0.60027776, -0.0707788 ,  0.29124295],\n",
       "       [ 0.73922447, -0.05909594,  0.7169306 ,  2.71782273],\n",
       "       [ 0.06641011,  0.69261986, -0.23020452,  0.78352901],\n",
       "       [ 2.34379905,  0.23945544,  0.49783534,  0.62021331]])"
      ]
     },
     "execution_count": 67,
     "metadata": {},
     "output_type": "execute_result"
    }
   ],
   "source": [
    "np.random.randn(4,4)"
   ]
  },
  {
   "cell_type": "code",
   "execution_count": null,
   "id": "44c94db4-8e18-4841-8163-5f8bf4d8631f",
   "metadata": {},
   "outputs": [],
   "source": [
    "np.random.randint(1)"
   ]
  }
 ],
 "metadata": {
  "kernelspec": {
   "display_name": "Python [conda env:base] *",
   "language": "python",
   "name": "conda-base-py"
  },
  "language_info": {
   "codemirror_mode": {
    "name": "ipython",
    "version": 3
   },
   "file_extension": ".py",
   "mimetype": "text/x-python",
   "name": "python",
   "nbconvert_exporter": "python",
   "pygments_lexer": "ipython3",
   "version": "3.13.5"
  }
 },
 "nbformat": 4,
 "nbformat_minor": 5
}
