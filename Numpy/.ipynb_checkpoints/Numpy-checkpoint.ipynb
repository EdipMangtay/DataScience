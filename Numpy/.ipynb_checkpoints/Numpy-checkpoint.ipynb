{
 "cells": [
  {
   "cell_type": "code",
   "execution_count": 1,
   "id": "1c93369c-0a69-4d24-956b-4e8761697309",
   "metadata": {},
   "outputs": [],
   "source": [
    "import numpy as np"
   ]
  },
  {
   "cell_type": "code",
   "execution_count": 4,
   "id": "560d3537-8a11-472b-9471-f33b8c110910",
   "metadata": {},
   "outputs": [],
   "source": [
    "new_Array = np.random.randint(1,100,20)"
   ]
  },
  {
   "cell_type": "code",
   "execution_count": 5,
   "id": "318f7ffe-827f-4b8c-afe2-d1a76728c4d7",
   "metadata": {},
   "outputs": [
    {
     "data": {
      "text/plain": [
       "array([21, 75,  9,  4, 96, 12,  6, 97, 66, 11, 93, 81, 28, 85,  3, 89, 53,\n",
       "       10, 87, 49], dtype=int32)"
      ]
     },
     "execution_count": 5,
     "metadata": {},
     "output_type": "execute_result"
    }
   ],
   "source": [
    "new_Array"
   ]
  },
  {
   "cell_type": "code",
   "execution_count": 7,
   "id": "a99f567f-98cc-4ebf-a7c9-66d229c36f50",
   "metadata": {},
   "outputs": [
    {
     "data": {
      "text/plain": [
       "array([ True,  True, False, False,  True, False, False,  True,  True,\n",
       "       False,  True,  True,  True,  True, False,  True,  True, False,\n",
       "        True,  True])"
      ]
     },
     "execution_count": 7,
     "metadata": {},
     "output_type": "execute_result"
    }
   ],
   "source": [
    "new_Array >12"
   ]
  },
  {
   "cell_type": "code",
   "execution_count": 10,
   "id": "4353d6c3-c8b4-4218-8350-b64d40ffd69f",
   "metadata": {},
   "outputs": [
    {
     "data": {
      "text/plain": [
       "array([21, 75, 96, 97, 66, 93, 81, 28, 85, 89, 53, 87, 49], dtype=int32)"
      ]
     },
     "execution_count": 10,
     "metadata": {},
     "output_type": "execute_result"
    }
   ],
   "source": [
    "new_Array [new_Array >12]"
   ]
  },
  {
   "cell_type": "code",
   "execution_count": 11,
   "id": "b5a69d53-59ee-4823-bfaa-3b279e547068",
   "metadata": {},
   "outputs": [],
   "source": [
    "#Traspose"
   ]
  },
  {
   "cell_type": "code",
   "execution_count": 12,
   "id": "6b8d5680-1fe7-437b-be64-5ffafaff81de",
   "metadata": {},
   "outputs": [],
   "source": [
    "x = np.array([[10,20],[20,30],[30,40]])"
   ]
  },
  {
   "cell_type": "code",
   "execution_count": 13,
   "id": "7b881667-536e-41ca-9747-bbd9c3d501ae",
   "metadata": {},
   "outputs": [
    {
     "data": {
      "text/plain": [
       "array([[10, 20],\n",
       "       [20, 30],\n",
       "       [30, 40]])"
      ]
     },
     "execution_count": 13,
     "metadata": {},
     "output_type": "execute_result"
    }
   ],
   "source": [
    "x"
   ]
  },
  {
   "cell_type": "code",
   "execution_count": 14,
   "id": "e5e4cb47-3388-4351-baa1-f87486561eb9",
   "metadata": {},
   "outputs": [
    {
     "data": {
      "text/plain": [
       "(3, 2)"
      ]
     },
     "execution_count": 14,
     "metadata": {},
     "output_type": "execute_result"
    }
   ],
   "source": [
    "x.shape"
   ]
  },
  {
   "cell_type": "code",
   "execution_count": null,
   "id": "d5762c82-2a2a-4872-bf9c-b07d47b6ccce",
   "metadata": {},
   "outputs": [],
   "source": [
    "Matrices."
   ]
  }
 ],
 "metadata": {
  "kernelspec": {
   "display_name": "Python [conda env:base] *",
   "language": "python",
   "name": "conda-base-py"
  },
  "language_info": {
   "codemirror_mode": {
    "name": "ipython",
    "version": 3
   },
   "file_extension": ".py",
   "mimetype": "text/x-python",
   "name": "python",
   "nbconvert_exporter": "python",
   "pygments_lexer": "ipython3",
   "version": "3.13.5"
  }
 },
 "nbformat": 4,
 "nbformat_minor": 5
}
