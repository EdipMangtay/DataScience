{
 "cells": [
  {
   "cell_type": "code",
   "execution_count": 1,
   "id": "e3041fcc-8374-4525-9dd7-681841fe3c68",
   "metadata": {},
   "outputs": [],
   "source": [
    "import numpy as np"
   ]
  },
  {
   "cell_type": "code",
   "execution_count": 2,
   "id": "46b6503e-f5e2-4de9-bc1e-4851ae606a66",
   "metadata": {},
   "outputs": [],
   "source": [
    "myMatrix = [[5,10],[15,20]]"
   ]
  },
  {
   "cell_type": "code",
   "execution_count": 7,
   "id": "fb58b099-0dbf-45f4-be50-d868ce8e2005",
   "metadata": {},
   "outputs": [
    {
     "data": {
      "text/plain": [
       "10"
      ]
     },
     "execution_count": 7,
     "metadata": {},
     "output_type": "execute_result"
    }
   ],
   "source": [
    "myMatrix[0][1]"
   ]
  },
  {
   "cell_type": "code",
   "execution_count": 8,
   "id": "55e92213-030e-4260-ad1d-8f69b8e3ef11",
   "metadata": {},
   "outputs": [],
   "source": [
    "# row * column"
   ]
  },
  {
   "cell_type": "code",
   "execution_count": 10,
   "id": "14909ef5-e777-482b-8efe-38e15ccbb498",
   "metadata": {},
   "outputs": [],
   "source": [
    "numpy_matrix = np.array([[5,15],[15,20]])"
   ]
  },
  {
   "cell_type": "code",
   "execution_count": 11,
   "id": "1bd472a0-7b14-4e5d-8c40-61567a1cc4fb",
   "metadata": {},
   "outputs": [
    {
     "data": {
      "text/plain": [
       "array([[ 5, 15],\n",
       "       [15, 20]])"
      ]
     },
     "execution_count": 11,
     "metadata": {},
     "output_type": "execute_result"
    }
   ],
   "source": [
    "numpy_matrix"
   ]
  },
  {
   "cell_type": "code",
   "execution_count": 12,
   "id": "a5386a10-94c2-40a6-80ed-12d66696ae39",
   "metadata": {},
   "outputs": [
    {
     "data": {
      "text/plain": [
       "np.int64(15)"
      ]
     },
     "execution_count": 12,
     "metadata": {},
     "output_type": "execute_result"
    }
   ],
   "source": [
    "numpy_matrix[1][0]"
   ]
  },
  {
   "cell_type": "code",
   "execution_count": 13,
   "id": "48f8fb4a-139c-48c4-8e33-f0e1bd0a0b2f",
   "metadata": {},
   "outputs": [
    {
     "data": {
      "text/plain": [
       "np.int64(55)"
      ]
     },
     "execution_count": 13,
     "metadata": {},
     "output_type": "execute_result"
    }
   ],
   "source": [
    "numpy_matrix.sum()"
   ]
  },
  {
   "cell_type": "code",
   "execution_count": 15,
   "id": "99420cba-1ae7-4977-971d-605e6ac83196",
   "metadata": {},
   "outputs": [
    {
     "data": {
      "text/plain": [
       "array([[1., 1., 1., 1., 1.],\n",
       "       [1., 1., 1., 1., 1.],\n",
       "       [1., 1., 1., 1., 1.]])"
      ]
     },
     "execution_count": 15,
     "metadata": {},
     "output_type": "execute_result"
    }
   ],
   "source": [
    "np.ones((3,5))"
   ]
  },
  {
   "cell_type": "code",
   "execution_count": 16,
   "id": "a6781856-b18f-4e61-a3d0-af6e9014b826",
   "metadata": {},
   "outputs": [
    {
     "data": {
      "text/plain": [
       "array([[0., 0., 0., 0., 0.],\n",
       "       [0., 0., 0., 0., 0.],\n",
       "       [0., 0., 0., 0., 0.]])"
      ]
     },
     "execution_count": 16,
     "metadata": {},
     "output_type": "execute_result"
    }
   ],
   "source": [
    "np.zeros((3,5))"
   ]
  },
  {
   "cell_type": "code",
   "execution_count": 18,
   "id": "dba570e2-ae1c-4312-a5ca-c33cd9417c00",
   "metadata": {},
   "outputs": [
    {
     "data": {
      "text/plain": [
       "array([[0., 0., 0., 0., 0., 0., 0., 0., 0., 0.],\n",
       "       [0., 0., 0., 0., 0., 0., 0., 0., 0., 0.],\n",
       "       [0., 0., 0., 0., 0., 0., 0., 0., 0., 0.],\n",
       "       [0., 0., 0., 0., 0., 0., 0., 0., 0., 0.],\n",
       "       [0., 0., 0., 0., 0., 0., 0., 0., 0., 0.]])"
      ]
     },
     "execution_count": 18,
     "metadata": {},
     "output_type": "execute_result"
    }
   ],
   "source": [
    "np.zeros((5,10))"
   ]
  },
  {
   "cell_type": "code",
   "execution_count": 19,
   "id": "7a96cd26-4a7e-42a2-a2ac-7e99532713c2",
   "metadata": {},
   "outputs": [],
   "source": [
    "#Matrix Arithmetic"
   ]
  },
  {
   "cell_type": "code",
   "execution_count": 20,
   "id": "f61915b3-5d2e-4da1-b6f6-7a7831fcbdc4",
   "metadata": {},
   "outputs": [],
   "source": [
    "firstArray = np.array([[10,20],[30,40]])"
   ]
  },
  {
   "cell_type": "code",
   "execution_count": 22,
   "id": "bb812552-0078-4314-acad-9db624f0bdb7",
   "metadata": {},
   "outputs": [],
   "source": [
    "secondArray = np.array([[5,15],[25,35]])"
   ]
  },
  {
   "cell_type": "code",
   "execution_count": 24,
   "id": "9c45b579-5aad-4267-b3a5-66ca9181e2e7",
   "metadata": {},
   "outputs": [
    {
     "data": {
      "text/plain": [
       "array([[15, 35],\n",
       "       [55, 75]])"
      ]
     },
     "execution_count": 24,
     "metadata": {},
     "output_type": "execute_result"
    }
   ],
   "source": [
    "firstArray + secondArray # index sırasına göre yapılır"
   ]
  },
  {
   "cell_type": "code",
   "execution_count": 25,
   "id": "fe4c1b95-2bfc-46cc-bb09-939a1a342d1d",
   "metadata": {},
   "outputs": [
    {
     "data": {
      "text/plain": [
       "array([[ 50, 100],\n",
       "       [150, 200]])"
      ]
     },
     "execution_count": 25,
     "metadata": {},
     "output_type": "execute_result"
    }
   ],
   "source": [
    "firstArray *5"
   ]
  },
  {
   "cell_type": "code",
   "execution_count": 26,
   "id": "2de46fc3-83a6-471a-ab32-b816da73fa22",
   "metadata": {},
   "outputs": [
    {
     "data": {
      "text/plain": [
       "array([[20, 30],\n",
       "       [40, 50]])"
      ]
     },
     "execution_count": 26,
     "metadata": {},
     "output_type": "execute_result"
    }
   ],
   "source": [
    "firstArray + 10"
   ]
  },
  {
   "cell_type": "code",
   "execution_count": 27,
   "id": "2c45c310-4794-41be-ada7-eaebb786c153",
   "metadata": {},
   "outputs": [
    {
     "data": {
      "text/plain": [
       "array([[10, 20],\n",
       "       [30, 40]])"
      ]
     },
     "execution_count": 27,
     "metadata": {},
     "output_type": "execute_result"
    }
   ],
   "source": [
    "firstArray "
   ]
  },
  {
   "cell_type": "code",
   "execution_count": 29,
   "id": "7a0c6714-b158-4e07-bf06-a53ffe28bf72",
   "metadata": {},
   "outputs": [],
   "source": [
    "thirdArray = np.array([[50,60]])"
   ]
  },
  {
   "cell_type": "code",
   "execution_count": 30,
   "id": "9c1b5dc3-41cd-4cab-af60-47560fe6df34",
   "metadata": {},
   "outputs": [
    {
     "data": {
      "text/plain": [
       "array([[ 60,  80],\n",
       "       [ 80, 100]])"
      ]
     },
     "execution_count": 30,
     "metadata": {},
     "output_type": "execute_result"
    }
   ],
   "source": [
    "firstArray + thirdArray"
   ]
  },
  {
   "cell_type": "code",
   "execution_count": 31,
   "id": "ae4d2dd0-5117-4159-9131-9b7ad4546af9",
   "metadata": {},
   "outputs": [],
   "source": [
    "fourth_array = np.array([[10,20,30,40,50]])"
   ]
  },
  {
   "cell_type": "code",
   "execution_count": 32,
   "id": "2c20e5c9-446b-47af-a47a-8dc3f78b959b",
   "metadata": {},
   "outputs": [
    {
     "ename": "ValueError",
     "evalue": "operands could not be broadcast together with shapes (1,5) (2,2) ",
     "output_type": "error",
     "traceback": [
      "\u001b[1;31m---------------------------------------------------------------------------\u001b[0m",
      "\u001b[1;31mValueError\u001b[0m                                Traceback (most recent call last)",
      "Cell \u001b[1;32mIn[32], line 1\u001b[0m\n\u001b[1;32m----> 1\u001b[0m fourth_array \u001b[38;5;241m+\u001b[39m firstArray\n",
      "\u001b[1;31mValueError\u001b[0m: operands could not be broadcast together with shapes (1,5) (2,2) "
     ]
    }
   ],
   "source": [
    "fourth_array + firstArray"
   ]
  },
  {
   "cell_type": "code",
   "execution_count": 34,
   "id": "627b2f05-9125-4b33-bc2f-2674d525043c",
   "metadata": {},
   "outputs": [
    {
     "data": {
      "text/plain": [
       "array([[ 2.5,  5. ],\n",
       "       [ 7.5, 10. ]])"
      ]
     },
     "execution_count": 34,
     "metadata": {},
     "output_type": "execute_result"
    }
   ],
   "source": [
    "firstArray /4"
   ]
  },
  {
   "cell_type": "code",
   "execution_count": 35,
   "id": "62d3dae7-f60c-4b08-8788-575e6b2fd25a",
   "metadata": {},
   "outputs": [],
   "source": [
    "thirdArray = np.array([[10],[20]])"
   ]
  },
  {
   "cell_type": "code",
   "execution_count": 36,
   "id": "98fb7976-2569-4d53-abb7-4497aa9f8501",
   "metadata": {},
   "outputs": [
    {
     "data": {
      "text/plain": [
       "array([[10],\n",
       "       [20]])"
      ]
     },
     "execution_count": 36,
     "metadata": {},
     "output_type": "execute_result"
    }
   ],
   "source": [
    "thirdArray"
   ]
  },
  {
   "cell_type": "code",
   "execution_count": 38,
   "id": "da0f8bc6-d14e-4d33-9f6e-f47d9b38f162",
   "metadata": {},
   "outputs": [
    {
     "data": {
      "text/plain": [
       "(2, 1)"
      ]
     },
     "execution_count": 38,
     "metadata": {},
     "output_type": "execute_result"
    }
   ],
   "source": [
    "thirdArray.shape"
   ]
  },
  {
   "cell_type": "code",
   "execution_count": 40,
   "id": "e6b9ba0b-f31c-4cf0-ae6a-24a50fd8e0c9",
   "metadata": {},
   "outputs": [
    {
     "data": {
      "text/plain": [
       "(2, 2)"
      ]
     },
     "execution_count": 40,
     "metadata": {},
     "output_type": "execute_result"
    }
   ],
   "source": [
    "firstArray.shape"
   ]
  },
  {
   "cell_type": "code",
   "execution_count": 41,
   "id": "b14b17c8-799c-4ec4-a2ac-bcbc80354f74",
   "metadata": {},
   "outputs": [
    {
     "data": {
      "text/plain": [
       "array([[20, 30],\n",
       "       [50, 60]])"
      ]
     },
     "execution_count": 41,
     "metadata": {},
     "output_type": "execute_result"
    }
   ],
   "source": [
    "firstArray + thirdArray"
   ]
  },
  {
   "cell_type": "code",
   "execution_count": 43,
   "id": "a1606ac4-f70f-4337-9023-909b109e2247",
   "metadata": {},
   "outputs": [],
   "source": [
    "#Matrix Multiplication"
   ]
  },
  {
   "cell_type": "code",
   "execution_count": 44,
   "id": "a9c7cf26-29ac-44a3-99dc-e899aa89bf37",
   "metadata": {},
   "outputs": [
    {
     "data": {
      "text/plain": [
       "array([[  50,  300],\n",
       "       [ 750, 1400]])"
      ]
     },
     "execution_count": 44,
     "metadata": {},
     "output_type": "execute_result"
    }
   ],
   "source": [
    "firstArray * secondArray"
   ]
  },
  {
   "cell_type": "code",
   "execution_count": 45,
   "id": "a59d4645-6e47-422d-b056-4f4944d25802",
   "metadata": {},
   "outputs": [],
   "source": [
    "# dot product "
   ]
  },
  {
   "cell_type": "code",
   "execution_count": 47,
   "id": "66c8eaae-c491-4c42-96b0-05df106ce622",
   "metadata": {},
   "outputs": [],
   "source": [
    "first = np.array([[10,20,30]])"
   ]
  },
  {
   "cell_type": "code",
   "execution_count": 48,
   "id": "aaa13740-20c7-48d5-844a-4e8bbead62e2",
   "metadata": {},
   "outputs": [
    {
     "data": {
      "text/plain": [
       "array([[10, 20, 30]])"
      ]
     },
     "execution_count": 48,
     "metadata": {},
     "output_type": "execute_result"
    }
   ],
   "source": [
    "first"
   ]
  },
  {
   "cell_type": "code",
   "execution_count": 49,
   "id": "79d81f37-5fbc-4201-b467-16ca09dd6afc",
   "metadata": {},
   "outputs": [
    {
     "data": {
      "text/plain": [
       "(1, 3)"
      ]
     },
     "execution_count": 49,
     "metadata": {},
     "output_type": "execute_result"
    }
   ],
   "source": [
    "first.shape"
   ]
  },
  {
   "cell_type": "code",
   "execution_count": 51,
   "id": "aeda1b62-8c23-45b7-9d15-d5d9a7db4c08",
   "metadata": {},
   "outputs": [],
   "source": [
    "second = np.array([[2,3],\n",
    "                   [2,3],\n",
    "                   [2,3]])\n",
    "                   "
   ]
  },
  {
   "cell_type": "code",
   "execution_count": 52,
   "id": "d17e5685-1f5e-4f0e-aff4-19cccc09d709",
   "metadata": {},
   "outputs": [
    {
     "data": {
      "text/plain": [
       "(3, 2)"
      ]
     },
     "execution_count": 52,
     "metadata": {},
     "output_type": "execute_result"
    }
   ],
   "source": [
    "second.shape\n"
   ]
  },
  {
   "cell_type": "code",
   "execution_count": 53,
   "id": "2640d00d-2392-4b0c-a5d8-2a5ece15361c",
   "metadata": {},
   "outputs": [],
   "source": [
    "sonuc = first.dot(second)"
   ]
  },
  {
   "cell_type": "code",
   "execution_count": 56,
   "id": "1663df1d-ebe1-4dd4-851c-6f01c3acff3a",
   "metadata": {},
   "outputs": [
    {
     "data": {
      "text/plain": [
       "array([[120, 180]])"
      ]
     },
     "execution_count": 56,
     "metadata": {},
     "output_type": "execute_result"
    }
   ],
   "source": [
    "sonuc"
   ]
  },
  {
   "cell_type": "code",
   "execution_count": null,
   "id": "20b48203-62be-4317-a88d-560b34da5437",
   "metadata": {},
   "outputs": [],
   "source": []
  }
 ],
 "metadata": {
  "kernelspec": {
   "display_name": "Python [conda env:base] *",
   "language": "python",
   "name": "conda-base-py"
  },
  "language_info": {
   "codemirror_mode": {
    "name": "ipython",
    "version": 3
   },
   "file_extension": ".py",
   "mimetype": "text/x-python",
   "name": "python",
   "nbconvert_exporter": "python",
   "pygments_lexer": "ipython3",
   "version": "3.13.5"
  }
 },
 "nbformat": 4,
 "nbformat_minor": 5
}
