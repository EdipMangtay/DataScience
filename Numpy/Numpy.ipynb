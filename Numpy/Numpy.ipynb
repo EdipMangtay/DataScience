{
 "cells": [
  {
   "cell_type": "code",
   "execution_count": 1,
   "id": "1c93369c-0a69-4d24-956b-4e8761697309",
   "metadata": {},
   "outputs": [],
   "source": [
    "import numpy as np"
   ]
  },
  {
   "cell_type": "code",
   "execution_count": 4,
   "id": "560d3537-8a11-472b-9471-f33b8c110910",
   "metadata": {},
   "outputs": [],
   "source": [
    "new_Array = np.random.randint(1,100,20)"
   ]
  },
  {
   "cell_type": "code",
   "execution_count": 5,
   "id": "318f7ffe-827f-4b8c-afe2-d1a76728c4d7",
   "metadata": {},
   "outputs": [
    {
     "data": {
      "text/plain": [
       "array([21, 75,  9,  4, 96, 12,  6, 97, 66, 11, 93, 81, 28, 85,  3, 89, 53,\n",
       "       10, 87, 49], dtype=int32)"
      ]
     },
     "execution_count": 5,
     "metadata": {},
     "output_type": "execute_result"
    }
   ],
   "source": [
    "new_Array"
   ]
  },
  {
   "cell_type": "code",
   "execution_count": 7,
   "id": "a99f567f-98cc-4ebf-a7c9-66d229c36f50",
   "metadata": {},
   "outputs": [
    {
     "data": {
      "text/plain": [
       "array([ True,  True, False, False,  True, False, False,  True,  True,\n",
       "       False,  True,  True,  True,  True, False,  True,  True, False,\n",
       "        True,  True])"
      ]
     },
     "execution_count": 7,
     "metadata": {},
     "output_type": "execute_result"
    }
   ],
   "source": [
    "new_Array >12"
   ]
  },
  {
   "cell_type": "code",
   "execution_count": 10,
   "id": "4353d6c3-c8b4-4218-8350-b64d40ffd69f",
   "metadata": {},
   "outputs": [
    {
     "data": {
      "text/plain": [
       "array([21, 75, 96, 97, 66, 93, 81, 28, 85, 89, 53, 87, 49], dtype=int32)"
      ]
     },
     "execution_count": 10,
     "metadata": {},
     "output_type": "execute_result"
    }
   ],
   "source": [
    "new_Array [new_Array >12]"
   ]
  },
  {
   "cell_type": "code",
   "execution_count": 11,
   "id": "b5a69d53-59ee-4823-bfaa-3b279e547068",
   "metadata": {},
   "outputs": [],
   "source": [
    "#Traspose"
   ]
  },
  {
   "cell_type": "code",
   "execution_count": 12,
   "id": "6b8d5680-1fe7-437b-be64-5ffafaff81de",
   "metadata": {},
   "outputs": [],
   "source": [
    "x = np.array([[10,20],[20,30],[30,40]])"
   ]
  },
  {
   "cell_type": "code",
   "execution_count": 13,
   "id": "7b881667-536e-41ca-9747-bbd9c3d501ae",
   "metadata": {},
   "outputs": [
    {
     "data": {
      "text/plain": [
       "array([[10, 20],\n",
       "       [20, 30],\n",
       "       [30, 40]])"
      ]
     },
     "execution_count": 13,
     "metadata": {},
     "output_type": "execute_result"
    }
   ],
   "source": [
    "x"
   ]
  },
  {
   "cell_type": "code",
   "execution_count": 14,
   "id": "e5e4cb47-3388-4351-baa1-f87486561eb9",
   "metadata": {},
   "outputs": [
    {
     "data": {
      "text/plain": [
       "(3, 2)"
      ]
     },
     "execution_count": 14,
     "metadata": {},
     "output_type": "execute_result"
    }
   ],
   "source": [
    "x.shape"
   ]
  },
  {
   "cell_type": "code",
   "execution_count": 18,
   "id": "d5762c82-2a2a-4872-bf9c-b07d47b6ccce",
   "metadata": {},
   "outputs": [
    {
     "data": {
      "text/plain": [
       "(2, 3)"
      ]
     },
     "execution_count": 18,
     "metadata": {},
     "output_type": "execute_result"
    }
   ],
   "source": [
    "x.transpose().shape"
   ]
  },
  {
   "cell_type": "code",
   "execution_count": 17,
   "id": "bf5c6992-d851-40d0-befb-cd166a4f4fac",
   "metadata": {},
   "outputs": [
    {
     "data": {
      "text/plain": [
       "(3, 2)"
      ]
     },
     "execution_count": 17,
     "metadata": {},
     "output_type": "execute_result"
    }
   ],
   "source": [
    "x.shape"
   ]
  },
  {
   "cell_type": "code",
   "execution_count": 19,
   "id": "c7bd583c-5b88-4f72-8e4e-b48fc5c6db2b",
   "metadata": {},
   "outputs": [
    {
     "data": {
      "text/plain": [
       "array([[10, 20, 30],\n",
       "       [20, 30, 40]])"
      ]
     },
     "execution_count": 19,
     "metadata": {},
     "output_type": "execute_result"
    }
   ],
   "source": [
    "x.T"
   ]
  },
  {
   "cell_type": "code",
   "execution_count": 35,
   "id": "1df87e5b-1c80-49a9-b2ea-3031c246b5f3",
   "metadata": {},
   "outputs": [],
   "source": [
    "randomx  = np.random.random((6,1))"
   ]
  },
  {
   "cell_type": "code",
   "execution_count": 36,
   "id": "23f6663d-39df-4008-834f-2d43ca9e3122",
   "metadata": {},
   "outputs": [
    {
     "data": {
      "text/plain": [
       "array([[0.26941538],\n",
       "       [0.0117735 ],\n",
       "       [0.77714661],\n",
       "       [0.75158658],\n",
       "       [0.23444152],\n",
       "       [0.07928888]])"
      ]
     },
     "execution_count": 36,
     "metadata": {},
     "output_type": "execute_result"
    }
   ],
   "source": [
    "randomx"
   ]
  },
  {
   "cell_type": "code",
   "execution_count": 39,
   "id": "6254c3ee-0f77-4cb5-8817-6fe173c153f4",
   "metadata": {},
   "outputs": [
    {
     "data": {
      "text/plain": [
       "array([[0.26941538, 0.0117735 , 0.77714661],\n",
       "       [0.75158658, 0.23444152, 0.07928888]])"
      ]
     },
     "execution_count": 39,
     "metadata": {},
     "output_type": "execute_result"
    }
   ],
   "source": [
    "randomx.reshape(2,3)"
   ]
  },
  {
   "cell_type": "code",
   "execution_count": 40,
   "id": "f458d4dc-9d9a-49d5-8890-9b410e988774",
   "metadata": {},
   "outputs": [
    {
     "data": {
      "text/plain": [
       "array([[0.26941538, 0.0117735 ],\n",
       "       [0.77714661, 0.75158658],\n",
       "       [0.23444152, 0.07928888]])"
      ]
     },
     "execution_count": 40,
     "metadata": {},
     "output_type": "execute_result"
    }
   ],
   "source": [
    "randomx.reshape(3,2)"
   ]
  },
  {
   "cell_type": "code",
   "execution_count": 41,
   "id": "1ebf3606-df2b-46ed-aa22-3539164f07cb",
   "metadata": {},
   "outputs": [],
   "source": [
    "# z-score"
   ]
  },
  {
   "cell_type": "code",
   "execution_count": 42,
   "id": "a4fe11e0-e114-4875-86a1-762f12748012",
   "metadata": {},
   "outputs": [],
   "source": [
    "data  = np.array([10,12,13,15,18,25,100,105])"
   ]
  },
  {
   "cell_type": "code",
   "execution_count": 44,
   "id": "c622b1d6-c661-4f87-93c3-6647d4b1a537",
   "metadata": {},
   "outputs": [
    {
     "data": {
      "text/plain": [
       "np.float64(37.25)"
      ]
     },
     "execution_count": 44,
     "metadata": {},
     "output_type": "execute_result"
    }
   ],
   "source": [
    "data.mean()"
   ]
  },
  {
   "cell_type": "code",
   "execution_count": 45,
   "id": "84de9cc0-1a39-47d3-a4ed-c484347b8bbb",
   "metadata": {},
   "outputs": [],
   "source": [
    "#outlier"
   ]
  },
  {
   "cell_type": "code",
   "execution_count": 46,
   "id": "0a6dd5fb-a50b-4808-8f78-cc9ed2395089",
   "metadata": {},
   "outputs": [],
   "source": [
    "mean = np.mean(data)"
   ]
  },
  {
   "cell_type": "code",
   "execution_count": 47,
   "id": "d923ed94-6194-4209-978f-9188a6a45d31",
   "metadata": {},
   "outputs": [
    {
     "data": {
      "text/plain": [
       "np.float64(37.25)"
      ]
     },
     "execution_count": 47,
     "metadata": {},
     "output_type": "execute_result"
    }
   ],
   "source": [
    "mean"
   ]
  },
  {
   "cell_type": "code",
   "execution_count": 50,
   "id": "b7d318aa-a326-4e12-8d8f-5c4b09b31912",
   "metadata": {},
   "outputs": [
    {
     "data": {
      "text/plain": [
       "np.float64(37.25)"
      ]
     },
     "execution_count": 50,
     "metadata": {},
     "output_type": "execute_result"
    }
   ],
   "source": [
    "data.sum() / len(data)"
   ]
  },
  {
   "cell_type": "code",
   "execution_count": 51,
   "id": "2f382ad5-91a0-418b-a606-ff3d55f2e6d5",
   "metadata": {},
   "outputs": [],
   "source": [
    "std = np.std(data)"
   ]
  },
  {
   "cell_type": "code",
   "execution_count": 52,
   "id": "8cfcdc2c-3b41-426c-be73-f3f2390b6e33",
   "metadata": {},
   "outputs": [
    {
     "data": {
      "text/plain": [
       "np.float64(37.9333296719389)"
      ]
     },
     "execution_count": 52,
     "metadata": {},
     "output_type": "execute_result"
    }
   ],
   "source": [
    "std"
   ]
  },
  {
   "cell_type": "code",
   "execution_count": 53,
   "id": "48db20a9-0ccd-4894-bf5b-00140d0d75b6",
   "metadata": {},
   "outputs": [],
   "source": [
    "z_score =  (data- mean) / std"
   ]
  },
  {
   "cell_type": "code",
   "execution_count": 54,
   "id": "bcac7d8d-5808-4ed3-995d-c5e1750c1ce4",
   "metadata": {},
   "outputs": [
    {
     "data": {
      "text/plain": [
       "array([-0.71836562, -0.66564154, -0.6392795 , -0.58655542, -0.50746929,\n",
       "       -0.322935  ,  1.65421809,  1.78602829])"
      ]
     },
     "execution_count": 54,
     "metadata": {},
     "output_type": "execute_result"
    }
   ],
   "source": [
    "z_score"
   ]
  },
  {
   "cell_type": "code",
   "execution_count": 57,
   "id": "c2c07279-cd08-4c42-8384-0e45fadde96f",
   "metadata": {},
   "outputs": [
    {
     "data": {
      "text/plain": [
       "array([100, 105])"
      ]
     },
     "execution_count": 57,
     "metadata": {},
     "output_type": "execute_result"
    }
   ],
   "source": [
    "data[z_score > 1] #outliers"
   ]
  },
  {
   "cell_type": "code",
   "execution_count": 58,
   "id": "f90ebb1e-ac4c-4b33-b0ff-6440459944ee",
   "metadata": {},
   "outputs": [],
   "source": [
    "#Math equations"
   ]
  },
  {
   "cell_type": "code",
   "execution_count": 59,
   "id": "972b6012-1030-41ac-a7ec-e08e71ba6de3",
   "metadata": {},
   "outputs": [],
   "source": [
    "#2x + 3y = 8 and 5x + 7y = 19"
   ]
  },
  {
   "cell_type": "code",
   "execution_count": 61,
   "id": "54190218-5c15-487f-b815-54f4521d75a0",
   "metadata": {},
   "outputs": [],
   "source": [
    "A = np.array([[2,3],[5,7]])"
   ]
  },
  {
   "cell_type": "code",
   "execution_count": 66,
   "id": "03a0d0d2-ce1d-42f4-a3ee-c300ede1a5f8",
   "metadata": {},
   "outputs": [],
   "source": [
    "B = np.array([128,19])"
   ]
  },
  {
   "cell_type": "code",
   "execution_count": 67,
   "id": "c7c32f05-db9f-47a9-aa3e-4650958e890f",
   "metadata": {},
   "outputs": [],
   "source": [
    "sol = np.linalg.solve(A,B)"
   ]
  },
  {
   "cell_type": "code",
   "execution_count": 68,
   "id": "171c6891-7f53-481f-8774-f877ab7426f6",
   "metadata": {},
   "outputs": [
    {
     "data": {
      "text/plain": [
       "array([-839.,  602.])"
      ]
     },
     "execution_count": 68,
     "metadata": {},
     "output_type": "execute_result"
    }
   ],
   "source": [
    "sol"
   ]
  },
  {
   "cell_type": "code",
   "execution_count": 69,
   "id": "a5216ecb-a7c6-44d5-bb2d-3ab916bcf038",
   "metadata": {},
   "outputs": [
    {
     "data": {
      "text/plain": [
       "array([4, 5, 2])"
      ]
     },
     "execution_count": 69,
     "metadata": {},
     "output_type": "execute_result"
    }
   ],
   "source": [
    "np.array([True, 1, 2]) + np.array([3, 4, False])\n"
   ]
  },
  {
   "cell_type": "code",
   "execution_count": 1,
   "id": "34399e3d-7258-44ac-aad3-204dfbb2a3ba",
   "metadata": {},
   "outputs": [
    {
     "name": "stdout",
     "output_type": "stream",
     "text": [
      "1D Array: [1 2 3 4 5]\n",
      "2D Array:\n",
      " [[1 2 3]\n",
      " [4 5 6]]\n",
      "Zeros Array:\n",
      " [[0. 0. 0.]\n",
      " [0. 0. 0.]]\n",
      "Ones Array:\n",
      " [[1 1]\n",
      " [1 1]\n",
      " [1 1]]\n",
      "Eye Matrix:\n",
      " [[1. 0. 0.]\n",
      " [0. 1. 0.]\n",
      " [0. 0. 1.]]\n",
      "Arange: [0 2 4 6 8]\n",
      "Linspace: [0.   0.25 0.5  0.75 1.  ]\n",
      "Empty Array:\n",
      " [[0.25 0.5 ]\n",
      " [0.75 1.  ]]\n",
      "arr Shape: (5,)\n",
      "arr Dtype: int64\n",
      "arr2d Ndim: 2\n",
      "arr2d Size: 6\n",
      "Float Array: [1. 2. 3. 4. 5.]\n",
      "arr[0]: 1\n",
      "Slice: [2 3 4]\n",
      "arr2d[1, 2]: 6\n",
      "Column Slice: [2 5]\n",
      "arr[-1]: 5\n",
      "Step Slice: [1 3 5]\n",
      "Add 10: [11 12 13 14 15]\n",
      "Subtract 2: [-1  0  1  2  3]\n",
      "Multiply 3: [ 3  6  9 12 15]\n",
      "Divide 2: [0.5 1.  1.5 2.  2.5]\n",
      "Array Sum: [6 6 6 6 6]\n",
      "Broadcasting:\n",
      " [[2 4 6]\n",
      " [5 7 9]]\n",
      "Power 2: [ 1  4  9 16 25]\n",
      "Mod 3: [1 2 0 1 2]\n",
      "Sum: 15\n",
      "Mean: 3.0\n",
      "Median: 3.0\n",
      "Std Dev: 1.4142135623730951\n",
      "Var: 2.0\n",
      "Min/Max: 1 5\n",
      "2D Sum Axis=0 (Sütun): [5 7 9]\n",
      "2D Mean Axis=1 (Satır): [2. 5.]\n",
      "Sin: [ 0.84147098  0.90929743  0.14112001 -0.7568025  -0.95892427]\n",
      "Exp: [  2.71828183   7.3890561   20.08553692  54.59815003 148.4131591 ]\n",
      "Log: [0.69314718 1.09861229 1.38629436 1.60943791 1.79175947]\n",
      "Round: [1. 3. 4.]\n",
      "Rand: [0.37454012 0.95071431 0.73199394]\n",
      "Randn:\n",
      " [[-1.11188012  0.31890218]\n",
      " [ 0.27904129  1.01051528]]\n",
      "Randint:\n",
      " [[8 3 6]\n",
      " [5 2 8]]\n",
      "Shuffled: [1 3 5 2 4]\n",
      "Choice: [3 2 5]\n",
      "Dot: [14 32]\n",
      "Matrix Mul:\n",
      " [[14]\n",
      " [32]]\n",
      "Inverse:\n",
      " [[-2.   1. ]\n",
      " [ 1.5 -0.5]]\n",
      "Eigenvalues: [-0.37228132  5.37228132]\n",
      "Eigenvectors:\n",
      " [[-0.82456484 -0.41597356]\n",
      " [ 0.56576746 -0.90937671]]\n",
      "SVD S: [5.4649857  0.36596619]\n",
      "Reshaped:\n",
      " [[1 2]\n",
      " [3 4]\n",
      " [5 6]]\n",
      "Flatten: [1 2 3 4 5 6]\n",
      "Vstack:\n",
      " [[1 2 3]\n",
      " [4 5 6]\n",
      " [1 2 3]\n",
      " [4 5 6]]\n",
      "Hstack:\n",
      " [[1 2 3 1 2 3]\n",
      " [4 5 6 4 5 6]]\n",
      "Concat: [1 2 3 4 5 1 2 3 4 5]\n",
      "Split: [array([1, 2]), array([3, 4]), array([5])]\n",
      "Boolean >3: [4 5]\n",
      "Fancy: [1 3 5]\n",
      "Masked Arr: [ 1 -1  3 -1  5]\n",
      "Where: [0 0 0 4 5]\n",
      "Argmax: 4\n",
      "View Etkisi: [99  2  3  4  5]\n",
      "Sorted: [1 2 3 4 5]\n",
      "Unique: [1 2 3]\n",
      "Adv Broadcast:\n",
      " [[5 6 7]\n",
      " [6 7 8]\n",
      " [7 8 9]]\n"
     ]
    }
   ],
   "source": [
    "# NumPy Kapsamlı Rehber: Temelden İleri Seviyeye Örnekler\n",
    "# Bu script, NumPy'nin temelinden ileri seviyesine kadar en çok kullanılan özelliklerini kapsar.\n",
    "# Her bölümde detaylı açıklamalar yorum satırları olarak eklenmiştir.\n",
    "# Veri bilimi perspektifinden örnekler odaklanılmıştır: Veri manipülasyonu, analiz, makine öğrenmesi hazırlığı.\n",
    "# Script'i çalıştırarak çıktıları görebilirsiniz. Jupyter Notebook'ta denemenizi öneririm.\n",
    "# Önce NumPy'yi import edelim.\n",
    "import numpy as np\n",
    "\n",
    "# Bölüm 1: Temel Array Oluşturma\n",
    "# NumPy array'ler, Python listelerinden daha hızlı ve verimli. Çok boyutlu olabilirler.\n",
    "# Neden önemli? Veri setlerini temsil etmek için temel yapı.\n",
    "\n",
    "# 1.1 Basit 1D Array Oluşturma\n",
    "# np.array() ile bir liste array'e dönüştürülür.\n",
    "arr = np.array([1, 2, 3, 4, 5])  # Integer array\n",
    "print(\"1D Array:\", arr)  # Çıktı: [1 2 3 4 5]\n",
    "\n",
    "# 1.2 2D Array (Matris) Oluşturma\n",
    "# İç içe listelerle çok boyutlu array.\n",
    "arr2d = np.array([[1, 2, 3], [4, 5, 6]])  # 2 satır, 3 sütun\n",
    "print(\"2D Array:\\n\", arr2d)  # Çıktı: [[1 2 3] [4 5 6]]\n",
    "\n",
    "# 1.3 Sıfır Dolu Array\n",
    "# np.zeros(): Başlangıç matrisi için kullanılır, veri bilimi: Boş veri seti doldurma.\n",
    "zeros = np.zeros((2, 3))  # 2x3 sıfır matrisi, dtype=float varsayılan\n",
    "print(\"Zeros Array:\\n\", zeros)  # Çıktı: [[0. 0. 0.] [0. 0. 0.]]\n",
    "\n",
    "# 1.4 Bir Dolu Array\n",
    "# np.ones(): Sabit değerlerle doldurma, örneğin normalizasyon için.\n",
    "ones = np.ones((3, 2), dtype=int)  # 3x2 bir matrisi, integer tipi\n",
    "print(\"Ones Array:\\n\", ones)  # Çıktı: [[1 1] [1 1] [1 1]]\n",
    "\n",
    "# 1.5 Birim Matris\n",
    "# np.eye(): Lineer cebirde diagonal matris için, makine öğrenmesi: Kimlik matrisi.\n",
    "eye = np.eye(3)  # 3x3 birim matris\n",
    "print(\"Eye Matrix:\\n\", eye)  # Çıktı: [[1. 0. 0.] [0. 1. 0.] [0. 0. 1.]]\n",
    "\n",
    "# 1.6 Aralıklı Sayılar: np.arange()\n",
    "# Range gibi, ama float destekler. Zaman serisi indeksleri için pratik.\n",
    "arange = np.arange(0, 10, 2)  # 0'dan 10'a 2'şer adım\n",
    "print(\"Arange:\", arange)  # Çıktı: [0 2 4 6 8]\n",
    "\n",
    "# 1.7 Eşit Aralıklı Sayılar: np.linspace()\n",
    "# Örnekleme için kullanılır, veri görselleştirme: Eşit dağılımlı noktalar.\n",
    "linspace = np.linspace(0, 1, 5)  # 0-1 arası 5 nokta\n",
    "print(\"Linspace:\", linspace)  # Çıktı: [0.   0.25 0.5  0.75 1.  ]\n",
    "\n",
    "# 1.8 Boş Array (Rastgele Değerler)\n",
    "# np.empty(): Hızlı boş array, ama değerler belirsiz (bellekten kalıntı).\n",
    "empty = np.empty((2, 2))  # 2x2 boş, değerler rastgele olabilir\n",
    "print(\"Empty Array:\\n\", empty)  # Çıktı: Rastgele değerler\n",
    "\n",
    "# Bölüm 2: Array Özellikleri\n",
    "# Array'lerin shape, dtype gibi özelliklerini inceleme. Hataları önlemek için önemli.\n",
    "\n",
    "# 2.1 Shape: Boyutlar\n",
    "print(\"arr Shape:\", arr.shape)  # Çıktı: (5,) - 1D, 5 eleman\n",
    "\n",
    "# 2.2 Dtype: Veri Tipi\n",
    "print(\"arr Dtype:\", arr.dtype)  # Çıktı: int64 (makineye göre değişir)\n",
    "\n",
    "# 2.3 Ndim: Boyut Sayısı\n",
    "print(\"arr2d Ndim:\", arr2d.ndim)  # Çıktı: 2\n",
    "\n",
    "# 2.4 Size: Toplam Eleman Sayısı\n",
    "print(\"arr2d Size:\", arr2d.size)  # Çıktı: 6\n",
    "\n",
    "# 2.5 Tip Dönüştürme\n",
    "# astype(): Veri bilimi: Float'a çevirmek için (hesaplamalarda hassasiyet).\n",
    "float_arr = arr.astype(np.float32)\n",
    "print(\"Float Array:\", float_arr)  # Çıktı: [1. 2. 3. 4. 5.]\n",
    "\n",
    "# Bölüm 3: İndeksleme ve Slicing\n",
    "# Veri çekme, filtreleme için temel. Çok boyutlu slicing güçlü.\n",
    "\n",
    "# 3.1 Tek Eleman Erişimi\n",
    "print(\"arr[0]:\", arr[0])  # Çıktı: 1\n",
    "\n",
    "# 3.2 Slicing: Alt Küme\n",
    "slice_arr = arr[1:4]  # 1'den 4'e kadar (dahil değil)\n",
    "print(\"Slice:\", slice_arr)  # Çıktı: [2 3 4]\n",
    "\n",
    "# 3.3 2D İndeksleme\n",
    "print(\"arr2d[1, 2]:\", arr2d[1, 2])  # 2. satır, 3. sütun: 6\n",
    "\n",
    "# 3.4 Kolon/Sütun Slicing\n",
    "col = arr2d[:, 1]  # Tüm satırlar, 2. sütun\n",
    "print(\"Column Slice:\", col)  # Çıktı: [2 5]\n",
    "\n",
    "# 3.5 Negatif İndeksleme\n",
    "print(\"arr[-1]:\", arr[-1])  # Son eleman: 5\n",
    "\n",
    "# 3.6 Adım Atlamalı Slicing\n",
    "step_slice = arr[::2]  # Her 2. eleman\n",
    "print(\"Step Slice:\", step_slice)  # Çıktı: [1 3 5]\n",
    "\n",
    "# Bölüm 4: Aritmetik İşlemler ve Broadcasting\n",
    "# Vektörel işlemler: Döngü olmadan hızlı hesap. Veri normalizasyonu için ideal.\n",
    "\n",
    "# 4.1 Basit Aritmetik\n",
    "add = arr + 10  # Her elemana 10 ekle\n",
    "print(\"Add 10:\", add)  # Çıktı: [11 12 13 14 15]\n",
    "\n",
    "sub = arr - 2\n",
    "print(\"Subtract 2:\", sub)  # Çıktı: [-1  0  1  2  3]\n",
    "\n",
    "mul = arr * 3\n",
    "print(\"Multiply 3:\", mul)  # Çıktı: [ 3  6  9 12 15]\n",
    "\n",
    "div = arr / 2\n",
    "print(\"Divide 2:\", div)  # Çıktı: [0.5 1.  1.5 2.  2.5]\n",
    "\n",
    "# 4.2 Array-Array İşlemleri\n",
    "arr_sum = arr + np.array([5, 4, 3, 2, 1])\n",
    "print(\"Array Sum:\", arr_sum)  # Çıktı: [6 6 6 6 6]\n",
    "\n",
    "# 4.3 Broadcasting: Farklı Boyutları Uyumlu Hale Getir\n",
    "# 2D array'e 1D ekleme: Her satıra uygula.\n",
    "broadcast = arr2d + np.array([1, 2, 3])\n",
    "print(\"Broadcasting:\\n\", broadcast)  # Çıktı: [[2 4 6] [5 7 9]]\n",
    "\n",
    "# 4.4 Güç Alma ve Mod\n",
    "power = arr ** 2\n",
    "print(\"Power 2:\", power)  # Çıktı: [ 1  4  9 16 25]\n",
    "\n",
    "mod = arr % 3\n",
    "print(\"Mod 3:\", mod)  # Çıktı: [1 2 0 1 2]\n",
    "\n",
    "# Bölüm 5: Matematiksel ve İstatistiksel Fonksiyonlar\n",
    "# Veri analizi: Ortalama, varyans vb. Axis ile boyut bazında hesap.\n",
    "\n",
    "# 5.1 Temel İstatistik\n",
    "print(\"Sum:\", arr.sum())  # 15\n",
    "print(\"Mean:\", arr.mean())  # 3.0\n",
    "print(\"Median:\", np.median(arr))  # 3.0\n",
    "print(\"Std Dev:\", arr.std())  # Standart sapma: ~1.414\n",
    "print(\"Var:\", arr.var())  # Varyans: 2.0\n",
    "print(\"Min/Max:\", arr.min(), arr.max())  # 1 5\n",
    "\n",
    "# 5.2 Axis Bazında: Sütun/Satır\n",
    "print(\"2D Sum Axis=0 (Sütun):\", arr2d.sum(axis=0))  # [5 7 9]\n",
    "print(\"2D Mean Axis=1 (Satır):\", arr2d.mean(axis=1))  # [2. 5.]\n",
    "\n",
    "# 5.3 Trigonometrik Fonksiyonlar\n",
    "sin_arr = np.sin(arr)\n",
    "print(\"Sin:\", sin_arr)  # Sinüs değerleri\n",
    "\n",
    "# 5.4 Exponential ve Log\n",
    "exp = np.exp(arr)\n",
    "print(\"Exp:\", exp)  # e^arr\n",
    "\n",
    "log = np.log(arr + 1)  # Logaritma (0 önlemek için +1)\n",
    "print(\"Log:\", log)\n",
    "\n",
    "# 5.5 Yuvarlama\n",
    "round_arr = np.round(np.array([1.2, 2.7, 3.5]))\n",
    "print(\"Round:\", round_arr)  # [1. 3. 4.]\n",
    "\n",
    "# Bölüm 6: Rastgele Sayılar (np.random)\n",
    "# Simülasyon, veri üretme, bootstrapping için. Makine öğrenmesi: Random seed ile tekrarlanabilirlik.\n",
    "\n",
    "# 6.1 Seed Ayarlama (Tekrarlanabilirlik)\n",
    "np.random.seed(42)  # Aynı sonuçlar için\n",
    "\n",
    "# 6.2 Uniform Rastgele (0-1 arası)\n",
    "rand = np.random.rand(3)  # 3 rastgele float\n",
    "print(\"Rand:\", rand)\n",
    "\n",
    "# 6.3 Normal Dağılım\n",
    "randn = np.random.randn(2, 2)  # Standart normal (mean=0, std=1)\n",
    "print(\"Randn:\\n\", randn)\n",
    "\n",
    "# 6.4 Tamsayı Rastgele\n",
    "randint = np.random.randint(1, 10, size=(2, 3))  # 1-10 arası, 2x3\n",
    "print(\"Randint:\\n\", randint)\n",
    "\n",
    "# 6.5 Karıştırma\n",
    "shuffle_arr = np.array([1,2,3,4,5])\n",
    "np.random.shuffle(shuffle_arr)\n",
    "print(\"Shuffled:\", shuffle_arr)\n",
    "\n",
    "# 6.6 Seçim Yapma\n",
    "choice = np.random.choice(arr, size=3, replace=False)  # Tekrarsız 3 seçim\n",
    "print(\"Choice:\", choice)\n",
    "\n",
    "# Bölüm 7: Lineer Cebir (np.linalg ve Dot)\n",
    "# Makine öğrenmesi: Regresyon, PCA, matris işlemleri.\n",
    "\n",
    "# 7.1 Nokta Çarpımı (Dot Product)\n",
    "dot = np.dot(arr2d, np.array([1, 2, 3]))  # Matris * vektör\n",
    "print(\"Dot:\", dot)  # [14 32]\n",
    "\n",
    "# 7.2 Matris Çarpımı (@ operatörü)\n",
    "mat_mul = arr2d @ np.array([[1], [2], [3]])\n",
    "print(\"Matrix Mul:\\n\", mat_mul)\n",
    "\n",
    "# 7.3 Matris Tersi\n",
    "square = np.array([[1, 2], [3, 4]])\n",
    "inv = np.linalg.inv(square)\n",
    "print(\"Inverse:\\n\", inv)\n",
    "\n",
    "# 7.4 Özdeğerler ve Özvektörler\n",
    "eigvals, eigvecs = np.linalg.eig(square)\n",
    "print(\"Eigenvalues:\", eigvals)\n",
    "print(\"Eigenvectors:\\n\", eigvecs)\n",
    "\n",
    "# 7.5 SVD (Singular Value Decomposition)\n",
    "u, s, vh = np.linalg.svd(square)\n",
    "print(\"SVD S:\", s)\n",
    "\n",
    "# Bölüm 8: Reshape, Stack, Split ve Concat\n",
    "# Veri dönüştürme: Makine öğrenmesi input hazırlama.\n",
    "\n",
    "# 8.1 Reshape: Boyut Değiştir\n",
    "reshaped = arr2d.reshape(3, 2)\n",
    "print(\"Reshaped:\\n\", reshaped)  # [[1 2] [3 4] [5 6]]\n",
    "\n",
    "# 8.2 Flatten/Ravel: Düzleştir\n",
    "flat = arr2d.flatten()\n",
    "print(\"Flatten:\", flat)  # [1 2 3 4 5 6]\n",
    "\n",
    "# 8.3 Stack: Birleştirme\n",
    "vstack = np.vstack((arr2d, arr2d))  # Dikey\n",
    "print(\"Vstack:\\n\", vstack)\n",
    "\n",
    "hstack = np.hstack((arr2d, arr2d))  # Yatay\n",
    "print(\"Hstack:\\n\", hstack)\n",
    "\n",
    "# 8.4 Concatenate\n",
    "concat = np.concatenate((arr, arr), axis=0)\n",
    "print(\"Concat:\", concat)  # [1 2 3 4 5 1 2 3 4 5]\n",
    "\n",
    "# 8.5 Split: Bölme\n",
    "split = np.split(arr, [2, 4])\n",
    "print(\"Split:\", split)  # [array([1,2]), array([3,4]), array([5])]\n",
    "\n",
    "# Bölüm 9: İleri İndeksleme (Boolean, Fancy, Mask)\n",
    "# Veri filtreleme, selection için güçlü.\n",
    "\n",
    "# 9.1 Boolean İndeksleme\n",
    "bool_idx = arr > 3\n",
    "print(\"Boolean >3:\", arr[bool_idx])  # [4 5]\n",
    "\n",
    "# 9.2 Fancy Indexing: Belirli İndeksler\n",
    "fancy = arr[[0, 2, 4]]\n",
    "print(\"Fancy:\", fancy)  # [1 3 5]\n",
    "\n",
    "# 9.3 Mask ile Değiştirme\n",
    "mask = arr % 2 == 0\n",
    "arr[mask] = -1  # Çiftleri -1 yap\n",
    "print(\"Masked Arr:\", arr)  # [1 -1 3 -1 5] (orijinal arr değişti, dikkat!)\n",
    "\n",
    "# Orijinali geri al (örnek için)\n",
    "arr = np.array([1, 2, 3, 4, 5])\n",
    "\n",
    "# 9.4 Where: Koşullu Değer Atama\n",
    "where = np.where(arr > 3, arr, 0)  # >3 ise kendisi, yoksa 0\n",
    "print(\"Where:\", where)  # [0 0 0 4 5]\n",
    "\n",
    "# 9.5 Argmax/Argmin: Maks/Min İndeks\n",
    "print(\"Argmax:\", arr.argmax())  # 4 (indeks)\n",
    "\n",
    "# Bölüm 10: İleri Konular ve Performans\n",
    "# Büyük veri için ipuçları.\n",
    "\n",
    "# 10.1 Copy vs View\n",
    "view = arr.view()  # Referans, değişiklik arr'ı etkiler\n",
    "copy = arr.copy()  # Bağımsız kopya\n",
    "view[0] = 99\n",
    "print(\"View Etkisi:\", arr)  # [99 2 3 4 5]\n",
    "arr[0] = 1  # Geri al\n",
    "\n",
    "# 10.2 Sort\n",
    "sorted_arr = np.sort(arr)\n",
    "print(\"Sorted:\", sorted_arr)\n",
    "\n",
    "# 10.3 Unique Değerler\n",
    "unique = np.unique(np.array([1,2,2,3]))\n",
    "print(\"Unique:\", unique)  # [1 2 3]\n",
    "\n",
    "# 10.4 Broadcasting İleri Örnek\n",
    "a = np.array([[1], [2], [3]])\n",
    "b = np.array([4, 5, 6])\n",
    "broadcast_adv = a + b  # 3x1 + 1x3 -> 3x3\n",
    "print(\"Adv Broadcast:\\n\", broadcast_adv)\n",
    "\n",
    "# 10.5 Memmap: Büyük Dosyalar İçin (Bellek Tasarrufu)\n",
    "# Örnek: Gerçek dosyada kullan, burada simüle.\n",
    "# mm = np.memmap('dosya.npy', dtype='float32', mode='w+', shape=(1000,1000))\n",
    "\n",
    "# Sonuç: Bu script ile NumPy'yi pratik yapın. Veri bilimi projelerinde uygulayın!"
   ]
  },
  {
   "cell_type": "code",
   "execution_count": null,
   "id": "f7b9b396-84d0-4726-8a8a-15e899b148a3",
   "metadata": {},
   "outputs": [],
   "source": []
  }
 ],
 "metadata": {
  "kernelspec": {
   "display_name": "Python [conda env:base] *",
   "language": "python",
   "name": "conda-base-py"
  },
  "language_info": {
   "codemirror_mode": {
    "name": "ipython",
    "version": 3
   },
   "file_extension": ".py",
   "mimetype": "text/x-python",
   "name": "python",
   "nbconvert_exporter": "python",
   "pygments_lexer": "ipython3",
   "version": "3.13.5"
  }
 },
 "nbformat": 4,
 "nbformat_minor": 5
}
