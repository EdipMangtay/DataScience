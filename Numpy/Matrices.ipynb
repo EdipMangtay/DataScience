{
 "cells": [
  {
   "cell_type": "code",
   "execution_count": 1,
   "id": "e3041fcc-8374-4525-9dd7-681841fe3c68",
   "metadata": {},
   "outputs": [],
   "source": [
    "import numpy as np"
   ]
  },
  {
   "cell_type": "code",
   "execution_count": 2,
   "id": "46b6503e-f5e2-4de9-bc1e-4851ae606a66",
   "metadata": {},
   "outputs": [],
   "source": [
    "myMatrix = [[5,10],[15,20]]"
   ]
  },
  {
   "cell_type": "code",
   "execution_count": 7,
   "id": "fb58b099-0dbf-45f4-be50-d868ce8e2005",
   "metadata": {},
   "outputs": [
    {
     "data": {
      "text/plain": [
       "10"
      ]
     },
     "execution_count": 7,
     "metadata": {},
     "output_type": "execute_result"
    }
   ],
   "source": [
    "myMatrix[0][1]"
   ]
  },
  {
   "cell_type": "code",
   "execution_count": 8,
   "id": "55e92213-030e-4260-ad1d-8f69b8e3ef11",
   "metadata": {},
   "outputs": [],
   "source": [
    "# row * column"
   ]
  },
  {
   "cell_type": "code",
   "execution_count": 10,
   "id": "14909ef5-e777-482b-8efe-38e15ccbb498",
   "metadata": {},
   "outputs": [],
   "source": [
    "numpy_matrix = np.array([[5,15],[15,20]])"
   ]
  },
  {
   "cell_type": "code",
   "execution_count": 11,
   "id": "1bd472a0-7b14-4e5d-8c40-61567a1cc4fb",
   "metadata": {},
   "outputs": [
    {
     "data": {
      "text/plain": [
       "array([[ 5, 15],\n",
       "       [15, 20]])"
      ]
     },
     "execution_count": 11,
     "metadata": {},
     "output_type": "execute_result"
    }
   ],
   "source": [
    "numpy_matrix"
   ]
  },
  {
   "cell_type": "code",
   "execution_count": 12,
   "id": "a5386a10-94c2-40a6-80ed-12d66696ae39",
   "metadata": {},
   "outputs": [
    {
     "data": {
      "text/plain": [
       "np.int64(15)"
      ]
     },
     "execution_count": 12,
     "metadata": {},
     "output_type": "execute_result"
    }
   ],
   "source": [
    "numpy_matrix[1][0]"
   ]
  },
  {
   "cell_type": "code",
   "execution_count": 13,
   "id": "48f8fb4a-139c-48c4-8e33-f0e1bd0a0b2f",
   "metadata": {},
   "outputs": [
    {
     "data": {
      "text/plain": [
       "np.int64(55)"
      ]
     },
     "execution_count": 13,
     "metadata": {},
     "output_type": "execute_result"
    }
   ],
   "source": [
    "numpy_matrix.sum()"
   ]
  },
  {
   "cell_type": "code",
   "execution_count": 15,
   "id": "99420cba-1ae7-4977-971d-605e6ac83196",
   "metadata": {},
   "outputs": [
    {
     "data": {
      "text/plain": [
       "array([[1., 1., 1., 1., 1.],\n",
       "       [1., 1., 1., 1., 1.],\n",
       "       [1., 1., 1., 1., 1.]])"
      ]
     },
     "execution_count": 15,
     "metadata": {},
     "output_type": "execute_result"
    }
   ],
   "source": [
    "np.ones((3,5))"
   ]
  },
  {
   "cell_type": "code",
   "execution_count": 16,
   "id": "a6781856-b18f-4e61-a3d0-af6e9014b826",
   "metadata": {},
   "outputs": [
    {
     "data": {
      "text/plain": [
       "array([[0., 0., 0., 0., 0.],\n",
       "       [0., 0., 0., 0., 0.],\n",
       "       [0., 0., 0., 0., 0.]])"
      ]
     },
     "execution_count": 16,
     "metadata": {},
     "output_type": "execute_result"
    }
   ],
   "source": [
    "np.zeros((3,5))"
   ]
  },
  {
   "cell_type": "code",
   "execution_count": 18,
   "id": "dba570e2-ae1c-4312-a5ca-c33cd9417c00",
   "metadata": {},
   "outputs": [
    {
     "data": {
      "text/plain": [
       "array([[0., 0., 0., 0., 0., 0., 0., 0., 0., 0.],\n",
       "       [0., 0., 0., 0., 0., 0., 0., 0., 0., 0.],\n",
       "       [0., 0., 0., 0., 0., 0., 0., 0., 0., 0.],\n",
       "       [0., 0., 0., 0., 0., 0., 0., 0., 0., 0.],\n",
       "       [0., 0., 0., 0., 0., 0., 0., 0., 0., 0.]])"
      ]
     },
     "execution_count": 18,
     "metadata": {},
     "output_type": "execute_result"
    }
   ],
   "source": [
    "np.zeros((5,10))"
   ]
  },
  {
   "cell_type": "code",
   "execution_count": 19,
   "id": "7a96cd26-4a7e-42a2-a2ac-7e99532713c2",
   "metadata": {},
   "outputs": [],
   "source": [
    "#Matrix Arithmetic"
   ]
  },
  {
   "cell_type": "code",
   "execution_count": 20,
   "id": "f61915b3-5d2e-4da1-b6f6-7a7831fcbdc4",
   "metadata": {},
   "outputs": [],
   "source": [
    "firstArray = np.array([[10,20],[30,40]])"
   ]
  },
  {
   "cell_type": "code",
   "execution_count": 22,
   "id": "bb812552-0078-4314-acad-9db624f0bdb7",
   "metadata": {},
   "outputs": [],
   "source": [
    "secondArray = np.array([[5,15],[25,35]])"
   ]
  },
  {
   "cell_type": "code",
   "execution_count": 24,
   "id": "9c45b579-5aad-4267-b3a5-66ca9181e2e7",
   "metadata": {},
   "outputs": [
    {
     "data": {
      "text/plain": [
       "array([[15, 35],\n",
       "       [55, 75]])"
      ]
     },
     "execution_count": 24,
     "metadata": {},
     "output_type": "execute_result"
    }
   ],
   "source": [
    "firstArray + secondArray # index sırasına göre yapılır"
   ]
  },
  {
   "cell_type": "code",
   "execution_count": 25,
   "id": "fe4c1b95-2bfc-46cc-bb09-939a1a342d1d",
   "metadata": {},
   "outputs": [
    {
     "data": {
      "text/plain": [
       "array([[ 50, 100],\n",
       "       [150, 200]])"
      ]
     },
     "execution_count": 25,
     "metadata": {},
     "output_type": "execute_result"
    }
   ],
   "source": [
    "firstArray *5"
   ]
  },
  {
   "cell_type": "code",
   "execution_count": 26,
   "id": "2de46fc3-83a6-471a-ab32-b816da73fa22",
   "metadata": {},
   "outputs": [
    {
     "data": {
      "text/plain": [
       "array([[20, 30],\n",
       "       [40, 50]])"
      ]
     },
     "execution_count": 26,
     "metadata": {},
     "output_type": "execute_result"
    }
   ],
   "source": [
    "firstArray + 10"
   ]
  },
  {
   "cell_type": "code",
   "execution_count": 27,
   "id": "2c45c310-4794-41be-ada7-eaebb786c153",
   "metadata": {},
   "outputs": [
    {
     "data": {
      "text/plain": [
       "array([[10, 20],\n",
       "       [30, 40]])"
      ]
     },
     "execution_count": 27,
     "metadata": {},
     "output_type": "execute_result"
    }
   ],
   "source": [
    "firstArray "
   ]
  },
  {
   "cell_type": "code",
   "execution_count": 29,
   "id": "7a0c6714-b158-4e07-bf06-a53ffe28bf72",
   "metadata": {},
   "outputs": [],
   "source": [
    "thirdArray = np.array([[50,60]])"
   ]
  },
  {
   "cell_type": "code",
   "execution_count": 30,
   "id": "9c1b5dc3-41cd-4cab-af60-47560fe6df34",
   "metadata": {},
   "outputs": [
    {
     "data": {
      "text/plain": [
       "array([[ 60,  80],\n",
       "       [ 80, 100]])"
      ]
     },
     "execution_count": 30,
     "metadata": {},
     "output_type": "execute_result"
    }
   ],
   "source": [
    "firstArray + thirdArray"
   ]
  },
  {
   "cell_type": "code",
   "execution_count": 31,
   "id": "ae4d2dd0-5117-4159-9131-9b7ad4546af9",
   "metadata": {},
   "outputs": [],
   "source": [
    "fourth_array = np.array([[10,20,30,40,50]])"
   ]
  },
  {
   "cell_type": "code",
   "execution_count": 32,
   "id": "2c20e5c9-446b-47af-a47a-8dc3f78b959b",
   "metadata": {},
   "outputs": [
    {
     "ename": "ValueError",
     "evalue": "operands could not be broadcast together with shapes (1,5) (2,2) ",
     "output_type": "error",
     "traceback": [
      "\u001b[1;31m---------------------------------------------------------------------------\u001b[0m",
      "\u001b[1;31mValueError\u001b[0m                                Traceback (most recent call last)",
      "Cell \u001b[1;32mIn[32], line 1\u001b[0m\n\u001b[1;32m----> 1\u001b[0m fourth_array \u001b[38;5;241m+\u001b[39m firstArray\n",
      "\u001b[1;31mValueError\u001b[0m: operands could not be broadcast together with shapes (1,5) (2,2) "
     ]
    }
   ],
   "source": [
    "fourth_array + firstArray"
   ]
  },
  {
   "cell_type": "code",
   "execution_count": 34,
   "id": "627b2f05-9125-4b33-bc2f-2674d525043c",
   "metadata": {},
   "outputs": [
    {
     "data": {
      "text/plain": [
       "array([[ 2.5,  5. ],\n",
       "       [ 7.5, 10. ]])"
      ]
     },
     "execution_count": 34,
     "metadata": {},
     "output_type": "execute_result"
    }
   ],
   "source": [
    "firstArray /4"
   ]
  },
  {
   "cell_type": "code",
   "execution_count": 35,
   "id": "62d3dae7-f60c-4b08-8788-575e6b2fd25a",
   "metadata": {},
   "outputs": [],
   "source": [
    "thirdArray = np.array([[10],[20]])"
   ]
  },
  {
   "cell_type": "code",
   "execution_count": 36,
   "id": "98fb7976-2569-4d53-abb7-4497aa9f8501",
   "metadata": {},
   "outputs": [
    {
     "data": {
      "text/plain": [
       "array([[10],\n",
       "       [20]])"
      ]
     },
     "execution_count": 36,
     "metadata": {},
     "output_type": "execute_result"
    }
   ],
   "source": [
    "thirdArray"
   ]
  },
  {
   "cell_type": "code",
   "execution_count": 38,
   "id": "da0f8bc6-d14e-4d33-9f6e-f47d9b38f162",
   "metadata": {},
   "outputs": [
    {
     "data": {
      "text/plain": [
       "(2, 1)"
      ]
     },
     "execution_count": 38,
     "metadata": {},
     "output_type": "execute_result"
    }
   ],
   "source": [
    "thirdArray.shape"
   ]
  },
  {
   "cell_type": "code",
   "execution_count": 40,
   "id": "e6b9ba0b-f31c-4cf0-ae6a-24a50fd8e0c9",
   "metadata": {},
   "outputs": [
    {
     "data": {
      "text/plain": [
       "(2, 2)"
      ]
     },
     "execution_count": 40,
     "metadata": {},
     "output_type": "execute_result"
    }
   ],
   "source": [
    "firstArray.shape"
   ]
  },
  {
   "cell_type": "code",
   "execution_count": 41,
   "id": "b14b17c8-799c-4ec4-a2ac-bcbc80354f74",
   "metadata": {},
   "outputs": [
    {
     "data": {
      "text/plain": [
       "array([[20, 30],\n",
       "       [50, 60]])"
      ]
     },
     "execution_count": 41,
     "metadata": {},
     "output_type": "execute_result"
    }
   ],
   "source": [
    "firstArray + thirdArray"
   ]
  },
  {
   "cell_type": "code",
   "execution_count": 43,
   "id": "a1606ac4-f70f-4337-9023-909b109e2247",
   "metadata": {},
   "outputs": [],
   "source": [
    "#Matrix Multiplication"
   ]
  },
  {
   "cell_type": "code",
   "execution_count": 44,
   "id": "a9c7cf26-29ac-44a3-99dc-e899aa89bf37",
   "metadata": {},
   "outputs": [
    {
     "data": {
      "text/plain": [
       "array([[  50,  300],\n",
       "       [ 750, 1400]])"
      ]
     },
     "execution_count": 44,
     "metadata": {},
     "output_type": "execute_result"
    }
   ],
   "source": [
    "firstArray * secondArray"
   ]
  },
  {
   "cell_type": "code",
   "execution_count": 45,
   "id": "a59d4645-6e47-422d-b056-4f4944d25802",
   "metadata": {},
   "outputs": [],
   "source": [
    "# dot product "
   ]
  },
  {
   "cell_type": "code",
   "execution_count": 47,
   "id": "66c8eaae-c491-4c42-96b0-05df106ce622",
   "metadata": {},
   "outputs": [],
   "source": [
    "first = np.array([[10,20,30]])"
   ]
  },
  {
   "cell_type": "code",
   "execution_count": 48,
   "id": "aaa13740-20c7-48d5-844a-4e8bbead62e2",
   "metadata": {},
   "outputs": [
    {
     "data": {
      "text/plain": [
       "array([[10, 20, 30]])"
      ]
     },
     "execution_count": 48,
     "metadata": {},
     "output_type": "execute_result"
    }
   ],
   "source": [
    "first"
   ]
  },
  {
   "cell_type": "code",
   "execution_count": 49,
   "id": "79d81f37-5fbc-4201-b467-16ca09dd6afc",
   "metadata": {},
   "outputs": [
    {
     "data": {
      "text/plain": [
       "(1, 3)"
      ]
     },
     "execution_count": 49,
     "metadata": {},
     "output_type": "execute_result"
    }
   ],
   "source": [
    "first.shape"
   ]
  },
  {
   "cell_type": "code",
   "execution_count": 51,
   "id": "aeda1b62-8c23-45b7-9d15-d5d9a7db4c08",
   "metadata": {},
   "outputs": [],
   "source": [
    "second = np.array([[2,3],\n",
    "                   [2,3],\n",
    "                   [2,3]])\n",
    "                   "
   ]
  },
  {
   "cell_type": "code",
   "execution_count": 52,
   "id": "d17e5685-1f5e-4f0e-aff4-19cccc09d709",
   "metadata": {},
   "outputs": [
    {
     "data": {
      "text/plain": [
       "(3, 2)"
      ]
     },
     "execution_count": 52,
     "metadata": {},
     "output_type": "execute_result"
    }
   ],
   "source": [
    "second.shape\n"
   ]
  },
  {
   "cell_type": "code",
   "execution_count": 53,
   "id": "2640d00d-2392-4b0c-a5d8-2a5ece15361c",
   "metadata": {},
   "outputs": [],
   "source": [
    "sonuc = first.dot(second)"
   ]
  },
  {
   "cell_type": "code",
   "execution_count": 56,
   "id": "1663df1d-ebe1-4dd4-851c-6f01c3acff3a",
   "metadata": {},
   "outputs": [
    {
     "data": {
      "text/plain": [
       "array([[120, 180]])"
      ]
     },
     "execution_count": 56,
     "metadata": {},
     "output_type": "execute_result"
    }
   ],
   "source": [
    "sonuc"
   ]
  },
  {
   "cell_type": "code",
   "execution_count": 57,
   "id": "20b48203-62be-4317-a88d-560b34da5437",
   "metadata": {},
   "outputs": [
    {
     "name": "stdout",
     "output_type": "stream",
     "text": [
      "Veri Array'i: [10 11 12 13 14 15 16 17 18 19 20]\n",
      "\n",
      "3. index'teki eleman: 13\n",
      "2. index'ten 5. index'e kadar (5 dahil değil): [12 13 14]\n",
      "Son 3 eleman: [18 19 20]\n",
      "\n",
      "Test Matrisi:\n",
      " [[ 5 10 15]\n",
      " [20 25 30]\n",
      " [35 40 45]]\n",
      "\n",
      "1. satır, 2. sütundaki eleman: 30\n",
      "0. satırın tamamı: [ 5 10 15]\n",
      "Tüm satırların 1. sütunu: [10 25 40]\n",
      "\n",
      "İlk iki satırın son iki sütunu:\n",
      " [[10 15]\n",
      " [25 30]]\n"
     ]
    }
   ],
   "source": [
    "veri = np.arange(10, 21)\n",
    "print(\"Veri Array'i:\", veri)\n",
    "\n",
    "# Tek bir elemana erişme\n",
    "print(\"\\n3. index'teki eleman:\", veri[3]) # Çıktı: 13\n",
    "\n",
    "# Belirli bir aralığı alma (slicing)\n",
    "print(\"2. index'ten 5. index'e kadar (5 dahil değil):\", veri[2:5]) # Çıktı: [12 13 14]\n",
    "\n",
    "# Son 3 elemanı alma\n",
    "print(\"Son 3 eleman:\", veri[-3:]) # Çıktı: [18 19 20]\n",
    "\n",
    "# --- 2 Boyutlu Array'lerde Slicing ---\n",
    "matris = np.array([[5, 10, 15], [20, 25, 30], [35, 40, 45]])\n",
    "print(\"\\nTest Matrisi:\\n\", matris)\n",
    "\n",
    "# Belirli bir eleman [satır, sütun]\n",
    "print(\"\\n1. satır, 2. sütundaki eleman:\", matris[1, 2]) # Çıktı: 30\n",
    "\n",
    "# Belirli bir satırın tamamını alma\n",
    "print(\"0. satırın tamamı:\", matris[0, :]) # veya kısaca matris[0] -> Çıktı: [ 5 10 15]\n",
    "\n",
    "# Belirli bir sütunun tamamını alma\n",
    "print(\"Tüm satırların 1. sütunu:\", matris[:, 1]) # Çıktı: [10 25 40]\n",
    "\n",
    "# Belirli bir bölgeyi alma\n",
    "# 0. ve 1. satırların, 1. ve 2. sütunlarını al\n",
    "print(\"\\nİlk iki satırın son iki sütunu:\\n\", matris[0:2, 1:3])"
   ]
  },
  {
   "cell_type": "code",
   "execution_count": 58,
   "id": "23f84e49-913e-4d08-8578-e6ee71b6c9a8",
   "metadata": {},
   "outputs": [
    {
     "name": "stdout",
     "output_type": "stream",
     "text": [
      "[0.   0.25 0.5  0.75 1.  ]\n"
     ]
    }
   ],
   "source": [
    "linspace = np.linspace(0, 1, 5)  # 0-1 arası 5 eşit nokta\n",
    "print(linspace)"
   ]
  },
  {
   "cell_type": "code",
   "execution_count": 59,
   "id": "2ade1d41-8a7b-4b9f-aad0-e2ee588bb689",
   "metadata": {},
   "outputs": [
    {
     "name": "stdout",
     "output_type": "stream",
     "text": [
      "1D Array: [1 2 3 4 5]\n",
      "2D Array:\n",
      " [[1 2 3]\n",
      " [4 5 6]]\n",
      "Zeros Array:\n",
      " [[0. 0. 0.]\n",
      " [0. 0. 0.]]\n",
      "Ones Array:\n",
      " [[1 1]\n",
      " [1 1]\n",
      " [1 1]]\n",
      "Eye Matrix:\n",
      " [[1. 0. 0.]\n",
      " [0. 1. 0.]\n",
      " [0. 0. 1.]]\n",
      "Arange: [0 2 4 6 8]\n",
      "Linspace: [0.   0.25 0.5  0.75 1.  ]\n",
      "Empty Array:\n",
      " [[0.25 0.5 ]\n",
      " [0.75 1.  ]]\n",
      "arr Shape: (5,)\n",
      "arr Dtype: int64\n",
      "arr2d Ndim: 2\n",
      "arr2d Size: 6\n",
      "Float Array: [1. 2. 3. 4. 5.]\n",
      "arr[0]: 1\n",
      "Slice: [2 3 4]\n",
      "arr2d[1, 2]: 6\n",
      "Column Slice: [2 5]\n",
      "arr[-1]: 5\n",
      "Step Slice: [1 3 5]\n",
      "Add 10: [11 12 13 14 15]\n",
      "Subtract 2: [-1  0  1  2  3]\n",
      "Multiply 3: [ 3  6  9 12 15]\n",
      "Divide 2: [0.5 1.  1.5 2.  2.5]\n",
      "Array Sum: [6 6 6 6 6]\n",
      "Broadcasting:\n",
      " [[2 4 6]\n",
      " [5 7 9]]\n",
      "Power 2: [ 1  4  9 16 25]\n",
      "Mod 3: [1 2 0 1 2]\n",
      "Sum: 15\n",
      "Mean: 3.0\n",
      "Median: 3.0\n",
      "Std Dev: 1.4142135623730951\n",
      "Var: 2.0\n",
      "Min/Max: 1 5\n",
      "2D Sum Axis=0 (Sütun): [5 7 9]\n",
      "2D Mean Axis=1 (Satır): [2. 5.]\n",
      "Sin: [ 0.84147098  0.90929743  0.14112001 -0.7568025  -0.95892427]\n",
      "Exp: [  2.71828183   7.3890561   20.08553692  54.59815003 148.4131591 ]\n",
      "Log: [0.69314718 1.09861229 1.38629436 1.60943791 1.79175947]\n",
      "Round: [1. 3. 4.]\n",
      "Rand: [0.37454012 0.95071431 0.73199394]\n",
      "Randn:\n",
      " [[-1.11188012  0.31890218]\n",
      " [ 0.27904129  1.01051528]]\n",
      "Randint:\n",
      " [[8 3 6]\n",
      " [5 2 8]]\n",
      "Shuffled: [1 3 5 2 4]\n",
      "Choice: [3 2 5]\n",
      "Dot: [14 32]\n",
      "Matrix Mul:\n",
      " [[14]\n",
      " [32]]\n",
      "Inverse:\n",
      " [[-2.   1. ]\n",
      " [ 1.5 -0.5]]\n",
      "Eigenvalues: [-0.37228132  5.37228132]\n",
      "Eigenvectors:\n",
      " [[-0.82456484 -0.41597356]\n",
      " [ 0.56576746 -0.90937671]]\n",
      "SVD S: [5.4649857  0.36596619]\n",
      "Reshaped:\n",
      " [[1 2]\n",
      " [3 4]\n",
      " [5 6]]\n",
      "Flatten: [1 2 3 4 5 6]\n",
      "Vstack:\n",
      " [[1 2 3]\n",
      " [4 5 6]\n",
      " [1 2 3]\n",
      " [4 5 6]]\n",
      "Hstack:\n",
      " [[1 2 3 1 2 3]\n",
      " [4 5 6 4 5 6]]\n",
      "Concat: [1 2 3 4 5 1 2 3 4 5]\n",
      "Split: [array([1, 2]), array([3, 4]), array([5])]\n",
      "Boolean >3: [4 5]\n",
      "Fancy: [1 3 5]\n",
      "Masked Arr: [ 1 -1  3 -1  5]\n",
      "Where: [0 0 0 4 5]\n",
      "Argmax: 4\n",
      "View Etkisi: [99  2  3  4  5]\n",
      "Sorted: [1 2 3 4 5]\n",
      "Unique: [1 2 3]\n",
      "Adv Broadcast:\n",
      " [[5 6 7]\n",
      " [6 7 8]\n",
      " [7 8 9]]\n"
     ]
    }
   ],
   "source": [
    "# NumPy Kapsamlı Rehber: Temelden İleri Seviyeye Örnekler\n",
    "# Bu script, NumPy'nin temelinden ileri seviyesine kadar en çok kullanılan özelliklerini kapsar.\n",
    "# Her bölümde detaylı açıklamalar yorum satırları olarak eklenmiştir.\n",
    "# Veri bilimi perspektifinden örnekler odaklanılmıştır: Veri manipülasyonu, analiz, makine öğrenmesi hazırlığı.\n",
    "# Script'i çalıştırarak çıktıları görebilirsiniz. Jupyter Notebook'ta denemenizi öneririm.\n",
    "# Önce NumPy'yi import edelim.\n",
    "import numpy as np\n",
    "\n",
    "# Bölüm 1: Temel Array Oluşturma\n",
    "# NumPy array'ler, Python listelerinden daha hızlı ve verimli. Çok boyutlu olabilirler.\n",
    "# Neden önemli? Veri setlerini temsil etmek için temel yapı.\n",
    "\n",
    "# 1.1 Basit 1D Array Oluşturma\n",
    "# np.array() ile bir liste array'e dönüştürülür.\n",
    "arr = np.array([1, 2, 3, 4, 5])  # Integer array\n",
    "print(\"1D Array:\", arr)  # Çıktı: [1 2 3 4 5]\n",
    "\n",
    "# 1.2 2D Array (Matris) Oluşturma\n",
    "# İç içe listelerle çok boyutlu array.\n",
    "arr2d = np.array([[1, 2, 3], [4, 5, 6]])  # 2 satır, 3 sütun\n",
    "print(\"2D Array:\\n\", arr2d)  # Çıktı: [[1 2 3] [4 5 6]]\n",
    "\n",
    "# 1.3 Sıfır Dolu Array\n",
    "# np.zeros(): Başlangıç matrisi için kullanılır, veri bilimi: Boş veri seti doldurma.\n",
    "zeros = np.zeros((2, 3))  # 2x3 sıfır matrisi, dtype=float varsayılan\n",
    "print(\"Zeros Array:\\n\", zeros)  # Çıktı: [[0. 0. 0.] [0. 0. 0.]]\n",
    "\n",
    "# 1.4 Bir Dolu Array\n",
    "# np.ones(): Sabit değerlerle doldurma, örneğin normalizasyon için.\n",
    "ones = np.ones((3, 2), dtype=int)  # 3x2 bir matrisi, integer tipi\n",
    "print(\"Ones Array:\\n\", ones)  # Çıktı: [[1 1] [1 1] [1 1]]\n",
    "\n",
    "# 1.5 Birim Matris\n",
    "# np.eye(): Lineer cebirde diagonal matris için, makine öğrenmesi: Kimlik matrisi.\n",
    "eye = np.eye(3)  # 3x3 birim matris\n",
    "print(\"Eye Matrix:\\n\", eye)  # Çıktı: [[1. 0. 0.] [0. 1. 0.] [0. 0. 1.]]\n",
    "\n",
    "# 1.6 Aralıklı Sayılar: np.arange()\n",
    "# Range gibi, ama float destekler. Zaman serisi indeksleri için pratik.\n",
    "arange = np.arange(0, 10, 2)  # 0'dan 10'a 2'şer adım\n",
    "print(\"Arange:\", arange)  # Çıktı: [0 2 4 6 8]\n",
    "\n",
    "# 1.7 Eşit Aralıklı Sayılar: np.linspace()\n",
    "# Örnekleme için kullanılır, veri görselleştirme: Eşit dağılımlı noktalar.\n",
    "linspace = np.linspace(0, 1, 5)  # 0-1 arası 5 nokta\n",
    "print(\"Linspace:\", linspace)  # Çıktı: [0.   0.25 0.5  0.75 1.  ]\n",
    "\n",
    "# 1.8 Boş Array (Rastgele Değerler)\n",
    "# np.empty(): Hızlı boş array, ama değerler belirsiz (bellekten kalıntı).\n",
    "empty = np.empty((2, 2))  # 2x2 boş, değerler rastgele olabilir\n",
    "print(\"Empty Array:\\n\", empty)  # Çıktı: Rastgele değerler\n",
    "\n",
    "# Bölüm 2: Array Özellikleri\n",
    "# Array'lerin shape, dtype gibi özelliklerini inceleme. Hataları önlemek için önemli.\n",
    "\n",
    "# 2.1 Shape: Boyutlar\n",
    "print(\"arr Shape:\", arr.shape)  # Çıktı: (5,) - 1D, 5 eleman\n",
    "\n",
    "# 2.2 Dtype: Veri Tipi\n",
    "print(\"arr Dtype:\", arr.dtype)  # Çıktı: int64 (makineye göre değişir)\n",
    "\n",
    "# 2.3 Ndim: Boyut Sayısı\n",
    "print(\"arr2d Ndim:\", arr2d.ndim)  # Çıktı: 2\n",
    "\n",
    "# 2.4 Size: Toplam Eleman Sayısı\n",
    "print(\"arr2d Size:\", arr2d.size)  # Çıktı: 6\n",
    "\n",
    "# 2.5 Tip Dönüştürme\n",
    "# astype(): Veri bilimi: Float'a çevirmek için (hesaplamalarda hassasiyet).\n",
    "float_arr = arr.astype(np.float32)\n",
    "print(\"Float Array:\", float_arr)  # Çıktı: [1. 2. 3. 4. 5.]\n",
    "\n",
    "# Bölüm 3: İndeksleme ve Slicing\n",
    "# Veri çekme, filtreleme için temel. Çok boyutlu slicing güçlü.\n",
    "\n",
    "# 3.1 Tek Eleman Erişimi\n",
    "print(\"arr[0]:\", arr[0])  # Çıktı: 1\n",
    "\n",
    "# 3.2 Slicing: Alt Küme\n",
    "slice_arr = arr[1:4]  # 1'den 4'e kadar (dahil değil)\n",
    "print(\"Slice:\", slice_arr)  # Çıktı: [2 3 4]\n",
    "\n",
    "# 3.3 2D İndeksleme\n",
    "print(\"arr2d[1, 2]:\", arr2d[1, 2])  # 2. satır, 3. sütun: 6\n",
    "\n",
    "# 3.4 Kolon/Sütun Slicing\n",
    "col = arr2d[:, 1]  # Tüm satırlar, 2. sütun\n",
    "print(\"Column Slice:\", col)  # Çıktı: [2 5]\n",
    "\n",
    "# 3.5 Negatif İndeksleme\n",
    "print(\"arr[-1]:\", arr[-1])  # Son eleman: 5\n",
    "\n",
    "# 3.6 Adım Atlamalı Slicing\n",
    "step_slice = arr[::2]  # Her 2. eleman\n",
    "print(\"Step Slice:\", step_slice)  # Çıktı: [1 3 5]\n",
    "\n",
    "# Bölüm 4: Aritmetik İşlemler ve Broadcasting\n",
    "# Vektörel işlemler: Döngü olmadan hızlı hesap. Veri normalizasyonu için ideal.\n",
    "\n",
    "# 4.1 Basit Aritmetik\n",
    "add = arr + 10  # Her elemana 10 ekle\n",
    "print(\"Add 10:\", add)  # Çıktı: [11 12 13 14 15]\n",
    "\n",
    "sub = arr - 2\n",
    "print(\"Subtract 2:\", sub)  # Çıktı: [-1  0  1  2  3]\n",
    "\n",
    "mul = arr * 3\n",
    "print(\"Multiply 3:\", mul)  # Çıktı: [ 3  6  9 12 15]\n",
    "\n",
    "div = arr / 2\n",
    "print(\"Divide 2:\", div)  # Çıktı: [0.5 1.  1.5 2.  2.5]\n",
    "\n",
    "# 4.2 Array-Array İşlemleri\n",
    "arr_sum = arr + np.array([5, 4, 3, 2, 1])\n",
    "print(\"Array Sum:\", arr_sum)  # Çıktı: [6 6 6 6 6]\n",
    "\n",
    "# 4.3 Broadcasting: Farklı Boyutları Uyumlu Hale Getir\n",
    "# 2D array'e 1D ekleme: Her satıra uygula.\n",
    "broadcast = arr2d + np.array([1, 2, 3])\n",
    "print(\"Broadcasting:\\n\", broadcast)  # Çıktı: [[2 4 6] [5 7 9]]\n",
    "\n",
    "# 4.4 Güç Alma ve Mod\n",
    "power = arr ** 2\n",
    "print(\"Power 2:\", power)  # Çıktı: [ 1  4  9 16 25]\n",
    "\n",
    "mod = arr % 3\n",
    "print(\"Mod 3:\", mod)  # Çıktı: [1 2 0 1 2]\n",
    "\n",
    "# Bölüm 5: Matematiksel ve İstatistiksel Fonksiyonlar\n",
    "# Veri analizi: Ortalama, varyans vb. Axis ile boyut bazında hesap.\n",
    "\n",
    "# 5.1 Temel İstatistik\n",
    "print(\"Sum:\", arr.sum())  # 15\n",
    "print(\"Mean:\", arr.mean())  # 3.0\n",
    "print(\"Median:\", np.median(arr))  # 3.0\n",
    "print(\"Std Dev:\", arr.std())  # Standart sapma: ~1.414\n",
    "print(\"Var:\", arr.var())  # Varyans: 2.0\n",
    "print(\"Min/Max:\", arr.min(), arr.max())  # 1 5\n",
    "\n",
    "# 5.2 Axis Bazında: Sütun/Satır\n",
    "print(\"2D Sum Axis=0 (Sütun):\", arr2d.sum(axis=0))  # [5 7 9]\n",
    "print(\"2D Mean Axis=1 (Satır):\", arr2d.mean(axis=1))  # [2. 5.]\n",
    "\n",
    "# 5.3 Trigonometrik Fonksiyonlar\n",
    "sin_arr = np.sin(arr)\n",
    "print(\"Sin:\", sin_arr)  # Sinüs değerleri\n",
    "\n",
    "# 5.4 Exponential ve Log\n",
    "exp = np.exp(arr)\n",
    "print(\"Exp:\", exp)  # e^arr\n",
    "\n",
    "log = np.log(arr + 1)  # Logaritma (0 önlemek için +1)\n",
    "print(\"Log:\", log)\n",
    "\n",
    "# 5.5 Yuvarlama\n",
    "round_arr = np.round(np.array([1.2, 2.7, 3.5]))\n",
    "print(\"Round:\", round_arr)  # [1. 3. 4.]\n",
    "\n",
    "# Bölüm 6: Rastgele Sayılar (np.random)\n",
    "# Simülasyon, veri üretme, bootstrapping için. Makine öğrenmesi: Random seed ile tekrarlanabilirlik.\n",
    "\n",
    "# 6.1 Seed Ayarlama (Tekrarlanabilirlik)\n",
    "np.random.seed(42)  # Aynı sonuçlar için\n",
    "\n",
    "# 6.2 Uniform Rastgele (0-1 arası)\n",
    "rand = np.random.rand(3)  # 3 rastgele float\n",
    "print(\"Rand:\", rand)\n",
    "\n",
    "# 6.3 Normal Dağılım\n",
    "randn = np.random.randn(2, 2)  # Standart normal (mean=0, std=1)\n",
    "print(\"Randn:\\n\", randn)\n",
    "\n",
    "# 6.4 Tamsayı Rastgele\n",
    "randint = np.random.randint(1, 10, size=(2, 3))  # 1-10 arası, 2x3\n",
    "print(\"Randint:\\n\", randint)\n",
    "\n",
    "# 6.5 Karıştırma\n",
    "shuffle_arr = np.array([1,2,3,4,5])\n",
    "np.random.shuffle(shuffle_arr)\n",
    "print(\"Shuffled:\", shuffle_arr)\n",
    "\n",
    "# 6.6 Seçim Yapma\n",
    "choice = np.random.choice(arr, size=3, replace=False)  # Tekrarsız 3 seçim\n",
    "print(\"Choice:\", choice)\n",
    "\n",
    "# Bölüm 7: Lineer Cebir (np.linalg ve Dot)\n",
    "# Makine öğrenmesi: Regresyon, PCA, matris işlemleri.\n",
    "\n",
    "# 7.1 Nokta Çarpımı (Dot Product)\n",
    "dot = np.dot(arr2d, np.array([1, 2, 3]))  # Matris * vektör\n",
    "print(\"Dot:\", dot)  # [14 32]\n",
    "\n",
    "# 7.2 Matris Çarpımı (@ operatörü)\n",
    "mat_mul = arr2d @ np.array([[1], [2], [3]])\n",
    "print(\"Matrix Mul:\\n\", mat_mul)\n",
    "\n",
    "# 7.3 Matris Tersi\n",
    "square = np.array([[1, 2], [3, 4]])\n",
    "inv = np.linalg.inv(square)\n",
    "print(\"Inverse:\\n\", inv)\n",
    "\n",
    "# 7.4 Özdeğerler ve Özvektörler\n",
    "eigvals, eigvecs = np.linalg.eig(square)\n",
    "print(\"Eigenvalues:\", eigvals)\n",
    "print(\"Eigenvectors:\\n\", eigvecs)\n",
    "\n",
    "# 7.5 SVD (Singular Value Decomposition)\n",
    "u, s, vh = np.linalg.svd(square)\n",
    "print(\"SVD S:\", s)\n",
    "\n",
    "# Bölüm 8: Reshape, Stack, Split ve Concat\n",
    "# Veri dönüştürme: Makine öğrenmesi input hazırlama.\n",
    "\n",
    "# 8.1 Reshape: Boyut Değiştir\n",
    "reshaped = arr2d.reshape(3, 2)\n",
    "print(\"Reshaped:\\n\", reshaped)  # [[1 2] [3 4] [5 6]]\n",
    "\n",
    "# 8.2 Flatten/Ravel: Düzleştir\n",
    "flat = arr2d.flatten()\n",
    "print(\"Flatten:\", flat)  # [1 2 3 4 5 6]\n",
    "\n",
    "# 8.3 Stack: Birleştirme\n",
    "vstack = np.vstack((arr2d, arr2d))  # Dikey\n",
    "print(\"Vstack:\\n\", vstack)\n",
    "\n",
    "hstack = np.hstack((arr2d, arr2d))  # Yatay\n",
    "print(\"Hstack:\\n\", hstack)\n",
    "\n",
    "# 8.4 Concatenate\n",
    "concat = np.concatenate((arr, arr), axis=0)\n",
    "print(\"Concat:\", concat)  # [1 2 3 4 5 1 2 3 4 5]\n",
    "\n",
    "# 8.5 Split: Bölme\n",
    "split = np.split(arr, [2, 4])\n",
    "print(\"Split:\", split)  # [array([1,2]), array([3,4]), array([5])]\n",
    "\n",
    "# Bölüm 9: İleri İndeksleme (Boolean, Fancy, Mask)\n",
    "# Veri filtreleme, selection için güçlü.\n",
    "\n",
    "# 9.1 Boolean İndeksleme\n",
    "bool_idx = arr > 3\n",
    "print(\"Boolean >3:\", arr[bool_idx])  # [4 5]\n",
    "\n",
    "# 9.2 Fancy Indexing: Belirli İndeksler\n",
    "fancy = arr[[0, 2, 4]]\n",
    "print(\"Fancy:\", fancy)  # [1 3 5]\n",
    "\n",
    "# 9.3 Mask ile Değiştirme\n",
    "mask = arr % 2 == 0\n",
    "arr[mask] = -1  # Çiftleri -1 yap\n",
    "print(\"Masked Arr:\", arr)  # [1 -1 3 -1 5] (orijinal arr değişti, dikkat!)\n",
    "\n",
    "# Orijinali geri al (örnek için)\n",
    "arr = np.array([1, 2, 3, 4, 5])\n",
    "\n",
    "# 9.4 Where: Koşullu Değer Atama\n",
    "where = np.where(arr > 3, arr, 0)  # >3 ise kendisi, yoksa 0\n",
    "print(\"Where:\", where)  # [0 0 0 4 5]\n",
    "\n",
    "# 9.5 Argmax/Argmin: Maks/Min İndeks\n",
    "print(\"Argmax:\", arr.argmax())  # 4 (indeks)\n",
    "\n",
    "# Bölüm 10: İleri Konular ve Performans\n",
    "# Büyük veri için ipuçları.\n",
    "\n",
    "# 10.1 Copy vs View\n",
    "view = arr.view()  # Referans, değişiklik arr'ı etkiler\n",
    "copy = arr.copy()  # Bağımsız kopya\n",
    "view[0] = 99\n",
    "print(\"View Etkisi:\", arr)  # [99 2 3 4 5]\n",
    "arr[0] = 1  # Geri al\n",
    "\n",
    "# 10.2 Sort\n",
    "sorted_arr = np.sort(arr)\n",
    "print(\"Sorted:\", sorted_arr)\n",
    "\n",
    "# 10.3 Unique Değerler\n",
    "unique = np.unique(np.array([1,2,2,3]))\n",
    "print(\"Unique:\", unique)  # [1 2 3]\n",
    "\n",
    "# 10.4 Broadcasting İleri Örnek\n",
    "a = np.array([[1], [2], [3]])\n",
    "b = np.array([4, 5, 6])\n",
    "broadcast_adv = a + b  # 3x1 + 1x3 -> 3x3\n",
    "print(\"Adv Broadcast:\\n\", broadcast_adv)\n",
    "\n",
    "# 10.5 Memmap: Büyük Dosyalar İçin (Bellek Tasarrufu)\n",
    "# Örnek: Gerçek dosyada kullan, burada simüle.\n",
    "# mm = np.memmap('dosya.npy', dtype='float32', mode='w+', shape=(1000,1000))\n",
    "\n",
    "# Sonuç: Bu script ile NumPy'yi pratik yapın. Veri bilimi projelerinde uygulayın!"
   ]
  },
  {
   "cell_type": "code",
   "execution_count": null,
   "id": "3bfdaa2f-910c-481b-9af5-6ae69f81071f",
   "metadata": {},
   "outputs": [],
   "source": []
  }
 ],
 "metadata": {
  "kernelspec": {
   "display_name": "Python [conda env:base] *",
   "language": "python",
   "name": "conda-base-py"
  },
  "language_info": {
   "codemirror_mode": {
    "name": "ipython",
    "version": 3
   },
   "file_extension": ".py",
   "mimetype": "text/x-python",
   "name": "python",
   "nbconvert_exporter": "python",
   "pygments_lexer": "ipython3",
   "version": "3.13.5"
  }
 },
 "nbformat": 4,
 "nbformat_minor": 5
}
