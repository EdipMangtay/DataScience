{
 "cells": [
  {
   "cell_type": "raw",
   "id": "73580f96-060d-4041-b152-5e71d60178f7",
   "metadata": {},
   "source": [
    "Understanding Missing Values in Feature Engineering\n",
    "When working with real-world data, missing values are a common problem. In feature engineering, handling missing values correctly is crucial because they can affect the performance of machine learning models.\n",
    "\n",
    "Types of Missing Values\n",
    "Missing values can be categorized into three main types:\n",
    "\n",
    "1. Missing Completely at Random (MCAR)\n",
    "The missing values occur randomly and have no relationship with any other variable in the dataset.\n",
    "Example: A person forgets to fill in their age in a survey.\n",
    "Effect: No bias is introduced, and dropping missing values or imputing them with a simple method like mean/median is usually fine.\n",
    "2. Missing at Random (MAR)\n",
    "The missing values are related to other observed variables but not to the missing data itself.\n",
    "Example: In a medical dataset, men are more likely to skip answering a question about weight, but within each gender, weight is missing randomly.\n",
    "Effect: More advanced imputation methods like regression or using related features to fill in the missing values can be useful.\n",
    "3. Missing Not at Random (MNAR)\n",
    "The missing values depend on the unobserved data itself, meaning the reason for missingness is not random.\n",
    "Example: People with higher incomes may choose not to report their salaries in a survey.\n",
    "Effect: This can introduce bias, and handling MNAR often requires domain knowledge or special techniques like modeling the missingness separately."
   ]
  },
  {
   "cell_type": "code",
   "execution_count": null,
   "id": "93539eb5-a0ec-4e09-b987-3606a220cda6",
   "metadata": {},
   "outputs": [],
   "source": []
  }
 ],
 "metadata": {
  "kernelspec": {
   "display_name": "Python [conda env:base] *",
   "language": "python",
   "name": "conda-base-py"
  },
  "language_info": {
   "codemirror_mode": {
    "name": "ipython",
    "version": 3
   },
   "file_extension": ".py",
   "mimetype": "text/x-python",
   "name": "python",
   "nbconvert_exporter": "python",
   "pygments_lexer": "ipython3",
   "version": "3.13.5"
  }
 },
 "nbformat": 4,
 "nbformat_minor": 5
}
